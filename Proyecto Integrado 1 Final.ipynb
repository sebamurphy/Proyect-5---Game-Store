{
 "cells": [
  {
   "cell_type": "markdown",
   "id": "b4dd71a6",
   "metadata": {},
   "source": [
    "# Instrucciones para completar el proyecto"
   ]
  },
  {
   "cell_type": "markdown",
   "id": "1555ea2a",
   "metadata": {},
   "source": [
    "Paso 1. Abre el archivo de datos y estudia la información general"
   ]
  },
  {
   "cell_type": "markdown",
   "id": "7aed15e8",
   "metadata": {},
   "source": [
    "Paso 2. Prepara los datos"
   ]
  },
  {
   "cell_type": "markdown",
   "id": "69747c8a",
   "metadata": {},
   "source": [
    "- Reemplazaremos los nombres de las columnas (minúsculas).\n",
    "\n",
    "- Convertiremos los datos en los tipos necesarios.\n",
    "\n",
    "- Describiremos las columnas en las que los tipos de datos han sido cambiados y explica por qué.\n",
    "\n",
    "- Si es necesario, eligiremos la manera de tratar los valores ausentes:\n",
    "\n",
    "- Explica por qué rellenaste los valores ausentes como lo hiciste o por qué decidiste dejarlos en blanco.\n",
    "\n",
    "- ¿Por qué creo que los valores están ausentes? Brindaremos explicaciones posibles.\n",
    "\n",
    "- Prestaremos atención a la abreviatura TBD: significa \"to be determined\" (a determinar). Especificaremos cómo pienso manejar estos casos.\n",
    "\n",
    "- Calcularemos las ventas totales (la suma de las ventas en todas las regiones) para cada juego y colocaremos estos valores en una columna separada."
   ]
  },
  {
   "cell_type": "markdown",
   "id": "62b36498",
   "metadata": {},
   "source": [
    "Paso 3. Analiza los datos"
   ]
  },
  {
   "cell_type": "markdown",
   "id": "9efb237c",
   "metadata": {},
   "source": [
    "- Miraremos cuántos juegos fueron lanzados en diferentes años. ¿Son significativos los datos de cada período?\n",
    "\n",
    "- Observaremos cómo varían las ventas de una plataforma a otra. Eligiremos las plataformas con las mayores ventas totales y construiremos una distribución basada en los datos de cada año. Buscaremos las plataformas que solían ser populares pero que ahora no tienen ventas. ¿Cuánto tardan generalmente las nuevas plataformas en aparecer y las antiguas en desaparecer?\n",
    "\n",
    "- Determinaremos para qué período debemos tomar datos. Para hacerlo miraremos las respuestas a las preguntas anteriores. Los datos deberían permitirnos construir un modelo para 2017.\n",
    "\n",
    "- Trabajaremos solo con los datos que consideramos relevantes. Ignoraremos los datos de años anteriores.\n",
    "\n",
    "- ¿Qué plataformas son líderes en ventas? ¿Cuáles crecen y cuáles se reducen? Elegiremos varias plataformas potencialmente rentables.\n",
    "\n",
    "- Crearemos un diagrama de caja para las ventas globales de todos los juegos, desglosados por plataforma. ¿Son significativas las diferencias en las ventas? ¿Qué sucede con las ventas promedio en varias plataformas? Describamos los hallazgos.\n",
    "\n",
    "- Miraremos cómo las reseñas de usuarios y profesionales afectan las ventas de una plataforma popular (tu elección). Crearemos un gráfico de dispersión y calcularemos la correlación entre las reseñas y las ventas. Sacaremos conclusiones.\n",
    "\n",
    "- Teniendo en cuenta las conclusiones compararemos las ventas de los mismos juegos en otras plataformas.\n",
    "\n",
    "- Echaremos un vistazo a la distribución general de los juegos por género. ¿Qué se puede decir de los géneros más rentables? ¿Puedes generalizar acerca de los géneros con ventas altas y bajas?"
   ]
  },
  {
   "cell_type": "markdown",
   "id": "03296b9e",
   "metadata": {},
   "source": [
    "Paso 4. Crea un perfil de usuario para cada región"
   ]
  },
  {
   "cell_type": "markdown",
   "id": "fa514954",
   "metadata": {},
   "source": [
    "Para cada región (NA, UE, JP) determinaremos:"
   ]
  },
  {
   "cell_type": "markdown",
   "id": "378ee5d7",
   "metadata": {},
   "source": [
    "- Las cinco plataformas principales. Describe las variaciones en sus cuotas de mercado de una región a otra.\n",
    "\n",
    "- Los cinco géneros principales. Explicar la diferencia.\n",
    "\n",
    "- Si las clasificaciones de ESRB afectan a las ventas en regiones individuales."
   ]
  },
  {
   "cell_type": "markdown",
   "id": "5b1829fd",
   "metadata": {},
   "source": [
    "Paso 5. Prueba las siguientes hipótesis:"
   ]
  },
  {
   "cell_type": "markdown",
   "id": "f45381c2",
   "metadata": {},
   "source": [
    " Las calificaciones promedio de los usuarios para las plataformas Xbox One y PC son las mismas.\n",
    "\n",
    "- Las calificaciones promedio de los usuarios para los géneros de Acción y Deportes son diferentes.\n",
    "\n",
    "- Establecer tu mismo el valor de umbral alfa.\n",
    "\n",
    "Explica:\n",
    "\n",
    "- Cómo formulaste las hipótesis nula y alternativa.\n",
    "\n",
    "- Qué criterio utilizaste para probar las hipótesis y por qué"
   ]
  },
  {
   "cell_type": "markdown",
   "id": "8c0c3448",
   "metadata": {},
   "source": [
    "Paso 6. Escribe una conclusión general"
   ]
  },
  {
   "cell_type": "markdown",
   "id": "c814cd48",
   "metadata": {},
   "source": [
    "E = todas las edades,\n",
    "\n",
    "T = a partir de 15 años,\n",
    "\n",
    "M = mayor de 18 años,\n",
    "\n",
    "E10+ = a partir de 10 años,\n",
    "\n",
    "EC = a partir de 3 años,\n",
    "\n",
    "K-A = Niños en compañia de un adulto,\n",
    "\n",
    "RP = Calificacion pendiente,\n",
    "\n",
    "AO = Adultos únicamente"
   ]
  },
  {
   "cell_type": "markdown",
   "id": "eb695cb9",
   "metadata": {},
   "source": [
    "## Paso 1. Abre el archivo de datos y estudia la información general"
   ]
  },
  {
   "cell_type": "code",
   "execution_count": 1,
   "id": "8f4f81f7",
   "metadata": {},
   "outputs": [],
   "source": [
    "# Librerias a utilizar\n",
    "import pandas as pd\n",
    "import seaborn as sns\n",
    "import numpy as np\n",
    "import matplotlib.pyplot as plt\n",
    "from matplotlib import colors as mcolors\n",
    "%matplotlib inline\n",
    "from math import factorial\n",
    "from scipy import stats as st\n",
    "import random"
   ]
  },
  {
   "cell_type": "code",
   "execution_count": 2,
   "id": "759226d4",
   "metadata": {},
   "outputs": [],
   "source": [
    "# Carga de archivos \n",
    "try:\n",
    "    df = pd.read_csv(r\"C:\\Users\\seba\\Desktop\\games.csv\")\n",
    "except:\n",
    "    df = pd.read_csv(\"/datasets/games.csv\")"
   ]
  },
  {
   "cell_type": "code",
   "execution_count": 3,
   "id": "10aabc4d",
   "metadata": {},
   "outputs": [
    {
     "data": {
      "text/html": [
       "<div>\n",
       "<style scoped>\n",
       "    .dataframe tbody tr th:only-of-type {\n",
       "        vertical-align: middle;\n",
       "    }\n",
       "\n",
       "    .dataframe tbody tr th {\n",
       "        vertical-align: top;\n",
       "    }\n",
       "\n",
       "    .dataframe thead th {\n",
       "        text-align: right;\n",
       "    }\n",
       "</style>\n",
       "<table border=\"1\" class=\"dataframe\">\n",
       "  <thead>\n",
       "    <tr style=\"text-align: right;\">\n",
       "      <th></th>\n",
       "      <th>Name</th>\n",
       "      <th>Platform</th>\n",
       "      <th>Year_of_Release</th>\n",
       "      <th>Genre</th>\n",
       "      <th>NA_sales</th>\n",
       "      <th>EU_sales</th>\n",
       "      <th>JP_sales</th>\n",
       "      <th>Other_sales</th>\n",
       "      <th>Critic_Score</th>\n",
       "      <th>User_Score</th>\n",
       "      <th>Rating</th>\n",
       "    </tr>\n",
       "  </thead>\n",
       "  <tbody>\n",
       "    <tr>\n",
       "      <th>0</th>\n",
       "      <td>Wii Sports</td>\n",
       "      <td>Wii</td>\n",
       "      <td>2006.0</td>\n",
       "      <td>Sports</td>\n",
       "      <td>41.36</td>\n",
       "      <td>28.96</td>\n",
       "      <td>3.77</td>\n",
       "      <td>8.45</td>\n",
       "      <td>76.0</td>\n",
       "      <td>8</td>\n",
       "      <td>E</td>\n",
       "    </tr>\n",
       "    <tr>\n",
       "      <th>1</th>\n",
       "      <td>Super Mario Bros.</td>\n",
       "      <td>NES</td>\n",
       "      <td>1985.0</td>\n",
       "      <td>Platform</td>\n",
       "      <td>29.08</td>\n",
       "      <td>3.58</td>\n",
       "      <td>6.81</td>\n",
       "      <td>0.77</td>\n",
       "      <td>NaN</td>\n",
       "      <td>NaN</td>\n",
       "      <td>NaN</td>\n",
       "    </tr>\n",
       "    <tr>\n",
       "      <th>2</th>\n",
       "      <td>Mario Kart Wii</td>\n",
       "      <td>Wii</td>\n",
       "      <td>2008.0</td>\n",
       "      <td>Racing</td>\n",
       "      <td>15.68</td>\n",
       "      <td>12.76</td>\n",
       "      <td>3.79</td>\n",
       "      <td>3.29</td>\n",
       "      <td>82.0</td>\n",
       "      <td>8.3</td>\n",
       "      <td>E</td>\n",
       "    </tr>\n",
       "    <tr>\n",
       "      <th>3</th>\n",
       "      <td>Wii Sports Resort</td>\n",
       "      <td>Wii</td>\n",
       "      <td>2009.0</td>\n",
       "      <td>Sports</td>\n",
       "      <td>15.61</td>\n",
       "      <td>10.93</td>\n",
       "      <td>3.28</td>\n",
       "      <td>2.95</td>\n",
       "      <td>80.0</td>\n",
       "      <td>8</td>\n",
       "      <td>E</td>\n",
       "    </tr>\n",
       "    <tr>\n",
       "      <th>4</th>\n",
       "      <td>Pokemon Red/Pokemon Blue</td>\n",
       "      <td>GB</td>\n",
       "      <td>1996.0</td>\n",
       "      <td>Role-Playing</td>\n",
       "      <td>11.27</td>\n",
       "      <td>8.89</td>\n",
       "      <td>10.22</td>\n",
       "      <td>1.00</td>\n",
       "      <td>NaN</td>\n",
       "      <td>NaN</td>\n",
       "      <td>NaN</td>\n",
       "    </tr>\n",
       "  </tbody>\n",
       "</table>\n",
       "</div>"
      ],
      "text/plain": [
       "                       Name Platform  Year_of_Release         Genre  NA_sales  \\\n",
       "0                Wii Sports      Wii           2006.0        Sports     41.36   \n",
       "1         Super Mario Bros.      NES           1985.0      Platform     29.08   \n",
       "2            Mario Kart Wii      Wii           2008.0        Racing     15.68   \n",
       "3         Wii Sports Resort      Wii           2009.0        Sports     15.61   \n",
       "4  Pokemon Red/Pokemon Blue       GB           1996.0  Role-Playing     11.27   \n",
       "\n",
       "   EU_sales  JP_sales  Other_sales  Critic_Score User_Score Rating  \n",
       "0     28.96      3.77         8.45          76.0          8      E  \n",
       "1      3.58      6.81         0.77           NaN        NaN    NaN  \n",
       "2     12.76      3.79         3.29          82.0        8.3      E  \n",
       "3     10.93      3.28         2.95          80.0          8      E  \n",
       "4      8.89     10.22         1.00           NaN        NaN    NaN  "
      ]
     },
     "execution_count": 3,
     "metadata": {},
     "output_type": "execute_result"
    }
   ],
   "source": [
    "df.head()"
   ]
  },
  {
   "cell_type": "code",
   "execution_count": 4,
   "id": "b511d3ca",
   "metadata": {},
   "outputs": [
    {
     "name": "stdout",
     "output_type": "stream",
     "text": [
      "<class 'pandas.core.frame.DataFrame'>\n",
      "RangeIndex: 16715 entries, 0 to 16714\n",
      "Data columns (total 11 columns):\n",
      " #   Column           Non-Null Count  Dtype  \n",
      "---  ------           --------------  -----  \n",
      " 0   Name             16713 non-null  object \n",
      " 1   Platform         16715 non-null  object \n",
      " 2   Year_of_Release  16446 non-null  float64\n",
      " 3   Genre            16713 non-null  object \n",
      " 4   NA_sales         16715 non-null  float64\n",
      " 5   EU_sales         16715 non-null  float64\n",
      " 6   JP_sales         16715 non-null  float64\n",
      " 7   Other_sales      16715 non-null  float64\n",
      " 8   Critic_Score     8137 non-null   float64\n",
      " 9   User_Score       10014 non-null  object \n",
      " 10  Rating           9949 non-null   object \n",
      "dtypes: float64(6), object(5)\n",
      "memory usage: 1.4+ MB\n"
     ]
    }
   ],
   "source": [
    "df.info()"
   ]
  },
  {
   "cell_type": "code",
   "execution_count": 5,
   "id": "69cabedd",
   "metadata": {},
   "outputs": [
    {
     "data": {
      "text/html": [
       "<div>\n",
       "<style scoped>\n",
       "    .dataframe tbody tr th:only-of-type {\n",
       "        vertical-align: middle;\n",
       "    }\n",
       "\n",
       "    .dataframe tbody tr th {\n",
       "        vertical-align: top;\n",
       "    }\n",
       "\n",
       "    .dataframe thead th {\n",
       "        text-align: right;\n",
       "    }\n",
       "</style>\n",
       "<table border=\"1\" class=\"dataframe\">\n",
       "  <thead>\n",
       "    <tr style=\"text-align: right;\">\n",
       "      <th></th>\n",
       "      <th>Year_of_Release</th>\n",
       "      <th>NA_sales</th>\n",
       "      <th>EU_sales</th>\n",
       "      <th>JP_sales</th>\n",
       "      <th>Other_sales</th>\n",
       "      <th>Critic_Score</th>\n",
       "    </tr>\n",
       "  </thead>\n",
       "  <tbody>\n",
       "    <tr>\n",
       "      <th>count</th>\n",
       "      <td>16446.000000</td>\n",
       "      <td>16715.000000</td>\n",
       "      <td>16715.000000</td>\n",
       "      <td>16715.000000</td>\n",
       "      <td>16715.000000</td>\n",
       "      <td>8137.000000</td>\n",
       "    </tr>\n",
       "    <tr>\n",
       "      <th>mean</th>\n",
       "      <td>2006.484616</td>\n",
       "      <td>0.263377</td>\n",
       "      <td>0.145060</td>\n",
       "      <td>0.077617</td>\n",
       "      <td>0.047342</td>\n",
       "      <td>68.967679</td>\n",
       "    </tr>\n",
       "    <tr>\n",
       "      <th>std</th>\n",
       "      <td>5.877050</td>\n",
       "      <td>0.813604</td>\n",
       "      <td>0.503339</td>\n",
       "      <td>0.308853</td>\n",
       "      <td>0.186731</td>\n",
       "      <td>13.938165</td>\n",
       "    </tr>\n",
       "    <tr>\n",
       "      <th>min</th>\n",
       "      <td>1980.000000</td>\n",
       "      <td>0.000000</td>\n",
       "      <td>0.000000</td>\n",
       "      <td>0.000000</td>\n",
       "      <td>0.000000</td>\n",
       "      <td>13.000000</td>\n",
       "    </tr>\n",
       "    <tr>\n",
       "      <th>25%</th>\n",
       "      <td>2003.000000</td>\n",
       "      <td>0.000000</td>\n",
       "      <td>0.000000</td>\n",
       "      <td>0.000000</td>\n",
       "      <td>0.000000</td>\n",
       "      <td>60.000000</td>\n",
       "    </tr>\n",
       "    <tr>\n",
       "      <th>50%</th>\n",
       "      <td>2007.000000</td>\n",
       "      <td>0.080000</td>\n",
       "      <td>0.020000</td>\n",
       "      <td>0.000000</td>\n",
       "      <td>0.010000</td>\n",
       "      <td>71.000000</td>\n",
       "    </tr>\n",
       "    <tr>\n",
       "      <th>75%</th>\n",
       "      <td>2010.000000</td>\n",
       "      <td>0.240000</td>\n",
       "      <td>0.110000</td>\n",
       "      <td>0.040000</td>\n",
       "      <td>0.030000</td>\n",
       "      <td>79.000000</td>\n",
       "    </tr>\n",
       "    <tr>\n",
       "      <th>max</th>\n",
       "      <td>2016.000000</td>\n",
       "      <td>41.360000</td>\n",
       "      <td>28.960000</td>\n",
       "      <td>10.220000</td>\n",
       "      <td>10.570000</td>\n",
       "      <td>98.000000</td>\n",
       "    </tr>\n",
       "  </tbody>\n",
       "</table>\n",
       "</div>"
      ],
      "text/plain": [
       "       Year_of_Release      NA_sales      EU_sales      JP_sales  \\\n",
       "count     16446.000000  16715.000000  16715.000000  16715.000000   \n",
       "mean       2006.484616      0.263377      0.145060      0.077617   \n",
       "std           5.877050      0.813604      0.503339      0.308853   \n",
       "min        1980.000000      0.000000      0.000000      0.000000   \n",
       "25%        2003.000000      0.000000      0.000000      0.000000   \n",
       "50%        2007.000000      0.080000      0.020000      0.000000   \n",
       "75%        2010.000000      0.240000      0.110000      0.040000   \n",
       "max        2016.000000     41.360000     28.960000     10.220000   \n",
       "\n",
       "        Other_sales  Critic_Score  \n",
       "count  16715.000000   8137.000000  \n",
       "mean       0.047342     68.967679  \n",
       "std        0.186731     13.938165  \n",
       "min        0.000000     13.000000  \n",
       "25%        0.000000     60.000000  \n",
       "50%        0.010000     71.000000  \n",
       "75%        0.030000     79.000000  \n",
       "max       10.570000     98.000000  "
      ]
     },
     "execution_count": 5,
     "metadata": {},
     "output_type": "execute_result"
    }
   ],
   "source": [
    "df.describe()"
   ]
  },
  {
   "cell_type": "code",
   "execution_count": 6,
   "id": "52bf63b1",
   "metadata": {},
   "outputs": [
    {
     "data": {
      "text/plain": [
       "Name                  2\n",
       "Platform              0\n",
       "Year_of_Release     269\n",
       "Genre                 2\n",
       "NA_sales              0\n",
       "EU_sales              0\n",
       "JP_sales              0\n",
       "Other_sales           0\n",
       "Critic_Score       8578\n",
       "User_Score         6701\n",
       "Rating             6766\n",
       "dtype: int64"
      ]
     },
     "execution_count": 6,
     "metadata": {},
     "output_type": "execute_result"
    }
   ],
   "source": [
    "df.isna().sum()"
   ]
  },
  {
   "cell_type": "code",
   "execution_count": 7,
   "id": "66cedf1a",
   "metadata": {
    "scrolled": true
   },
   "outputs": [
    {
     "data": {
      "text/plain": [
       "Name                0.011965\n",
       "Platform            0.000000\n",
       "Year_of_Release     1.609333\n",
       "Genre               0.011965\n",
       "NA_sales            0.000000\n",
       "EU_sales            0.000000\n",
       "JP_sales            0.000000\n",
       "Other_sales         0.000000\n",
       "Critic_Score       51.319174\n",
       "User_Score         40.089740\n",
       "Rating             40.478612\n",
       "dtype: float64"
      ]
     },
     "execution_count": 7,
     "metadata": {},
     "output_type": "execute_result"
    }
   ],
   "source": [
    "#Porcentaje de valores nulos\n",
    "val_au_porcentaje = (df.isnull().sum() / len(df)) * 100\n",
    "val_au_porcentaje"
   ]
  },
  {
   "cell_type": "code",
   "execution_count": 8,
   "id": "ddfbc206",
   "metadata": {},
   "outputs": [
    {
     "data": {
      "text/plain": [
       "(16715, 11)"
      ]
     },
     "execution_count": 8,
     "metadata": {},
     "output_type": "execute_result"
    }
   ],
   "source": [
    "df.shape"
   ]
  },
  {
   "cell_type": "code",
   "execution_count": 9,
   "id": "be133034",
   "metadata": {},
   "outputs": [
    {
     "data": {
      "text/plain": [
       "0"
      ]
     },
     "execution_count": 9,
     "metadata": {},
     "output_type": "execute_result"
    }
   ],
   "source": [
    "df.duplicated().sum()"
   ]
  },
  {
   "cell_type": "markdown",
   "id": "56a5f0f8",
   "metadata": {},
   "source": [
    "**Conclusión**"
   ]
  },
  {
   "cell_type": "markdown",
   "id": "13825035",
   "metadata": {},
   "source": [
    "De la información general, podemos ver que 6 columnas tienen valores nulos. La columna Name tiene 0,0120 % de valores nulos, Year_of_Release tiene 1,6093 %, Genre tiene 0,0120 %, Critic_Score tiene 51,3192 %, User_Score tiene 40,0897 % y Rating tiene 40,4786 % de valores nulos. \n",
    "\n",
    "Además, necesitamos convertir los datos al tipo requerido y lidiar con los valores faltantes en el conjunto de datos.\n",
    "\n",
    "Year_of_Release está en float, debe convertirse a int. \n",
    "\n",
    "User_Score es una cadena y debe convertirse a int."
   ]
  },
  {
   "cell_type": "markdown",
   "id": "0aa6e75e",
   "metadata": {},
   "source": [
    "## Paso 2. Prepara los datos"
   ]
  },
  {
   "cell_type": "code",
   "execution_count": 10,
   "id": "e072d135",
   "metadata": {},
   "outputs": [
    {
     "name": "stdout",
     "output_type": "stream",
     "text": [
      "Index(['name', 'platform', 'year_of_release', 'genre', 'na_sales', 'eu_sales',\n",
      "       'jp_sales', 'other_sales', 'critic_score', 'user_score', 'rating'],\n",
      "      dtype='object')\n"
     ]
    }
   ],
   "source": [
    "#Convertir los nombres de las columnas todas a minúsculas\n",
    "def lowercase_columns(df):\n",
    "    return df.rename(str.lower, axis='columns')\n",
    "\n",
    "df = lowercase_columns(df)\n",
    "print(df.columns) "
   ]
  },
  {
   "cell_type": "markdown",
   "id": "ed5c6040",
   "metadata": {},
   "source": [
    "### Convertir los tipos de datos"
   ]
  },
  {
   "cell_type": "code",
   "execution_count": 11,
   "id": "2eb4df83",
   "metadata": {
    "scrolled": false
   },
   "outputs": [
    {
     "name": "stdout",
     "output_type": "stream",
     "text": [
      "<class 'pandas.core.frame.DataFrame'>\n",
      "RangeIndex: 16715 entries, 0 to 16714\n",
      "Data columns (total 11 columns):\n",
      " #   Column           Non-Null Count  Dtype  \n",
      "---  ------           --------------  -----  \n",
      " 0   name             16713 non-null  object \n",
      " 1   platform         16715 non-null  object \n",
      " 2   year_of_release  16446 non-null  float64\n",
      " 3   genre            16713 non-null  object \n",
      " 4   na_sales         16715 non-null  float64\n",
      " 5   eu_sales         16715 non-null  float64\n",
      " 6   jp_sales         16715 non-null  float64\n",
      " 7   other_sales      16715 non-null  float64\n",
      " 8   critic_score     8137 non-null   float64\n",
      " 9   user_score       10014 non-null  object \n",
      " 10  rating           9949 non-null   object \n",
      "dtypes: float64(6), object(5)\n",
      "memory usage: 1.4+ MB\n"
     ]
    }
   ],
   "source": [
    "df.info()"
   ]
  },
  {
   "cell_type": "markdown",
   "id": "9c0a6868",
   "metadata": {},
   "source": [
    "**Eliminaremos los datos nulos de name y genre dado su bajo porcentaje de valores NaN**"
   ]
  },
  {
   "cell_type": "code",
   "execution_count": 12,
   "id": "45812f49",
   "metadata": {},
   "outputs": [],
   "source": [
    "df = df.dropna(subset=['name', 'genre']).reset_index(drop=True)"
   ]
  },
  {
   "cell_type": "code",
   "execution_count": 13,
   "id": "4e563647",
   "metadata": {
    "scrolled": true
   },
   "outputs": [
    {
     "data": {
      "text/plain": [
       "269"
      ]
     },
     "execution_count": 13,
     "metadata": {},
     "output_type": "execute_result"
    }
   ],
   "source": [
    "df['year_of_release'].isna().sum()"
   ]
  },
  {
   "cell_type": "code",
   "execution_count": 14,
   "id": "f1afcec4",
   "metadata": {},
   "outputs": [],
   "source": [
    "df = df.dropna(subset=['year_of_release']).reset_index(drop=True)"
   ]
  },
  {
   "cell_type": "code",
   "execution_count": 15,
   "id": "1a3f141d",
   "metadata": {},
   "outputs": [
    {
     "name": "stdout",
     "output_type": "stream",
     "text": [
      "<class 'pandas.core.frame.DataFrame'>\n",
      "RangeIndex: 16444 entries, 0 to 16443\n",
      "Data columns (total 11 columns):\n",
      " #   Column           Non-Null Count  Dtype  \n",
      "---  ------           --------------  -----  \n",
      " 0   name             16444 non-null  object \n",
      " 1   platform         16444 non-null  object \n",
      " 2   year_of_release  16444 non-null  float64\n",
      " 3   genre            16444 non-null  object \n",
      " 4   na_sales         16444 non-null  float64\n",
      " 5   eu_sales         16444 non-null  float64\n",
      " 6   jp_sales         16444 non-null  float64\n",
      " 7   other_sales      16444 non-null  float64\n",
      " 8   critic_score     7983 non-null   float64\n",
      " 9   user_score       9839 non-null   object \n",
      " 10  rating           9768 non-null   object \n",
      "dtypes: float64(6), object(5)\n",
      "memory usage: 1.4+ MB\n"
     ]
    }
   ],
   "source": [
    "df.info()"
   ]
  },
  {
   "cell_type": "code",
   "execution_count": 16,
   "id": "b9073ce3",
   "metadata": {},
   "outputs": [
    {
     "data": {
      "text/plain": [
       "0"
      ]
     },
     "execution_count": 16,
     "metadata": {},
     "output_type": "execute_result"
    }
   ],
   "source": [
    "df['year_of_release'].isna().sum()"
   ]
  },
  {
   "cell_type": "code",
   "execution_count": 17,
   "id": "e3807a9d",
   "metadata": {},
   "outputs": [],
   "source": [
    "df = df.copy()"
   ]
  },
  {
   "cell_type": "code",
   "execution_count": 18,
   "id": "f7f1662d",
   "metadata": {},
   "outputs": [],
   "source": [
    "df['year_of_release'] = df['year_of_release'].astype('int64')"
   ]
  },
  {
   "cell_type": "code",
   "execution_count": 19,
   "id": "f83ef479",
   "metadata": {
    "scrolled": true
   },
   "outputs": [
    {
     "name": "stdout",
     "output_type": "stream",
     "text": [
      "<class 'pandas.core.frame.DataFrame'>\n",
      "RangeIndex: 16444 entries, 0 to 16443\n",
      "Data columns (total 11 columns):\n",
      " #   Column           Non-Null Count  Dtype  \n",
      "---  ------           --------------  -----  \n",
      " 0   name             16444 non-null  object \n",
      " 1   platform         16444 non-null  object \n",
      " 2   year_of_release  16444 non-null  int64  \n",
      " 3   genre            16444 non-null  object \n",
      " 4   na_sales         16444 non-null  float64\n",
      " 5   eu_sales         16444 non-null  float64\n",
      " 6   jp_sales         16444 non-null  float64\n",
      " 7   other_sales      16444 non-null  float64\n",
      " 8   critic_score     7983 non-null   float64\n",
      " 9   user_score       9839 non-null   object \n",
      " 10  rating           9768 non-null   object \n",
      "dtypes: float64(5), int64(1), object(5)\n",
      "memory usage: 1.4+ MB\n"
     ]
    }
   ],
   "source": [
    "df.info()"
   ]
  },
  {
   "cell_type": "code",
   "execution_count": 20,
   "id": "77244028",
   "metadata": {},
   "outputs": [],
   "source": [
    "df['user_score'] = df['user_score'].replace('tbd', np.nan)"
   ]
  },
  {
   "cell_type": "code",
   "execution_count": 21,
   "id": "f5da9685",
   "metadata": {},
   "outputs": [],
   "source": [
    "df['user_score'] = df['user_score'].astype('float64')"
   ]
  },
  {
   "cell_type": "code",
   "execution_count": 22,
   "id": "fb85ef2a",
   "metadata": {
    "scrolled": true
   },
   "outputs": [
    {
     "name": "stdout",
     "output_type": "stream",
     "text": [
      "<class 'pandas.core.frame.DataFrame'>\n",
      "RangeIndex: 16444 entries, 0 to 16443\n",
      "Data columns (total 11 columns):\n",
      " #   Column           Non-Null Count  Dtype  \n",
      "---  ------           --------------  -----  \n",
      " 0   name             16444 non-null  object \n",
      " 1   platform         16444 non-null  object \n",
      " 2   year_of_release  16444 non-null  int64  \n",
      " 3   genre            16444 non-null  object \n",
      " 4   na_sales         16444 non-null  float64\n",
      " 5   eu_sales         16444 non-null  float64\n",
      " 6   jp_sales         16444 non-null  float64\n",
      " 7   other_sales      16444 non-null  float64\n",
      " 8   critic_score     7983 non-null   float64\n",
      " 9   user_score       7463 non-null   float64\n",
      " 10  rating           9768 non-null   object \n",
      "dtypes: float64(6), int64(1), object(4)\n",
      "memory usage: 1.4+ MB\n"
     ]
    }
   ],
   "source": [
    "df.info()"
   ]
  },
  {
   "cell_type": "code",
   "execution_count": 23,
   "id": "9d417a93",
   "metadata": {},
   "outputs": [],
   "source": [
    "df['rating'] = df['rating'].fillna(\"Valor desconocido\")"
   ]
  },
  {
   "cell_type": "code",
   "execution_count": 24,
   "id": "2f9da52d",
   "metadata": {},
   "outputs": [
    {
     "data": {
      "text/html": [
       "<div>\n",
       "<style scoped>\n",
       "    .dataframe tbody tr th:only-of-type {\n",
       "        vertical-align: middle;\n",
       "    }\n",
       "\n",
       "    .dataframe tbody tr th {\n",
       "        vertical-align: top;\n",
       "    }\n",
       "\n",
       "    .dataframe thead th {\n",
       "        text-align: right;\n",
       "    }\n",
       "</style>\n",
       "<table border=\"1\" class=\"dataframe\">\n",
       "  <thead>\n",
       "    <tr style=\"text-align: right;\">\n",
       "      <th></th>\n",
       "      <th>name</th>\n",
       "      <th>platform</th>\n",
       "      <th>year_of_release</th>\n",
       "      <th>genre</th>\n",
       "      <th>na_sales</th>\n",
       "      <th>eu_sales</th>\n",
       "      <th>jp_sales</th>\n",
       "      <th>other_sales</th>\n",
       "      <th>critic_score</th>\n",
       "      <th>user_score</th>\n",
       "      <th>rating</th>\n",
       "    </tr>\n",
       "  </thead>\n",
       "  <tbody>\n",
       "    <tr>\n",
       "      <th>0</th>\n",
       "      <td>Wii Sports</td>\n",
       "      <td>Wii</td>\n",
       "      <td>2006</td>\n",
       "      <td>Sports</td>\n",
       "      <td>41.36</td>\n",
       "      <td>28.96</td>\n",
       "      <td>3.77</td>\n",
       "      <td>8.45</td>\n",
       "      <td>76.0</td>\n",
       "      <td>8.0</td>\n",
       "      <td>E</td>\n",
       "    </tr>\n",
       "    <tr>\n",
       "      <th>1</th>\n",
       "      <td>Super Mario Bros.</td>\n",
       "      <td>NES</td>\n",
       "      <td>1985</td>\n",
       "      <td>Platform</td>\n",
       "      <td>29.08</td>\n",
       "      <td>3.58</td>\n",
       "      <td>6.81</td>\n",
       "      <td>0.77</td>\n",
       "      <td>NaN</td>\n",
       "      <td>NaN</td>\n",
       "      <td>Valor desconocido</td>\n",
       "    </tr>\n",
       "    <tr>\n",
       "      <th>2</th>\n",
       "      <td>Mario Kart Wii</td>\n",
       "      <td>Wii</td>\n",
       "      <td>2008</td>\n",
       "      <td>Racing</td>\n",
       "      <td>15.68</td>\n",
       "      <td>12.76</td>\n",
       "      <td>3.79</td>\n",
       "      <td>3.29</td>\n",
       "      <td>82.0</td>\n",
       "      <td>8.3</td>\n",
       "      <td>E</td>\n",
       "    </tr>\n",
       "    <tr>\n",
       "      <th>3</th>\n",
       "      <td>Wii Sports Resort</td>\n",
       "      <td>Wii</td>\n",
       "      <td>2009</td>\n",
       "      <td>Sports</td>\n",
       "      <td>15.61</td>\n",
       "      <td>10.93</td>\n",
       "      <td>3.28</td>\n",
       "      <td>2.95</td>\n",
       "      <td>80.0</td>\n",
       "      <td>8.0</td>\n",
       "      <td>E</td>\n",
       "    </tr>\n",
       "    <tr>\n",
       "      <th>4</th>\n",
       "      <td>Pokemon Red/Pokemon Blue</td>\n",
       "      <td>GB</td>\n",
       "      <td>1996</td>\n",
       "      <td>Role-Playing</td>\n",
       "      <td>11.27</td>\n",
       "      <td>8.89</td>\n",
       "      <td>10.22</td>\n",
       "      <td>1.00</td>\n",
       "      <td>NaN</td>\n",
       "      <td>NaN</td>\n",
       "      <td>Valor desconocido</td>\n",
       "    </tr>\n",
       "  </tbody>\n",
       "</table>\n",
       "</div>"
      ],
      "text/plain": [
       "                       name platform  year_of_release         genre  na_sales  \\\n",
       "0                Wii Sports      Wii             2006        Sports     41.36   \n",
       "1         Super Mario Bros.      NES             1985      Platform     29.08   \n",
       "2            Mario Kart Wii      Wii             2008        Racing     15.68   \n",
       "3         Wii Sports Resort      Wii             2009        Sports     15.61   \n",
       "4  Pokemon Red/Pokemon Blue       GB             1996  Role-Playing     11.27   \n",
       "\n",
       "   eu_sales  jp_sales  other_sales  critic_score  user_score  \\\n",
       "0     28.96      3.77         8.45          76.0         8.0   \n",
       "1      3.58      6.81         0.77           NaN         NaN   \n",
       "2     12.76      3.79         3.29          82.0         8.3   \n",
       "3     10.93      3.28         2.95          80.0         8.0   \n",
       "4      8.89     10.22         1.00           NaN         NaN   \n",
       "\n",
       "              rating  \n",
       "0                  E  \n",
       "1  Valor desconocido  \n",
       "2                  E  \n",
       "3                  E  \n",
       "4  Valor desconocido  "
      ]
     },
     "execution_count": 24,
     "metadata": {},
     "output_type": "execute_result"
    }
   ],
   "source": [
    "df.head()"
   ]
  },
  {
   "cell_type": "markdown",
   "id": "08e6e3ae",
   "metadata": {},
   "source": [
    "## Calcularemos las ventas totales (la suma de las ventas en todas las regiones) para cada juego y colocaremos estos valores en una columna separada."
   ]
  },
  {
   "cell_type": "code",
   "execution_count": 25,
   "id": "f4fd0b5b",
   "metadata": {
    "scrolled": false
   },
   "outputs": [
    {
     "data": {
      "text/html": [
       "<div>\n",
       "<style scoped>\n",
       "    .dataframe tbody tr th:only-of-type {\n",
       "        vertical-align: middle;\n",
       "    }\n",
       "\n",
       "    .dataframe tbody tr th {\n",
       "        vertical-align: top;\n",
       "    }\n",
       "\n",
       "    .dataframe thead th {\n",
       "        text-align: right;\n",
       "    }\n",
       "</style>\n",
       "<table border=\"1\" class=\"dataframe\">\n",
       "  <thead>\n",
       "    <tr style=\"text-align: right;\">\n",
       "      <th></th>\n",
       "      <th>name</th>\n",
       "      <th>platform</th>\n",
       "      <th>year_of_release</th>\n",
       "      <th>genre</th>\n",
       "      <th>na_sales</th>\n",
       "      <th>eu_sales</th>\n",
       "      <th>jp_sales</th>\n",
       "      <th>other_sales</th>\n",
       "      <th>critic_score</th>\n",
       "      <th>user_score</th>\n",
       "      <th>rating</th>\n",
       "      <th>total_sales</th>\n",
       "    </tr>\n",
       "  </thead>\n",
       "  <tbody>\n",
       "    <tr>\n",
       "      <th>0</th>\n",
       "      <td>Wii Sports</td>\n",
       "      <td>Wii</td>\n",
       "      <td>2006</td>\n",
       "      <td>Sports</td>\n",
       "      <td>41.36</td>\n",
       "      <td>28.96</td>\n",
       "      <td>3.77</td>\n",
       "      <td>8.45</td>\n",
       "      <td>76.0</td>\n",
       "      <td>8.0</td>\n",
       "      <td>E</td>\n",
       "      <td>82.54</td>\n",
       "    </tr>\n",
       "    <tr>\n",
       "      <th>1</th>\n",
       "      <td>Super Mario Bros.</td>\n",
       "      <td>NES</td>\n",
       "      <td>1985</td>\n",
       "      <td>Platform</td>\n",
       "      <td>29.08</td>\n",
       "      <td>3.58</td>\n",
       "      <td>6.81</td>\n",
       "      <td>0.77</td>\n",
       "      <td>NaN</td>\n",
       "      <td>NaN</td>\n",
       "      <td>Valor desconocido</td>\n",
       "      <td>40.24</td>\n",
       "    </tr>\n",
       "    <tr>\n",
       "      <th>2</th>\n",
       "      <td>Mario Kart Wii</td>\n",
       "      <td>Wii</td>\n",
       "      <td>2008</td>\n",
       "      <td>Racing</td>\n",
       "      <td>15.68</td>\n",
       "      <td>12.76</td>\n",
       "      <td>3.79</td>\n",
       "      <td>3.29</td>\n",
       "      <td>82.0</td>\n",
       "      <td>8.3</td>\n",
       "      <td>E</td>\n",
       "      <td>35.52</td>\n",
       "    </tr>\n",
       "    <tr>\n",
       "      <th>3</th>\n",
       "      <td>Wii Sports Resort</td>\n",
       "      <td>Wii</td>\n",
       "      <td>2009</td>\n",
       "      <td>Sports</td>\n",
       "      <td>15.61</td>\n",
       "      <td>10.93</td>\n",
       "      <td>3.28</td>\n",
       "      <td>2.95</td>\n",
       "      <td>80.0</td>\n",
       "      <td>8.0</td>\n",
       "      <td>E</td>\n",
       "      <td>32.77</td>\n",
       "    </tr>\n",
       "    <tr>\n",
       "      <th>4</th>\n",
       "      <td>Pokemon Red/Pokemon Blue</td>\n",
       "      <td>GB</td>\n",
       "      <td>1996</td>\n",
       "      <td>Role-Playing</td>\n",
       "      <td>11.27</td>\n",
       "      <td>8.89</td>\n",
       "      <td>10.22</td>\n",
       "      <td>1.00</td>\n",
       "      <td>NaN</td>\n",
       "      <td>NaN</td>\n",
       "      <td>Valor desconocido</td>\n",
       "      <td>31.38</td>\n",
       "    </tr>\n",
       "  </tbody>\n",
       "</table>\n",
       "</div>"
      ],
      "text/plain": [
       "                       name platform  year_of_release         genre  na_sales  \\\n",
       "0                Wii Sports      Wii             2006        Sports     41.36   \n",
       "1         Super Mario Bros.      NES             1985      Platform     29.08   \n",
       "2            Mario Kart Wii      Wii             2008        Racing     15.68   \n",
       "3         Wii Sports Resort      Wii             2009        Sports     15.61   \n",
       "4  Pokemon Red/Pokemon Blue       GB             1996  Role-Playing     11.27   \n",
       "\n",
       "   eu_sales  jp_sales  other_sales  critic_score  user_score  \\\n",
       "0     28.96      3.77         8.45          76.0         8.0   \n",
       "1      3.58      6.81         0.77           NaN         NaN   \n",
       "2     12.76      3.79         3.29          82.0         8.3   \n",
       "3     10.93      3.28         2.95          80.0         8.0   \n",
       "4      8.89     10.22         1.00           NaN         NaN   \n",
       "\n",
       "              rating  total_sales  \n",
       "0                  E        82.54  \n",
       "1  Valor desconocido        40.24  \n",
       "2                  E        35.52  \n",
       "3                  E        32.77  \n",
       "4  Valor desconocido        31.38  "
      ]
     },
     "execution_count": 25,
     "metadata": {},
     "output_type": "execute_result"
    }
   ],
   "source": [
    "df['total_sales'] = df[['na_sales', 'eu_sales', 'jp_sales', 'other_sales']].sum(axis=1)\n",
    "df.head()"
   ]
  },
  {
   "cell_type": "code",
   "execution_count": 26,
   "id": "cc5ad926",
   "metadata": {},
   "outputs": [
    {
     "name": "stdout",
     "output_type": "stream",
     "text": [
      "<class 'pandas.core.frame.DataFrame'>\n",
      "RangeIndex: 16444 entries, 0 to 16443\n",
      "Data columns (total 12 columns):\n",
      " #   Column           Non-Null Count  Dtype  \n",
      "---  ------           --------------  -----  \n",
      " 0   name             16444 non-null  object \n",
      " 1   platform         16444 non-null  object \n",
      " 2   year_of_release  16444 non-null  int64  \n",
      " 3   genre            16444 non-null  object \n",
      " 4   na_sales         16444 non-null  float64\n",
      " 5   eu_sales         16444 non-null  float64\n",
      " 6   jp_sales         16444 non-null  float64\n",
      " 7   other_sales      16444 non-null  float64\n",
      " 8   critic_score     7983 non-null   float64\n",
      " 9   user_score       7463 non-null   float64\n",
      " 10  rating           16444 non-null  object \n",
      " 11  total_sales      16444 non-null  float64\n",
      "dtypes: float64(7), int64(1), object(4)\n",
      "memory usage: 1.5+ MB\n"
     ]
    }
   ],
   "source": [
    "df.info()"
   ]
  },
  {
   "cell_type": "markdown",
   "id": "3b909c77",
   "metadata": {},
   "source": [
    "**Conclusión**"
   ]
  },
  {
   "cell_type": "markdown",
   "id": "2dafc659",
   "metadata": {},
   "source": [
    "En esta sección, preparamos los datos convirtiendo los nombres de las columnas a minúsculas. Eliminamos los valores faltantes en la columna de name, genre. Las columnas critic_score y user_score las dejamos con los valores ausentes, ya que aplicando la media o mediana para reemplazarlos, esto favorecería o perjudicaría ciertos juegos. La abreviatura tbd, que significa \"por determinar\", se asignó a nulo y se manejó como \"NaN\" en el conjunto de datos. Convertimos los tipos de datos a los tipos correctos y calculamos las ventas totales en todas las regiones."
   ]
  },
  {
   "cell_type": "markdown",
   "id": "9131bdc1",
   "metadata": {},
   "source": [
    "## Paso 3. Analiza los datos"
   ]
  },
  {
   "cell_type": "markdown",
   "id": "c7f3d2c2",
   "metadata": {},
   "source": [
    "### Cuantos juegos fueron lanzados por año"
   ]
  },
  {
   "cell_type": "code",
   "execution_count": 27,
   "id": "100a5a95",
   "metadata": {},
   "outputs": [
    {
     "data": {
      "text/html": [
       "<div>\n",
       "<style scoped>\n",
       "    .dataframe tbody tr th:only-of-type {\n",
       "        vertical-align: middle;\n",
       "    }\n",
       "\n",
       "    .dataframe tbody tr th {\n",
       "        vertical-align: top;\n",
       "    }\n",
       "\n",
       "    .dataframe thead th {\n",
       "        text-align: right;\n",
       "    }\n",
       "</style>\n",
       "<table border=\"1\" class=\"dataframe\">\n",
       "  <thead>\n",
       "    <tr style=\"text-align: right;\">\n",
       "      <th></th>\n",
       "      <th>year_of_release</th>\n",
       "      <th>name</th>\n",
       "    </tr>\n",
       "  </thead>\n",
       "  <tbody>\n",
       "    <tr>\n",
       "      <th>0</th>\n",
       "      <td>1980</td>\n",
       "      <td>9</td>\n",
       "    </tr>\n",
       "    <tr>\n",
       "      <th>1</th>\n",
       "      <td>1981</td>\n",
       "      <td>46</td>\n",
       "    </tr>\n",
       "    <tr>\n",
       "      <th>2</th>\n",
       "      <td>1982</td>\n",
       "      <td>36</td>\n",
       "    </tr>\n",
       "    <tr>\n",
       "      <th>3</th>\n",
       "      <td>1983</td>\n",
       "      <td>17</td>\n",
       "    </tr>\n",
       "    <tr>\n",
       "      <th>4</th>\n",
       "      <td>1984</td>\n",
       "      <td>14</td>\n",
       "    </tr>\n",
       "    <tr>\n",
       "      <th>5</th>\n",
       "      <td>1985</td>\n",
       "      <td>14</td>\n",
       "    </tr>\n",
       "    <tr>\n",
       "      <th>6</th>\n",
       "      <td>1986</td>\n",
       "      <td>21</td>\n",
       "    </tr>\n",
       "    <tr>\n",
       "      <th>7</th>\n",
       "      <td>1987</td>\n",
       "      <td>16</td>\n",
       "    </tr>\n",
       "    <tr>\n",
       "      <th>8</th>\n",
       "      <td>1988</td>\n",
       "      <td>15</td>\n",
       "    </tr>\n",
       "    <tr>\n",
       "      <th>9</th>\n",
       "      <td>1989</td>\n",
       "      <td>17</td>\n",
       "    </tr>\n",
       "    <tr>\n",
       "      <th>10</th>\n",
       "      <td>1990</td>\n",
       "      <td>16</td>\n",
       "    </tr>\n",
       "    <tr>\n",
       "      <th>11</th>\n",
       "      <td>1991</td>\n",
       "      <td>41</td>\n",
       "    </tr>\n",
       "    <tr>\n",
       "      <th>12</th>\n",
       "      <td>1992</td>\n",
       "      <td>43</td>\n",
       "    </tr>\n",
       "    <tr>\n",
       "      <th>13</th>\n",
       "      <td>1993</td>\n",
       "      <td>60</td>\n",
       "    </tr>\n",
       "    <tr>\n",
       "      <th>14</th>\n",
       "      <td>1994</td>\n",
       "      <td>121</td>\n",
       "    </tr>\n",
       "    <tr>\n",
       "      <th>15</th>\n",
       "      <td>1995</td>\n",
       "      <td>219</td>\n",
       "    </tr>\n",
       "    <tr>\n",
       "      <th>16</th>\n",
       "      <td>1996</td>\n",
       "      <td>263</td>\n",
       "    </tr>\n",
       "    <tr>\n",
       "      <th>17</th>\n",
       "      <td>1997</td>\n",
       "      <td>289</td>\n",
       "    </tr>\n",
       "    <tr>\n",
       "      <th>18</th>\n",
       "      <td>1998</td>\n",
       "      <td>379</td>\n",
       "    </tr>\n",
       "    <tr>\n",
       "      <th>19</th>\n",
       "      <td>1999</td>\n",
       "      <td>338</td>\n",
       "    </tr>\n",
       "    <tr>\n",
       "      <th>20</th>\n",
       "      <td>2000</td>\n",
       "      <td>350</td>\n",
       "    </tr>\n",
       "    <tr>\n",
       "      <th>21</th>\n",
       "      <td>2001</td>\n",
       "      <td>482</td>\n",
       "    </tr>\n",
       "    <tr>\n",
       "      <th>22</th>\n",
       "      <td>2002</td>\n",
       "      <td>829</td>\n",
       "    </tr>\n",
       "    <tr>\n",
       "      <th>23</th>\n",
       "      <td>2003</td>\n",
       "      <td>775</td>\n",
       "    </tr>\n",
       "    <tr>\n",
       "      <th>24</th>\n",
       "      <td>2004</td>\n",
       "      <td>762</td>\n",
       "    </tr>\n",
       "    <tr>\n",
       "      <th>25</th>\n",
       "      <td>2005</td>\n",
       "      <td>939</td>\n",
       "    </tr>\n",
       "    <tr>\n",
       "      <th>26</th>\n",
       "      <td>2006</td>\n",
       "      <td>1006</td>\n",
       "    </tr>\n",
       "    <tr>\n",
       "      <th>27</th>\n",
       "      <td>2007</td>\n",
       "      <td>1197</td>\n",
       "    </tr>\n",
       "    <tr>\n",
       "      <th>28</th>\n",
       "      <td>2008</td>\n",
       "      <td>1427</td>\n",
       "    </tr>\n",
       "    <tr>\n",
       "      <th>29</th>\n",
       "      <td>2009</td>\n",
       "      <td>1426</td>\n",
       "    </tr>\n",
       "    <tr>\n",
       "      <th>30</th>\n",
       "      <td>2010</td>\n",
       "      <td>1255</td>\n",
       "    </tr>\n",
       "    <tr>\n",
       "      <th>31</th>\n",
       "      <td>2011</td>\n",
       "      <td>1136</td>\n",
       "    </tr>\n",
       "    <tr>\n",
       "      <th>32</th>\n",
       "      <td>2012</td>\n",
       "      <td>653</td>\n",
       "    </tr>\n",
       "    <tr>\n",
       "      <th>33</th>\n",
       "      <td>2013</td>\n",
       "      <td>544</td>\n",
       "    </tr>\n",
       "    <tr>\n",
       "      <th>34</th>\n",
       "      <td>2014</td>\n",
       "      <td>581</td>\n",
       "    </tr>\n",
       "    <tr>\n",
       "      <th>35</th>\n",
       "      <td>2015</td>\n",
       "      <td>606</td>\n",
       "    </tr>\n",
       "    <tr>\n",
       "      <th>36</th>\n",
       "      <td>2016</td>\n",
       "      <td>502</td>\n",
       "    </tr>\n",
       "  </tbody>\n",
       "</table>\n",
       "</div>"
      ],
      "text/plain": [
       "    year_of_release  name\n",
       "0              1980     9\n",
       "1              1981    46\n",
       "2              1982    36\n",
       "3              1983    17\n",
       "4              1984    14\n",
       "5              1985    14\n",
       "6              1986    21\n",
       "7              1987    16\n",
       "8              1988    15\n",
       "9              1989    17\n",
       "10             1990    16\n",
       "11             1991    41\n",
       "12             1992    43\n",
       "13             1993    60\n",
       "14             1994   121\n",
       "15             1995   219\n",
       "16             1996   263\n",
       "17             1997   289\n",
       "18             1998   379\n",
       "19             1999   338\n",
       "20             2000   350\n",
       "21             2001   482\n",
       "22             2002   829\n",
       "23             2003   775\n",
       "24             2004   762\n",
       "25             2005   939\n",
       "26             2006  1006\n",
       "27             2007  1197\n",
       "28             2008  1427\n",
       "29             2009  1426\n",
       "30             2010  1255\n",
       "31             2011  1136\n",
       "32             2012   653\n",
       "33             2013   544\n",
       "34             2014   581\n",
       "35             2015   606\n",
       "36             2016   502"
      ]
     },
     "execution_count": 27,
     "metadata": {},
     "output_type": "execute_result"
    }
   ],
   "source": [
    "games_df = (df[['year_of_release', 'name']]\n",
    "                .groupby('year_of_release')\n",
    "                .agg('count')\n",
    "                .sort_values('year_of_release')).reset_index()\n",
    "games_df"
   ]
  },
  {
   "cell_type": "code",
   "execution_count": 28,
   "id": "e478dec2",
   "metadata": {},
   "outputs": [
    {
     "data": {
      "image/png": "[encoded data removed]",
      "text/plain": [
       "<Figure size 432x288 with 1 Axes>"
      ]
     },
     "metadata": {
      "needs_background": "light"
     },
     "output_type": "display_data"
    }
   ],
   "source": [
    "plt.stem(games_df['year_of_release'],games_df['name'])\n",
    "plt.title('Cantidad de juegos lanzados por año')\n",
    "plt.xlabel('year_of_release')\n",
    "plt.ylabel('Número de juegos')\n",
    "\n",
    "plt.show()"
   ]
  },
  {
   "cell_type": "markdown",
   "id": "ea50e3b4",
   "metadata": {},
   "source": [
    "**El diagrama de piruleta anterior muestra que se lanzaron más juegos entre los años 2001 y 2016. La mayoría de los juegos se lanzaron entre los años 2005 y 2011. El año con la menor cantidad de juegos lanzados fue 1980. El año con la mayor cantidad de juegos lanzados fue 2008. La disminución en la cantidad de juegos lanzados después del año 2008 se puede atribuir al aumento de juegos móviles desde 2008 en adelante, por lo que sí son significativos los datos de cada periodo**"
   ]
  },
  {
   "cell_type": "markdown",
   "id": "f9005b11",
   "metadata": {},
   "source": [
    "### Observaremos cómo varían las ventas de una plataforma a otra"
   ]
  },
  {
   "cell_type": "code",
   "execution_count": 29,
   "id": "d94c54f9",
   "metadata": {},
   "outputs": [
    {
     "data": {
      "text/html": [
       "<div>\n",
       "<style scoped>\n",
       "    .dataframe tbody tr th:only-of-type {\n",
       "        vertical-align: middle;\n",
       "    }\n",
       "\n",
       "    .dataframe tbody tr th {\n",
       "        vertical-align: top;\n",
       "    }\n",
       "\n",
       "    .dataframe thead th {\n",
       "        text-align: right;\n",
       "    }\n",
       "</style>\n",
       "<table border=\"1\" class=\"dataframe\">\n",
       "  <thead>\n",
       "    <tr style=\"text-align: right;\">\n",
       "      <th></th>\n",
       "      <th>platform</th>\n",
       "      <th>total_sales</th>\n",
       "    </tr>\n",
       "  </thead>\n",
       "  <tbody>\n",
       "    <tr>\n",
       "      <th>0</th>\n",
       "      <td>PS2</td>\n",
       "      <td>2127</td>\n",
       "    </tr>\n",
       "    <tr>\n",
       "      <th>1</th>\n",
       "      <td>DS</td>\n",
       "      <td>2121</td>\n",
       "    </tr>\n",
       "    <tr>\n",
       "      <th>2</th>\n",
       "      <td>PS3</td>\n",
       "      <td>1306</td>\n",
       "    </tr>\n",
       "    <tr>\n",
       "      <th>3</th>\n",
       "      <td>Wii</td>\n",
       "      <td>1286</td>\n",
       "    </tr>\n",
       "    <tr>\n",
       "      <th>4</th>\n",
       "      <td>X360</td>\n",
       "      <td>1232</td>\n",
       "    </tr>\n",
       "    <tr>\n",
       "      <th>5</th>\n",
       "      <td>PSP</td>\n",
       "      <td>1193</td>\n",
       "    </tr>\n",
       "    <tr>\n",
       "      <th>6</th>\n",
       "      <td>PS</td>\n",
       "      <td>1190</td>\n",
       "    </tr>\n",
       "    <tr>\n",
       "      <th>7</th>\n",
       "      <td>PC</td>\n",
       "      <td>957</td>\n",
       "    </tr>\n",
       "    <tr>\n",
       "      <th>8</th>\n",
       "      <td>GBA</td>\n",
       "      <td>811</td>\n",
       "    </tr>\n",
       "    <tr>\n",
       "      <th>9</th>\n",
       "      <td>XB</td>\n",
       "      <td>803</td>\n",
       "    </tr>\n",
       "    <tr>\n",
       "      <th>10</th>\n",
       "      <td>GC</td>\n",
       "      <td>542</td>\n",
       "    </tr>\n",
       "    <tr>\n",
       "      <th>11</th>\n",
       "      <td>3DS</td>\n",
       "      <td>512</td>\n",
       "    </tr>\n",
       "    <tr>\n",
       "      <th>12</th>\n",
       "      <td>PSV</td>\n",
       "      <td>429</td>\n",
       "    </tr>\n",
       "    <tr>\n",
       "      <th>13</th>\n",
       "      <td>PS4</td>\n",
       "      <td>392</td>\n",
       "    </tr>\n",
       "    <tr>\n",
       "      <th>14</th>\n",
       "      <td>N64</td>\n",
       "      <td>316</td>\n",
       "    </tr>\n",
       "    <tr>\n",
       "      <th>15</th>\n",
       "      <td>XOne</td>\n",
       "      <td>247</td>\n",
       "    </tr>\n",
       "    <tr>\n",
       "      <th>16</th>\n",
       "      <td>SNES</td>\n",
       "      <td>239</td>\n",
       "    </tr>\n",
       "    <tr>\n",
       "      <th>17</th>\n",
       "      <td>SAT</td>\n",
       "      <td>173</td>\n",
       "    </tr>\n",
       "    <tr>\n",
       "      <th>18</th>\n",
       "      <td>WiiU</td>\n",
       "      <td>147</td>\n",
       "    </tr>\n",
       "    <tr>\n",
       "      <th>19</th>\n",
       "      <td>2600</td>\n",
       "      <td>116</td>\n",
       "    </tr>\n",
       "    <tr>\n",
       "      <th>20</th>\n",
       "      <td>NES</td>\n",
       "      <td>98</td>\n",
       "    </tr>\n",
       "    <tr>\n",
       "      <th>21</th>\n",
       "      <td>GB</td>\n",
       "      <td>97</td>\n",
       "    </tr>\n",
       "    <tr>\n",
       "      <th>22</th>\n",
       "      <td>DC</td>\n",
       "      <td>52</td>\n",
       "    </tr>\n",
       "    <tr>\n",
       "      <th>23</th>\n",
       "      <td>GEN</td>\n",
       "      <td>27</td>\n",
       "    </tr>\n",
       "    <tr>\n",
       "      <th>24</th>\n",
       "      <td>NG</td>\n",
       "      <td>12</td>\n",
       "    </tr>\n",
       "    <tr>\n",
       "      <th>25</th>\n",
       "      <td>SCD</td>\n",
       "      <td>6</td>\n",
       "    </tr>\n",
       "    <tr>\n",
       "      <th>26</th>\n",
       "      <td>WS</td>\n",
       "      <td>6</td>\n",
       "    </tr>\n",
       "    <tr>\n",
       "      <th>27</th>\n",
       "      <td>3DO</td>\n",
       "      <td>3</td>\n",
       "    </tr>\n",
       "    <tr>\n",
       "      <th>28</th>\n",
       "      <td>TG16</td>\n",
       "      <td>2</td>\n",
       "    </tr>\n",
       "    <tr>\n",
       "      <th>29</th>\n",
       "      <td>PCFX</td>\n",
       "      <td>1</td>\n",
       "    </tr>\n",
       "    <tr>\n",
       "      <th>30</th>\n",
       "      <td>GG</td>\n",
       "      <td>1</td>\n",
       "    </tr>\n",
       "  </tbody>\n",
       "</table>\n",
       "</div>"
      ],
      "text/plain": [
       "   platform  total_sales\n",
       "0       PS2         2127\n",
       "1        DS         2121\n",
       "2       PS3         1306\n",
       "3       Wii         1286\n",
       "4      X360         1232\n",
       "5       PSP         1193\n",
       "6        PS         1190\n",
       "7        PC          957\n",
       "8       GBA          811\n",
       "9        XB          803\n",
       "10       GC          542\n",
       "11      3DS          512\n",
       "12      PSV          429\n",
       "13      PS4          392\n",
       "14      N64          316\n",
       "15     XOne          247\n",
       "16     SNES          239\n",
       "17      SAT          173\n",
       "18     WiiU          147\n",
       "19     2600          116\n",
       "20      NES           98\n",
       "21       GB           97\n",
       "22       DC           52\n",
       "23      GEN           27\n",
       "24       NG           12\n",
       "25      SCD            6\n",
       "26       WS            6\n",
       "27      3DO            3\n",
       "28     TG16            2\n",
       "29     PCFX            1\n",
       "30       GG            1"
      ]
     },
     "execution_count": 29,
     "metadata": {},
     "output_type": "execute_result"
    }
   ],
   "source": [
    "platform_sales = (df[['platform', 'total_sales']]\n",
    "                .groupby('platform')\n",
    "                .agg('count')\n",
    "                .sort_values(by= 'total_sales', ascending=False)).reset_index()\n",
    "platform_sales"
   ]
  },
  {
   "cell_type": "code",
   "execution_count": 30,
   "id": "a213122b",
   "metadata": {},
   "outputs": [
    {
     "data": {
      "image/png": "[encoded data removed]",
      "text/plain": [
       "<Figure size 1080x720 with 1 Axes>"
      ]
     },
     "metadata": {
      "needs_background": "light"
     },
     "output_type": "display_data"
    }
   ],
   "source": [
    "#plot de ventas totales por plataformas\n",
    "x = platform_sales['platform']\n",
    "y = platform_sales['total_sales']\n",
    "fig, ax = plt.subplots(figsize=(15,10))\n",
    "ax.bar(x, y , width= 0.5)\n",
    "plt.show()"
   ]
  },
  {
   "cell_type": "markdown",
   "id": "ee7a5494",
   "metadata": {},
   "source": [
    "Podemos ver en el gráfico anterior que hubo variaciones en las ventas entre plataformas. Las cinco principales plataformas fueron PS2, DS, PS3, Wii y X360 respectivamente. Las plataformas con menos ventas fueron SCD, WS, 3DO, TG16, PCFX y GG."
   ]
  },
  {
   "cell_type": "markdown",
   "id": "ddef31cf",
   "metadata": {},
   "source": [
    "### Eligiremos las 7 plataformas con las mayores ventas totales y construiremos una distribución basada en los datos de cada año. "
   ]
  },
  {
   "cell_type": "markdown",
   "id": "ecd80a9c",
   "metadata": {},
   "source": [
    "### ¿Cuánto tardan generalmente las nuevas plataformas en aparecer y las antiguas en desaparecer?"
   ]
  },
  {
   "cell_type": "markdown",
   "id": "5c3590fc",
   "metadata": {},
   "source": [
    "**Veremos la relación de ps2 de ventas por año**"
   ]
  },
  {
   "cell_type": "code",
   "execution_count": 31,
   "id": "50147a59",
   "metadata": {},
   "outputs": [
    {
     "data": {
      "text/html": [
       "<div>\n",
       "<style scoped>\n",
       "    .dataframe tbody tr th:only-of-type {\n",
       "        vertical-align: middle;\n",
       "    }\n",
       "\n",
       "    .dataframe tbody tr th {\n",
       "        vertical-align: top;\n",
       "    }\n",
       "\n",
       "    .dataframe thead th {\n",
       "        text-align: right;\n",
       "    }\n",
       "</style>\n",
       "<table border=\"1\" class=\"dataframe\">\n",
       "  <thead>\n",
       "    <tr style=\"text-align: right;\">\n",
       "      <th></th>\n",
       "      <th>total_sales</th>\n",
       "    </tr>\n",
       "    <tr>\n",
       "      <th>year_of_release</th>\n",
       "      <th></th>\n",
       "    </tr>\n",
       "  </thead>\n",
       "  <tbody>\n",
       "    <tr>\n",
       "      <th>2000</th>\n",
       "      <td>39.17</td>\n",
       "    </tr>\n",
       "    <tr>\n",
       "      <th>2001</th>\n",
       "      <td>166.43</td>\n",
       "    </tr>\n",
       "    <tr>\n",
       "      <th>2002</th>\n",
       "      <td>205.38</td>\n",
       "    </tr>\n",
       "    <tr>\n",
       "      <th>2003</th>\n",
       "      <td>184.31</td>\n",
       "    </tr>\n",
       "    <tr>\n",
       "      <th>2004</th>\n",
       "      <td>211.81</td>\n",
       "    </tr>\n",
       "    <tr>\n",
       "      <th>2005</th>\n",
       "      <td>160.66</td>\n",
       "    </tr>\n",
       "    <tr>\n",
       "      <th>2006</th>\n",
       "      <td>103.42</td>\n",
       "    </tr>\n",
       "    <tr>\n",
       "      <th>2007</th>\n",
       "      <td>75.99</td>\n",
       "    </tr>\n",
       "    <tr>\n",
       "      <th>2008</th>\n",
       "      <td>53.90</td>\n",
       "    </tr>\n",
       "    <tr>\n",
       "      <th>2009</th>\n",
       "      <td>26.40</td>\n",
       "    </tr>\n",
       "    <tr>\n",
       "      <th>2010</th>\n",
       "      <td>5.64</td>\n",
       "    </tr>\n",
       "    <tr>\n",
       "      <th>2011</th>\n",
       "      <td>0.45</td>\n",
       "    </tr>\n",
       "  </tbody>\n",
       "</table>\n",
       "</div>"
      ],
      "text/plain": [
       "                 total_sales\n",
       "year_of_release             \n",
       "2000                   39.17\n",
       "2001                  166.43\n",
       "2002                  205.38\n",
       "2003                  184.31\n",
       "2004                  211.81\n",
       "2005                  160.66\n",
       "2006                  103.42\n",
       "2007                   75.99\n",
       "2008                   53.90\n",
       "2009                   26.40\n",
       "2010                    5.64\n",
       "2011                    0.45"
      ]
     },
     "execution_count": 31,
     "metadata": {},
     "output_type": "execute_result"
    }
   ],
   "source": [
    "ps2_sales_years = df.query('platform == \"PS2\"').pivot_table(index= 'year_of_release', values= 'total_sales', aggfunc= 'sum')\n",
    "ps2_sales_years"
   ]
  },
  {
   "cell_type": "code",
   "execution_count": 32,
   "id": "498aa13c",
   "metadata": {},
   "outputs": [
    {
     "data": {
      "image/png": "[encoded data removed]",
      "text/plain": [
       "<Figure size 864x432 with 1 Axes>"
      ]
     },
     "metadata": {
      "needs_background": "light"
     },
     "output_type": "display_data"
    }
   ],
   "source": [
    "ps2_sales_years.plot(kind='bar', figsize=(12,6), rot=45, title='Total ventas por año PS2', edgecolor='blue', legend=False);"
   ]
  },
  {
   "cell_type": "markdown",
   "id": "d54ac3fb",
   "metadata": {},
   "source": [
    "**Veremos la relación de DS de ventas por año**"
   ]
  },
  {
   "cell_type": "code",
   "execution_count": 33,
   "id": "0332519f",
   "metadata": {},
   "outputs": [
    {
     "data": {
      "text/html": [
       "<div>\n",
       "<style scoped>\n",
       "    .dataframe tbody tr th:only-of-type {\n",
       "        vertical-align: middle;\n",
       "    }\n",
       "\n",
       "    .dataframe tbody tr th {\n",
       "        vertical-align: top;\n",
       "    }\n",
       "\n",
       "    .dataframe thead th {\n",
       "        text-align: right;\n",
       "    }\n",
       "</style>\n",
       "<table border=\"1\" class=\"dataframe\">\n",
       "  <thead>\n",
       "    <tr style=\"text-align: right;\">\n",
       "      <th></th>\n",
       "      <th>total_sales</th>\n",
       "    </tr>\n",
       "    <tr>\n",
       "      <th>year_of_release</th>\n",
       "      <th></th>\n",
       "    </tr>\n",
       "  </thead>\n",
       "  <tbody>\n",
       "    <tr>\n",
       "      <th>1985</th>\n",
       "      <td>0.02</td>\n",
       "    </tr>\n",
       "    <tr>\n",
       "      <th>2004</th>\n",
       "      <td>17.27</td>\n",
       "    </tr>\n",
       "    <tr>\n",
       "      <th>2005</th>\n",
       "      <td>130.14</td>\n",
       "    </tr>\n",
       "    <tr>\n",
       "      <th>2006</th>\n",
       "      <td>119.81</td>\n",
       "    </tr>\n",
       "    <tr>\n",
       "      <th>2007</th>\n",
       "      <td>146.94</td>\n",
       "    </tr>\n",
       "    <tr>\n",
       "      <th>2008</th>\n",
       "      <td>145.31</td>\n",
       "    </tr>\n",
       "    <tr>\n",
       "      <th>2009</th>\n",
       "      <td>119.54</td>\n",
       "    </tr>\n",
       "    <tr>\n",
       "      <th>2010</th>\n",
       "      <td>85.02</td>\n",
       "    </tr>\n",
       "    <tr>\n",
       "      <th>2011</th>\n",
       "      <td>26.18</td>\n",
       "    </tr>\n",
       "    <tr>\n",
       "      <th>2012</th>\n",
       "      <td>11.01</td>\n",
       "    </tr>\n",
       "    <tr>\n",
       "      <th>2013</th>\n",
       "      <td>1.54</td>\n",
       "    </tr>\n",
       "  </tbody>\n",
       "</table>\n",
       "</div>"
      ],
      "text/plain": [
       "                 total_sales\n",
       "year_of_release             \n",
       "1985                    0.02\n",
       "2004                   17.27\n",
       "2005                  130.14\n",
       "2006                  119.81\n",
       "2007                  146.94\n",
       "2008                  145.31\n",
       "2009                  119.54\n",
       "2010                   85.02\n",
       "2011                   26.18\n",
       "2012                   11.01\n",
       "2013                    1.54"
      ]
     },
     "execution_count": 33,
     "metadata": {},
     "output_type": "execute_result"
    }
   ],
   "source": [
    "ds_sales_years = df.query('platform == \"DS\"').pivot_table(index= 'year_of_release', values= 'total_sales', aggfunc= 'sum')\n",
    "ds_sales_years"
   ]
  },
  {
   "cell_type": "code",
   "execution_count": 34,
   "id": "5d8d98ef",
   "metadata": {},
   "outputs": [
    {
     "data": {
      "image/png": "[encoded data removed]",
      "text/plain": [
       "<Figure size 864x432 with 1 Axes>"
      ]
     },
     "metadata": {
      "needs_background": "light"
     },
     "output_type": "display_data"
    }
   ],
   "source": [
    "ds_sales_years.plot(kind='bar', figsize=(12,6), rot=45, title='Total ventas por año de DS', edgecolor='blue', legend=False);"
   ]
  },
  {
   "cell_type": "markdown",
   "id": "1268627f",
   "metadata": {},
   "source": [
    "**Veremos la relación de PS3 de ventas por año**"
   ]
  },
  {
   "cell_type": "code",
   "execution_count": 35,
   "id": "197518e3",
   "metadata": {},
   "outputs": [
    {
     "data": {
      "text/html": [
       "<div>\n",
       "<style scoped>\n",
       "    .dataframe tbody tr th:only-of-type {\n",
       "        vertical-align: middle;\n",
       "    }\n",
       "\n",
       "    .dataframe tbody tr th {\n",
       "        vertical-align: top;\n",
       "    }\n",
       "\n",
       "    .dataframe thead th {\n",
       "        text-align: right;\n",
       "    }\n",
       "</style>\n",
       "<table border=\"1\" class=\"dataframe\">\n",
       "  <thead>\n",
       "    <tr style=\"text-align: right;\">\n",
       "      <th></th>\n",
       "      <th>total_sales</th>\n",
       "    </tr>\n",
       "    <tr>\n",
       "      <th>year_of_release</th>\n",
       "      <th></th>\n",
       "    </tr>\n",
       "  </thead>\n",
       "  <tbody>\n",
       "    <tr>\n",
       "      <th>2006</th>\n",
       "      <td>20.96</td>\n",
       "    </tr>\n",
       "    <tr>\n",
       "      <th>2007</th>\n",
       "      <td>73.19</td>\n",
       "    </tr>\n",
       "    <tr>\n",
       "      <th>2008</th>\n",
       "      <td>118.52</td>\n",
       "    </tr>\n",
       "    <tr>\n",
       "      <th>2009</th>\n",
       "      <td>130.93</td>\n",
       "    </tr>\n",
       "    <tr>\n",
       "      <th>2010</th>\n",
       "      <td>142.17</td>\n",
       "    </tr>\n",
       "    <tr>\n",
       "      <th>2011</th>\n",
       "      <td>156.78</td>\n",
       "    </tr>\n",
       "    <tr>\n",
       "      <th>2012</th>\n",
       "      <td>107.36</td>\n",
       "    </tr>\n",
       "    <tr>\n",
       "      <th>2013</th>\n",
       "      <td>113.25</td>\n",
       "    </tr>\n",
       "    <tr>\n",
       "      <th>2014</th>\n",
       "      <td>47.76</td>\n",
       "    </tr>\n",
       "    <tr>\n",
       "      <th>2015</th>\n",
       "      <td>16.82</td>\n",
       "    </tr>\n",
       "    <tr>\n",
       "      <th>2016</th>\n",
       "      <td>3.60</td>\n",
       "    </tr>\n",
       "  </tbody>\n",
       "</table>\n",
       "</div>"
      ],
      "text/plain": [
       "                 total_sales\n",
       "year_of_release             \n",
       "2006                   20.96\n",
       "2007                   73.19\n",
       "2008                  118.52\n",
       "2009                  130.93\n",
       "2010                  142.17\n",
       "2011                  156.78\n",
       "2012                  107.36\n",
       "2013                  113.25\n",
       "2014                   47.76\n",
       "2015                   16.82\n",
       "2016                    3.60"
      ]
     },
     "execution_count": 35,
     "metadata": {},
     "output_type": "execute_result"
    }
   ],
   "source": [
    "ps3_sales_years = df.query('platform == \"PS3\"').pivot_table(index= 'year_of_release', values= 'total_sales', aggfunc= 'sum')\n",
    "ps3_sales_years"
   ]
  },
  {
   "cell_type": "code",
   "execution_count": 36,
   "id": "2a7d7965",
   "metadata": {},
   "outputs": [
    {
     "data": {
      "image/png": "[encoded data removed]",
      "text/plain": [
       "<Figure size 864x432 with 1 Axes>"
      ]
     },
     "metadata": {
      "needs_background": "light"
     },
     "output_type": "display_data"
    }
   ],
   "source": [
    "ps3_sales_years.plot(kind='bar', figsize=(12,6), rot=45, title='Total ventas por año de PS3', edgecolor='blue', legend=False);"
   ]
  },
  {
   "cell_type": "markdown",
   "id": "8fc45989",
   "metadata": {},
   "source": [
    "**Veremos la relación de la consola Wii de ventas por año**"
   ]
  },
  {
   "cell_type": "code",
   "execution_count": 37,
   "id": "1667688a",
   "metadata": {},
   "outputs": [
    {
     "data": {
      "text/html": [
       "<div>\n",
       "<style scoped>\n",
       "    .dataframe tbody tr th:only-of-type {\n",
       "        vertical-align: middle;\n",
       "    }\n",
       "\n",
       "    .dataframe tbody tr th {\n",
       "        vertical-align: top;\n",
       "    }\n",
       "\n",
       "    .dataframe thead th {\n",
       "        text-align: right;\n",
       "    }\n",
       "</style>\n",
       "<table border=\"1\" class=\"dataframe\">\n",
       "  <thead>\n",
       "    <tr style=\"text-align: right;\">\n",
       "      <th></th>\n",
       "      <th>total_sales</th>\n",
       "    </tr>\n",
       "    <tr>\n",
       "      <th>year_of_release</th>\n",
       "      <th></th>\n",
       "    </tr>\n",
       "  </thead>\n",
       "  <tbody>\n",
       "    <tr>\n",
       "      <th>2006</th>\n",
       "      <td>137.15</td>\n",
       "    </tr>\n",
       "    <tr>\n",
       "      <th>2007</th>\n",
       "      <td>152.77</td>\n",
       "    </tr>\n",
       "    <tr>\n",
       "      <th>2008</th>\n",
       "      <td>171.32</td>\n",
       "    </tr>\n",
       "    <tr>\n",
       "      <th>2009</th>\n",
       "      <td>206.97</td>\n",
       "    </tr>\n",
       "    <tr>\n",
       "      <th>2010</th>\n",
       "      <td>127.95</td>\n",
       "    </tr>\n",
       "    <tr>\n",
       "      <th>2011</th>\n",
       "      <td>59.65</td>\n",
       "    </tr>\n",
       "    <tr>\n",
       "      <th>2012</th>\n",
       "      <td>21.71</td>\n",
       "    </tr>\n",
       "    <tr>\n",
       "      <th>2013</th>\n",
       "      <td>8.59</td>\n",
       "    </tr>\n",
       "    <tr>\n",
       "      <th>2014</th>\n",
       "      <td>3.75</td>\n",
       "    </tr>\n",
       "    <tr>\n",
       "      <th>2015</th>\n",
       "      <td>1.14</td>\n",
       "    </tr>\n",
       "    <tr>\n",
       "      <th>2016</th>\n",
       "      <td>0.18</td>\n",
       "    </tr>\n",
       "  </tbody>\n",
       "</table>\n",
       "</div>"
      ],
      "text/plain": [
       "                 total_sales\n",
       "year_of_release             \n",
       "2006                  137.15\n",
       "2007                  152.77\n",
       "2008                  171.32\n",
       "2009                  206.97\n",
       "2010                  127.95\n",
       "2011                   59.65\n",
       "2012                   21.71\n",
       "2013                    8.59\n",
       "2014                    3.75\n",
       "2015                    1.14\n",
       "2016                    0.18"
      ]
     },
     "execution_count": 37,
     "metadata": {},
     "output_type": "execute_result"
    }
   ],
   "source": [
    "wii_sales_years = df.query('platform == \"Wii\"').pivot_table(index= 'year_of_release', values= 'total_sales', aggfunc= 'sum')\n",
    "wii_sales_years"
   ]
  },
  {
   "cell_type": "code",
   "execution_count": 38,
   "id": "b153a8cc",
   "metadata": {},
   "outputs": [
    {
     "data": {
      "image/png": "[encoded data removed]",
      "text/plain": [
       "<Figure size 864x432 with 1 Axes>"
      ]
     },
     "metadata": {
      "needs_background": "light"
     },
     "output_type": "display_data"
    }
   ],
   "source": [
    "wii_sales_years.plot(kind='bar', figsize=(12,6), rot=45, title='Total ventas por año de Wii', edgecolor='blue', legend=False);"
   ]
  },
  {
   "cell_type": "markdown",
   "id": "e7fe46ba",
   "metadata": {},
   "source": [
    "**Veremos la relación de X360 de ventas por año**"
   ]
  },
  {
   "cell_type": "code",
   "execution_count": 39,
   "id": "d6740c81",
   "metadata": {},
   "outputs": [
    {
     "data": {
      "text/html": [
       "<div>\n",
       "<style scoped>\n",
       "    .dataframe tbody tr th:only-of-type {\n",
       "        vertical-align: middle;\n",
       "    }\n",
       "\n",
       "    .dataframe tbody tr th {\n",
       "        vertical-align: top;\n",
       "    }\n",
       "\n",
       "    .dataframe thead th {\n",
       "        text-align: right;\n",
       "    }\n",
       "</style>\n",
       "<table border=\"1\" class=\"dataframe\">\n",
       "  <thead>\n",
       "    <tr style=\"text-align: right;\">\n",
       "      <th></th>\n",
       "      <th>total_sales</th>\n",
       "    </tr>\n",
       "    <tr>\n",
       "      <th>year_of_release</th>\n",
       "      <th></th>\n",
       "    </tr>\n",
       "  </thead>\n",
       "  <tbody>\n",
       "    <tr>\n",
       "      <th>2005</th>\n",
       "      <td>8.25</td>\n",
       "    </tr>\n",
       "    <tr>\n",
       "      <th>2006</th>\n",
       "      <td>51.62</td>\n",
       "    </tr>\n",
       "    <tr>\n",
       "      <th>2007</th>\n",
       "      <td>95.41</td>\n",
       "    </tr>\n",
       "    <tr>\n",
       "      <th>2008</th>\n",
       "      <td>135.26</td>\n",
       "    </tr>\n",
       "    <tr>\n",
       "      <th>2009</th>\n",
       "      <td>120.29</td>\n",
       "    </tr>\n",
       "    <tr>\n",
       "      <th>2010</th>\n",
       "      <td>170.03</td>\n",
       "    </tr>\n",
       "    <tr>\n",
       "      <th>2011</th>\n",
       "      <td>143.84</td>\n",
       "    </tr>\n",
       "    <tr>\n",
       "      <th>2012</th>\n",
       "      <td>99.74</td>\n",
       "    </tr>\n",
       "    <tr>\n",
       "      <th>2013</th>\n",
       "      <td>88.58</td>\n",
       "    </tr>\n",
       "    <tr>\n",
       "      <th>2014</th>\n",
       "      <td>34.74</td>\n",
       "    </tr>\n",
       "    <tr>\n",
       "      <th>2015</th>\n",
       "      <td>11.96</td>\n",
       "    </tr>\n",
       "    <tr>\n",
       "      <th>2016</th>\n",
       "      <td>1.52</td>\n",
       "    </tr>\n",
       "  </tbody>\n",
       "</table>\n",
       "</div>"
      ],
      "text/plain": [
       "                 total_sales\n",
       "year_of_release             \n",
       "2005                    8.25\n",
       "2006                   51.62\n",
       "2007                   95.41\n",
       "2008                  135.26\n",
       "2009                  120.29\n",
       "2010                  170.03\n",
       "2011                  143.84\n",
       "2012                   99.74\n",
       "2013                   88.58\n",
       "2014                   34.74\n",
       "2015                   11.96\n",
       "2016                    1.52"
      ]
     },
     "execution_count": 39,
     "metadata": {},
     "output_type": "execute_result"
    }
   ],
   "source": [
    "x360_sales_years = df.query('platform == \"X360\"').pivot_table(index= 'year_of_release', values= 'total_sales', aggfunc= 'sum')\n",
    "x360_sales_years"
   ]
  },
  {
   "cell_type": "code",
   "execution_count": 40,
   "id": "8e8f8bc9",
   "metadata": {},
   "outputs": [
    {
     "data": {
      "image/png": "[encoded data removed]",
      "text/plain": [
       "<Figure size 864x432 with 1 Axes>"
      ]
     },
     "metadata": {
      "needs_background": "light"
     },
     "output_type": "display_data"
    }
   ],
   "source": [
    "x360_sales_years.plot(kind='bar', figsize=(12,6), rot=45, title='Total ventas por año de X360', edgecolor='blue', legend=False);"
   ]
  },
  {
   "cell_type": "markdown",
   "id": "7d9a4291",
   "metadata": {},
   "source": [
    "**Veremos la relación de PSP de ventas por año**"
   ]
  },
  {
   "cell_type": "code",
   "execution_count": 41,
   "id": "f44e34a6",
   "metadata": {},
   "outputs": [
    {
     "data": {
      "text/html": [
       "<div>\n",
       "<style scoped>\n",
       "    .dataframe tbody tr th:only-of-type {\n",
       "        vertical-align: middle;\n",
       "    }\n",
       "\n",
       "    .dataframe tbody tr th {\n",
       "        vertical-align: top;\n",
       "    }\n",
       "\n",
       "    .dataframe thead th {\n",
       "        text-align: right;\n",
       "    }\n",
       "</style>\n",
       "<table border=\"1\" class=\"dataframe\">\n",
       "  <thead>\n",
       "    <tr style=\"text-align: right;\">\n",
       "      <th></th>\n",
       "      <th>total_sales</th>\n",
       "    </tr>\n",
       "    <tr>\n",
       "      <th>year_of_release</th>\n",
       "      <th></th>\n",
       "    </tr>\n",
       "  </thead>\n",
       "  <tbody>\n",
       "    <tr>\n",
       "      <th>2004</th>\n",
       "      <td>7.06</td>\n",
       "    </tr>\n",
       "    <tr>\n",
       "      <th>2005</th>\n",
       "      <td>43.84</td>\n",
       "    </tr>\n",
       "    <tr>\n",
       "      <th>2006</th>\n",
       "      <td>55.32</td>\n",
       "    </tr>\n",
       "    <tr>\n",
       "      <th>2007</th>\n",
       "      <td>46.93</td>\n",
       "    </tr>\n",
       "    <tr>\n",
       "      <th>2008</th>\n",
       "      <td>34.55</td>\n",
       "    </tr>\n",
       "    <tr>\n",
       "      <th>2009</th>\n",
       "      <td>37.78</td>\n",
       "    </tr>\n",
       "    <tr>\n",
       "      <th>2010</th>\n",
       "      <td>35.04</td>\n",
       "    </tr>\n",
       "    <tr>\n",
       "      <th>2011</th>\n",
       "      <td>17.82</td>\n",
       "    </tr>\n",
       "    <tr>\n",
       "      <th>2012</th>\n",
       "      <td>7.69</td>\n",
       "    </tr>\n",
       "    <tr>\n",
       "      <th>2013</th>\n",
       "      <td>3.14</td>\n",
       "    </tr>\n",
       "    <tr>\n",
       "      <th>2014</th>\n",
       "      <td>0.24</td>\n",
       "    </tr>\n",
       "    <tr>\n",
       "      <th>2015</th>\n",
       "      <td>0.12</td>\n",
       "    </tr>\n",
       "  </tbody>\n",
       "</table>\n",
       "</div>"
      ],
      "text/plain": [
       "                 total_sales\n",
       "year_of_release             \n",
       "2004                    7.06\n",
       "2005                   43.84\n",
       "2006                   55.32\n",
       "2007                   46.93\n",
       "2008                   34.55\n",
       "2009                   37.78\n",
       "2010                   35.04\n",
       "2011                   17.82\n",
       "2012                    7.69\n",
       "2013                    3.14\n",
       "2014                    0.24\n",
       "2015                    0.12"
      ]
     },
     "execution_count": 41,
     "metadata": {},
     "output_type": "execute_result"
    }
   ],
   "source": [
    "psp_sales_years = df.query('platform == \"PSP\"').pivot_table(index= 'year_of_release', values= 'total_sales', aggfunc= 'sum')\n",
    "psp_sales_years"
   ]
  },
  {
   "cell_type": "code",
   "execution_count": 42,
   "id": "a450a3c2",
   "metadata": {},
   "outputs": [
    {
     "data": {
      "image/png": "[encoded data removed]",
      "text/plain": [
       "<Figure size 864x432 with 1 Axes>"
      ]
     },
     "metadata": {
      "needs_background": "light"
     },
     "output_type": "display_data"
    }
   ],
   "source": [
    "psp_sales_years.plot(kind='bar', figsize=(12,6), rot=45, title='Total ventas por año de PSP', edgecolor='blue', legend=False);"
   ]
  },
  {
   "cell_type": "markdown",
   "id": "ac23f47b",
   "metadata": {},
   "source": [
    "**Veremos la relación de PS de ventas por año**"
   ]
  },
  {
   "cell_type": "code",
   "execution_count": 43,
   "id": "08385a45",
   "metadata": {},
   "outputs": [
    {
     "data": {
      "text/html": [
       "<div>\n",
       "<style scoped>\n",
       "    .dataframe tbody tr th:only-of-type {\n",
       "        vertical-align: middle;\n",
       "    }\n",
       "\n",
       "    .dataframe tbody tr th {\n",
       "        vertical-align: top;\n",
       "    }\n",
       "\n",
       "    .dataframe thead th {\n",
       "        text-align: right;\n",
       "    }\n",
       "</style>\n",
       "<table border=\"1\" class=\"dataframe\">\n",
       "  <thead>\n",
       "    <tr style=\"text-align: right;\">\n",
       "      <th></th>\n",
       "      <th>total_sales</th>\n",
       "    </tr>\n",
       "    <tr>\n",
       "      <th>year_of_release</th>\n",
       "      <th></th>\n",
       "    </tr>\n",
       "  </thead>\n",
       "  <tbody>\n",
       "    <tr>\n",
       "      <th>1994</th>\n",
       "      <td>6.03</td>\n",
       "    </tr>\n",
       "    <tr>\n",
       "      <th>1995</th>\n",
       "      <td>35.96</td>\n",
       "    </tr>\n",
       "    <tr>\n",
       "      <th>1996</th>\n",
       "      <td>94.70</td>\n",
       "    </tr>\n",
       "    <tr>\n",
       "      <th>1997</th>\n",
       "      <td>136.17</td>\n",
       "    </tr>\n",
       "    <tr>\n",
       "      <th>1998</th>\n",
       "      <td>169.49</td>\n",
       "    </tr>\n",
       "    <tr>\n",
       "      <th>1999</th>\n",
       "      <td>144.53</td>\n",
       "    </tr>\n",
       "    <tr>\n",
       "      <th>2000</th>\n",
       "      <td>96.37</td>\n",
       "    </tr>\n",
       "    <tr>\n",
       "      <th>2001</th>\n",
       "      <td>35.59</td>\n",
       "    </tr>\n",
       "    <tr>\n",
       "      <th>2002</th>\n",
       "      <td>6.67</td>\n",
       "    </tr>\n",
       "    <tr>\n",
       "      <th>2003</th>\n",
       "      <td>2.07</td>\n",
       "    </tr>\n",
       "  </tbody>\n",
       "</table>\n",
       "</div>"
      ],
      "text/plain": [
       "                 total_sales\n",
       "year_of_release             \n",
       "1994                    6.03\n",
       "1995                   35.96\n",
       "1996                   94.70\n",
       "1997                  136.17\n",
       "1998                  169.49\n",
       "1999                  144.53\n",
       "2000                   96.37\n",
       "2001                   35.59\n",
       "2002                    6.67\n",
       "2003                    2.07"
      ]
     },
     "execution_count": 43,
     "metadata": {},
     "output_type": "execute_result"
    }
   ],
   "source": [
    "ps_sales_years = df.query('platform == \"PS\"').pivot_table(index= 'year_of_release', values= 'total_sales', aggfunc= 'sum')\n",
    "ps_sales_years"
   ]
  },
  {
   "cell_type": "code",
   "execution_count": 44,
   "id": "2aa8a4a5",
   "metadata": {},
   "outputs": [
    {
     "data": {
      "image/png": "[encoded data removed]",
      "text/plain": [
       "<Figure size 864x432 with 1 Axes>"
      ]
     },
     "metadata": {
      "needs_background": "light"
     },
     "output_type": "display_data"
    }
   ],
   "source": [
    "ps_sales_years.plot(kind='bar', figsize=(12,6), rot=45, title='Total ventas por año de PS', edgecolor='blue', legend=False);"
   ]
  },
  {
   "cell_type": "markdown",
   "id": "a0395034",
   "metadata": {},
   "source": [
    "**Veremos la relación de PC de ventas por año**"
   ]
  },
  {
   "cell_type": "code",
   "execution_count": 45,
   "id": "50a30152",
   "metadata": {},
   "outputs": [
    {
     "data": {
      "text/html": [
       "<div>\n",
       "<style scoped>\n",
       "    .dataframe tbody tr th:only-of-type {\n",
       "        vertical-align: middle;\n",
       "    }\n",
       "\n",
       "    .dataframe tbody tr th {\n",
       "        vertical-align: top;\n",
       "    }\n",
       "\n",
       "    .dataframe thead th {\n",
       "        text-align: right;\n",
       "    }\n",
       "</style>\n",
       "<table border=\"1\" class=\"dataframe\">\n",
       "  <thead>\n",
       "    <tr style=\"text-align: right;\">\n",
       "      <th></th>\n",
       "      <th>total_sales</th>\n",
       "    </tr>\n",
       "    <tr>\n",
       "      <th>year_of_release</th>\n",
       "      <th></th>\n",
       "    </tr>\n",
       "  </thead>\n",
       "  <tbody>\n",
       "    <tr>\n",
       "      <th>1985</th>\n",
       "      <td>0.04</td>\n",
       "    </tr>\n",
       "    <tr>\n",
       "      <th>1988</th>\n",
       "      <td>0.03</td>\n",
       "    </tr>\n",
       "    <tr>\n",
       "      <th>1992</th>\n",
       "      <td>3.03</td>\n",
       "    </tr>\n",
       "    <tr>\n",
       "      <th>1994</th>\n",
       "      <td>12.87</td>\n",
       "    </tr>\n",
       "    <tr>\n",
       "      <th>1995</th>\n",
       "      <td>4.22</td>\n",
       "    </tr>\n",
       "    <tr>\n",
       "      <th>1996</th>\n",
       "      <td>10.58</td>\n",
       "    </tr>\n",
       "    <tr>\n",
       "      <th>1997</th>\n",
       "      <td>11.27</td>\n",
       "    </tr>\n",
       "    <tr>\n",
       "      <th>1998</th>\n",
       "      <td>3.26</td>\n",
       "    </tr>\n",
       "    <tr>\n",
       "      <th>1999</th>\n",
       "      <td>4.74</td>\n",
       "    </tr>\n",
       "    <tr>\n",
       "      <th>2000</th>\n",
       "      <td>4.66</td>\n",
       "    </tr>\n",
       "    <tr>\n",
       "      <th>2001</th>\n",
       "      <td>5.47</td>\n",
       "    </tr>\n",
       "    <tr>\n",
       "      <th>2002</th>\n",
       "      <td>8.57</td>\n",
       "    </tr>\n",
       "    <tr>\n",
       "      <th>2003</th>\n",
       "      <td>8.84</td>\n",
       "    </tr>\n",
       "    <tr>\n",
       "      <th>2004</th>\n",
       "      <td>10.39</td>\n",
       "    </tr>\n",
       "    <tr>\n",
       "      <th>2005</th>\n",
       "      <td>4.37</td>\n",
       "    </tr>\n",
       "    <tr>\n",
       "      <th>2006</th>\n",
       "      <td>2.85</td>\n",
       "    </tr>\n",
       "    <tr>\n",
       "      <th>2007</th>\n",
       "      <td>9.28</td>\n",
       "    </tr>\n",
       "    <tr>\n",
       "      <th>2008</th>\n",
       "      <td>12.42</td>\n",
       "    </tr>\n",
       "    <tr>\n",
       "      <th>2009</th>\n",
       "      <td>16.91</td>\n",
       "    </tr>\n",
       "    <tr>\n",
       "      <th>2010</th>\n",
       "      <td>24.28</td>\n",
       "    </tr>\n",
       "    <tr>\n",
       "      <th>2011</th>\n",
       "      <td>35.03</td>\n",
       "    </tr>\n",
       "    <tr>\n",
       "      <th>2012</th>\n",
       "      <td>23.22</td>\n",
       "    </tr>\n",
       "    <tr>\n",
       "      <th>2013</th>\n",
       "      <td>12.38</td>\n",
       "    </tr>\n",
       "    <tr>\n",
       "      <th>2014</th>\n",
       "      <td>13.28</td>\n",
       "    </tr>\n",
       "    <tr>\n",
       "      <th>2015</th>\n",
       "      <td>8.52</td>\n",
       "    </tr>\n",
       "    <tr>\n",
       "      <th>2016</th>\n",
       "      <td>5.25</td>\n",
       "    </tr>\n",
       "  </tbody>\n",
       "</table>\n",
       "</div>"
      ],
      "text/plain": [
       "                 total_sales\n",
       "year_of_release             \n",
       "1985                    0.04\n",
       "1988                    0.03\n",
       "1992                    3.03\n",
       "1994                   12.87\n",
       "1995                    4.22\n",
       "1996                   10.58\n",
       "1997                   11.27\n",
       "1998                    3.26\n",
       "1999                    4.74\n",
       "2000                    4.66\n",
       "2001                    5.47\n",
       "2002                    8.57\n",
       "2003                    8.84\n",
       "2004                   10.39\n",
       "2005                    4.37\n",
       "2006                    2.85\n",
       "2007                    9.28\n",
       "2008                   12.42\n",
       "2009                   16.91\n",
       "2010                   24.28\n",
       "2011                   35.03\n",
       "2012                   23.22\n",
       "2013                   12.38\n",
       "2014                   13.28\n",
       "2015                    8.52\n",
       "2016                    5.25"
      ]
     },
     "execution_count": 45,
     "metadata": {},
     "output_type": "execute_result"
    }
   ],
   "source": [
    "pc_sales_years = df.query('platform == \"PC\"').pivot_table(index= 'year_of_release', values= 'total_sales', aggfunc= 'sum')\n",
    "pc_sales_years"
   ]
  },
  {
   "cell_type": "code",
   "execution_count": 46,
   "id": "8e646072",
   "metadata": {},
   "outputs": [
    {
     "data": {
      "image/png": "[encoded data removed]",
      "text/plain": [
       "<Figure size 864x432 with 1 Axes>"
      ]
     },
     "metadata": {
      "needs_background": "light"
     },
     "output_type": "display_data"
    }
   ],
   "source": [
    "pc_sales_years.plot(kind='bar', figsize=(12,6), rot=45, title='Total ventas por año de PC', edgecolor='blue', legend=False);"
   ]
  },
  {
   "cell_type": "markdown",
   "id": "334af58e",
   "metadata": {},
   "source": [
    "**Conclusión**"
   ]
  },
  {
   "cell_type": "markdown",
   "id": "0f9706fc",
   "metadata": {},
   "source": [
    "De los gráficos trazados podemos concluir lo siguiente:\n",
    "\n",
    "- PS2 fue popular entre 2001 y 2007. Las ventas comenzaron a caer después de 2007, lo que coincidió con la aparición de PS3. PS2 solía ser popular pero ahora tiene cero ventas.\n",
    "\n",
    "- DS fue popular entre 2005 y 2010.\n",
    "\n",
    "- PS3 fue popular entre 2008 y 2013. Las ventas cayeron drásticamente entre 2015 y 2016.\n",
    "\n",
    "- Wii fue popular entre 2006 y 2011. Su popularidad se ha reducido desde que ahora tiene cero ventas.\n",
    "\n",
    "- X360 fue popular entre 2008 y 2011\n",
    "\n",
    "- PSP fue popular entre 2005 y 2010.\n",
    "\n",
    "- PS tuvo su apogeo entre 1996 y 2000.\n",
    "\n",
    "- La PC tuvo la venta más alta en 2011. La PC es la plataforma con la vida útil más larga entre las otras plataformas. La PC se vende desde hace unos 30 años.\n",
    "\n",
    "- Por lo general, se necesitan alrededor de 6 años para que aparezcan nuevas plataformas y las antiguas desaparezcan."
   ]
  },
  {
   "cell_type": "markdown",
   "id": "15cc73c4",
   "metadata": {},
   "source": [
    "### Determina para qué período debes tomar datos. Para hacerlo mira tus respuestas a las preguntas anteriores. Los datos deberían permitirte construir un modelo para 2017."
   ]
  },
  {
   "cell_type": "markdown",
   "id": "8aa2b2b1",
   "metadata": {},
   "source": [
    "### Trabaja solo con los datos que consideras relevantes. Ignora los datos de años anteriores."
   ]
  },
  {
   "cell_type": "markdown",
   "id": "9b109357",
   "metadata": {},
   "source": [
    "### ¿Qué plataformas son líderes en ventas? ¿Cuáles crecen y cuáles se reducen? Elige varias plataformas potencialmente rentables."
   ]
  },
  {
   "cell_type": "code",
   "execution_count": 47,
   "id": "67936bf3",
   "metadata": {
    "scrolled": false
   },
   "outputs": [],
   "source": [
    "#Filtraremos los datos del 2005 al 2011, ya que el apogeo de ventas de juegos\n",
    "new_data = df.query('year_of_release >= 2013 and year_of_release <=2016')\n"
   ]
  },
  {
   "cell_type": "code",
   "execution_count": 48,
   "id": "a6a99736",
   "metadata": {
    "scrolled": false
   },
   "outputs": [
    {
     "data": {
      "image/png": "[encoded data removed]",
      "text/plain": [
       "<Figure size 1080x432 with 1 Axes>"
      ]
     },
     "metadata": {
      "needs_background": "light"
     },
     "output_type": "display_data"
    }
   ],
   "source": [
    "(new_data\n",
    "     .pivot_table(index='platform',columns='year_of_release', values='total_sales', aggfunc='sum')\n",
    "     .plot(kind='bar',grid=True,figsize=(15, 6),width=0.8)\n",
    ");"
   ]
  },
  {
   "cell_type": "code",
   "execution_count": 49,
   "id": "8f66861b",
   "metadata": {},
   "outputs": [
    {
     "data": {
      "text/html": [
       "<div>\n",
       "<style scoped>\n",
       "    .dataframe tbody tr th:only-of-type {\n",
       "        vertical-align: middle;\n",
       "    }\n",
       "\n",
       "    .dataframe tbody tr th {\n",
       "        vertical-align: top;\n",
       "    }\n",
       "\n",
       "    .dataframe thead th {\n",
       "        text-align: right;\n",
       "    }\n",
       "</style>\n",
       "<table border=\"1\" class=\"dataframe\">\n",
       "  <thead>\n",
       "    <tr style=\"text-align: right;\">\n",
       "      <th>platform</th>\n",
       "      <th>3DS</th>\n",
       "      <th>DS</th>\n",
       "      <th>PC</th>\n",
       "      <th>PS3</th>\n",
       "      <th>PS4</th>\n",
       "      <th>PSP</th>\n",
       "      <th>PSV</th>\n",
       "      <th>Wii</th>\n",
       "      <th>WiiU</th>\n",
       "      <th>X360</th>\n",
       "      <th>XOne</th>\n",
       "    </tr>\n",
       "    <tr>\n",
       "      <th>year_of_release</th>\n",
       "      <th></th>\n",
       "      <th></th>\n",
       "      <th></th>\n",
       "      <th></th>\n",
       "      <th></th>\n",
       "      <th></th>\n",
       "      <th></th>\n",
       "      <th></th>\n",
       "      <th></th>\n",
       "      <th></th>\n",
       "      <th></th>\n",
       "    </tr>\n",
       "  </thead>\n",
       "  <tbody>\n",
       "    <tr>\n",
       "      <th>2013</th>\n",
       "      <td>56.57</td>\n",
       "      <td>1.54</td>\n",
       "      <td>12.38</td>\n",
       "      <td>113.25</td>\n",
       "      <td>25.99</td>\n",
       "      <td>3.14</td>\n",
       "      <td>10.59</td>\n",
       "      <td>8.59</td>\n",
       "      <td>21.65</td>\n",
       "      <td>88.58</td>\n",
       "      <td>18.96</td>\n",
       "    </tr>\n",
       "    <tr>\n",
       "      <th>2014</th>\n",
       "      <td>43.76</td>\n",
       "      <td>0.00</td>\n",
       "      <td>13.28</td>\n",
       "      <td>47.76</td>\n",
       "      <td>100.00</td>\n",
       "      <td>0.24</td>\n",
       "      <td>11.90</td>\n",
       "      <td>3.75</td>\n",
       "      <td>22.03</td>\n",
       "      <td>34.74</td>\n",
       "      <td>54.07</td>\n",
       "    </tr>\n",
       "    <tr>\n",
       "      <th>2015</th>\n",
       "      <td>27.78</td>\n",
       "      <td>0.00</td>\n",
       "      <td>8.52</td>\n",
       "      <td>16.82</td>\n",
       "      <td>118.90</td>\n",
       "      <td>0.12</td>\n",
       "      <td>6.25</td>\n",
       "      <td>1.14</td>\n",
       "      <td>16.35</td>\n",
       "      <td>11.96</td>\n",
       "      <td>60.14</td>\n",
       "    </tr>\n",
       "    <tr>\n",
       "      <th>2016</th>\n",
       "      <td>15.14</td>\n",
       "      <td>0.00</td>\n",
       "      <td>5.25</td>\n",
       "      <td>3.60</td>\n",
       "      <td>69.25</td>\n",
       "      <td>0.00</td>\n",
       "      <td>4.25</td>\n",
       "      <td>0.18</td>\n",
       "      <td>4.60</td>\n",
       "      <td>1.52</td>\n",
       "      <td>26.15</td>\n",
       "    </tr>\n",
       "  </tbody>\n",
       "</table>\n",
       "</div>"
      ],
      "text/plain": [
       "platform           3DS    DS     PC     PS3     PS4   PSP    PSV   Wii   WiiU  \\\n",
       "year_of_release                                                                 \n",
       "2013             56.57  1.54  12.38  113.25   25.99  3.14  10.59  8.59  21.65   \n",
       "2014             43.76  0.00  13.28   47.76  100.00  0.24  11.90  3.75  22.03   \n",
       "2015             27.78  0.00   8.52   16.82  118.90  0.12   6.25  1.14  16.35   \n",
       "2016             15.14  0.00   5.25    3.60   69.25  0.00   4.25  0.18   4.60   \n",
       "\n",
       "platform          X360   XOne  \n",
       "year_of_release                \n",
       "2013             88.58  18.96  \n",
       "2014             34.74  54.07  \n",
       "2015             11.96  60.14  \n",
       "2016              1.52  26.15  "
      ]
     },
     "execution_count": 49,
     "metadata": {},
     "output_type": "execute_result"
    }
   ],
   "source": [
    "sales_df = pd.pivot_table(new_data, index='year_of_release', columns= 'platform', values='total_sales', aggfunc='sum', fill_value=0)\n",
    "sales_df"
   ]
  },
  {
   "cell_type": "code",
   "execution_count": 50,
   "id": "3306501b",
   "metadata": {},
   "outputs": [
    {
     "data": {
      "text/plain": [
       "(1980, 2016)"
      ]
     },
     "execution_count": 50,
     "metadata": {},
     "output_type": "execute_result"
    }
   ],
   "source": [
    "df['year_of_release'].min(),df['year_of_release'].max()"
   ]
  },
  {
   "cell_type": "markdown",
   "id": "968cd258",
   "metadata": {},
   "source": [
    "**Conclusión**"
   ]
  },
  {
   "cell_type": "markdown",
   "id": "ee10da68",
   "metadata": {},
   "source": [
    "Elegimos el rango de años entre el 2013 y 2016, ya que es el rango de fechas que nos ayudaría a crear un modelo para el 2017.\n",
    "\n",
    "En base al gráfico mostrado, se concluye que el año 2016 hubo caída de ventas en todas las consolas.\n",
    "\n",
    "Las consolas que hasta el 2015 iban al alza son PS4 y XOne\n",
    "\n",
    "PS3 va en caída desde 2014 en adelante, coincide con la aparición de la PS4 el año 2013."
   ]
  },
  {
   "cell_type": "markdown",
   "id": "c7655d2c",
   "metadata": {},
   "source": [
    "### Crea un diagrama de caja para las ventas globales de todos los juegos, desglosados por plataforma. ¿Son significativas las diferencias en las ventas? ¿Qué sucede con las ventas promedio en varias plataformas? Describe tus hallazgos."
   ]
  },
  {
   "cell_type": "code",
   "execution_count": 51,
   "id": "73d8b908",
   "metadata": {},
   "outputs": [
    {
     "data": {
      "text/html": [
       "<div>\n",
       "<style scoped>\n",
       "    .dataframe tbody tr th:only-of-type {\n",
       "        vertical-align: middle;\n",
       "    }\n",
       "\n",
       "    .dataframe tbody tr th {\n",
       "        vertical-align: top;\n",
       "    }\n",
       "\n",
       "    .dataframe thead th {\n",
       "        text-align: right;\n",
       "    }\n",
       "</style>\n",
       "<table border=\"1\" class=\"dataframe\">\n",
       "  <thead>\n",
       "    <tr style=\"text-align: right;\">\n",
       "      <th></th>\n",
       "      <th>platform</th>\n",
       "      <th>year_of_release</th>\n",
       "      <th>total_sales</th>\n",
       "    </tr>\n",
       "  </thead>\n",
       "  <tbody>\n",
       "    <tr>\n",
       "      <th>0</th>\n",
       "      <td>3DS</td>\n",
       "      <td>2013</td>\n",
       "      <td>56.57</td>\n",
       "    </tr>\n",
       "    <tr>\n",
       "      <th>1</th>\n",
       "      <td>3DS</td>\n",
       "      <td>2014</td>\n",
       "      <td>43.76</td>\n",
       "    </tr>\n",
       "    <tr>\n",
       "      <th>2</th>\n",
       "      <td>3DS</td>\n",
       "      <td>2015</td>\n",
       "      <td>27.78</td>\n",
       "    </tr>\n",
       "    <tr>\n",
       "      <th>3</th>\n",
       "      <td>3DS</td>\n",
       "      <td>2016</td>\n",
       "      <td>15.14</td>\n",
       "    </tr>\n",
       "    <tr>\n",
       "      <th>4</th>\n",
       "      <td>DS</td>\n",
       "      <td>2013</td>\n",
       "      <td>1.54</td>\n",
       "    </tr>\n",
       "    <tr>\n",
       "      <th>5</th>\n",
       "      <td>PC</td>\n",
       "      <td>2013</td>\n",
       "      <td>12.38</td>\n",
       "    </tr>\n",
       "    <tr>\n",
       "      <th>6</th>\n",
       "      <td>PC</td>\n",
       "      <td>2014</td>\n",
       "      <td>13.28</td>\n",
       "    </tr>\n",
       "    <tr>\n",
       "      <th>7</th>\n",
       "      <td>PC</td>\n",
       "      <td>2015</td>\n",
       "      <td>8.52</td>\n",
       "    </tr>\n",
       "    <tr>\n",
       "      <th>8</th>\n",
       "      <td>PC</td>\n",
       "      <td>2016</td>\n",
       "      <td>5.25</td>\n",
       "    </tr>\n",
       "    <tr>\n",
       "      <th>9</th>\n",
       "      <td>PS3</td>\n",
       "      <td>2013</td>\n",
       "      <td>113.25</td>\n",
       "    </tr>\n",
       "    <tr>\n",
       "      <th>10</th>\n",
       "      <td>PS3</td>\n",
       "      <td>2014</td>\n",
       "      <td>47.76</td>\n",
       "    </tr>\n",
       "    <tr>\n",
       "      <th>11</th>\n",
       "      <td>PS3</td>\n",
       "      <td>2015</td>\n",
       "      <td>16.82</td>\n",
       "    </tr>\n",
       "    <tr>\n",
       "      <th>12</th>\n",
       "      <td>PS3</td>\n",
       "      <td>2016</td>\n",
       "      <td>3.60</td>\n",
       "    </tr>\n",
       "    <tr>\n",
       "      <th>13</th>\n",
       "      <td>PS4</td>\n",
       "      <td>2013</td>\n",
       "      <td>25.99</td>\n",
       "    </tr>\n",
       "    <tr>\n",
       "      <th>14</th>\n",
       "      <td>PS4</td>\n",
       "      <td>2014</td>\n",
       "      <td>100.00</td>\n",
       "    </tr>\n",
       "    <tr>\n",
       "      <th>15</th>\n",
       "      <td>PS4</td>\n",
       "      <td>2015</td>\n",
       "      <td>118.90</td>\n",
       "    </tr>\n",
       "    <tr>\n",
       "      <th>16</th>\n",
       "      <td>PS4</td>\n",
       "      <td>2016</td>\n",
       "      <td>69.25</td>\n",
       "    </tr>\n",
       "    <tr>\n",
       "      <th>17</th>\n",
       "      <td>PSP</td>\n",
       "      <td>2013</td>\n",
       "      <td>3.14</td>\n",
       "    </tr>\n",
       "    <tr>\n",
       "      <th>18</th>\n",
       "      <td>PSP</td>\n",
       "      <td>2014</td>\n",
       "      <td>0.24</td>\n",
       "    </tr>\n",
       "    <tr>\n",
       "      <th>19</th>\n",
       "      <td>PSP</td>\n",
       "      <td>2015</td>\n",
       "      <td>0.12</td>\n",
       "    </tr>\n",
       "    <tr>\n",
       "      <th>20</th>\n",
       "      <td>PSV</td>\n",
       "      <td>2013</td>\n",
       "      <td>10.59</td>\n",
       "    </tr>\n",
       "    <tr>\n",
       "      <th>21</th>\n",
       "      <td>PSV</td>\n",
       "      <td>2014</td>\n",
       "      <td>11.90</td>\n",
       "    </tr>\n",
       "    <tr>\n",
       "      <th>22</th>\n",
       "      <td>PSV</td>\n",
       "      <td>2015</td>\n",
       "      <td>6.25</td>\n",
       "    </tr>\n",
       "    <tr>\n",
       "      <th>23</th>\n",
       "      <td>PSV</td>\n",
       "      <td>2016</td>\n",
       "      <td>4.25</td>\n",
       "    </tr>\n",
       "    <tr>\n",
       "      <th>24</th>\n",
       "      <td>Wii</td>\n",
       "      <td>2013</td>\n",
       "      <td>8.59</td>\n",
       "    </tr>\n",
       "    <tr>\n",
       "      <th>25</th>\n",
       "      <td>Wii</td>\n",
       "      <td>2014</td>\n",
       "      <td>3.75</td>\n",
       "    </tr>\n",
       "    <tr>\n",
       "      <th>26</th>\n",
       "      <td>Wii</td>\n",
       "      <td>2015</td>\n",
       "      <td>1.14</td>\n",
       "    </tr>\n",
       "    <tr>\n",
       "      <th>27</th>\n",
       "      <td>Wii</td>\n",
       "      <td>2016</td>\n",
       "      <td>0.18</td>\n",
       "    </tr>\n",
       "    <tr>\n",
       "      <th>28</th>\n",
       "      <td>WiiU</td>\n",
       "      <td>2013</td>\n",
       "      <td>21.65</td>\n",
       "    </tr>\n",
       "    <tr>\n",
       "      <th>29</th>\n",
       "      <td>WiiU</td>\n",
       "      <td>2014</td>\n",
       "      <td>22.03</td>\n",
       "    </tr>\n",
       "    <tr>\n",
       "      <th>30</th>\n",
       "      <td>WiiU</td>\n",
       "      <td>2015</td>\n",
       "      <td>16.35</td>\n",
       "    </tr>\n",
       "    <tr>\n",
       "      <th>31</th>\n",
       "      <td>WiiU</td>\n",
       "      <td>2016</td>\n",
       "      <td>4.60</td>\n",
       "    </tr>\n",
       "    <tr>\n",
       "      <th>32</th>\n",
       "      <td>X360</td>\n",
       "      <td>2013</td>\n",
       "      <td>88.58</td>\n",
       "    </tr>\n",
       "    <tr>\n",
       "      <th>33</th>\n",
       "      <td>X360</td>\n",
       "      <td>2014</td>\n",
       "      <td>34.74</td>\n",
       "    </tr>\n",
       "    <tr>\n",
       "      <th>34</th>\n",
       "      <td>X360</td>\n",
       "      <td>2015</td>\n",
       "      <td>11.96</td>\n",
       "    </tr>\n",
       "    <tr>\n",
       "      <th>35</th>\n",
       "      <td>X360</td>\n",
       "      <td>2016</td>\n",
       "      <td>1.52</td>\n",
       "    </tr>\n",
       "    <tr>\n",
       "      <th>36</th>\n",
       "      <td>XOne</td>\n",
       "      <td>2013</td>\n",
       "      <td>18.96</td>\n",
       "    </tr>\n",
       "    <tr>\n",
       "      <th>37</th>\n",
       "      <td>XOne</td>\n",
       "      <td>2014</td>\n",
       "      <td>54.07</td>\n",
       "    </tr>\n",
       "    <tr>\n",
       "      <th>38</th>\n",
       "      <td>XOne</td>\n",
       "      <td>2015</td>\n",
       "      <td>60.14</td>\n",
       "    </tr>\n",
       "    <tr>\n",
       "      <th>39</th>\n",
       "      <td>XOne</td>\n",
       "      <td>2016</td>\n",
       "      <td>26.15</td>\n",
       "    </tr>\n",
       "  </tbody>\n",
       "</table>\n",
       "</div>"
      ],
      "text/plain": [
       "   platform  year_of_release  total_sales\n",
       "0       3DS             2013        56.57\n",
       "1       3DS             2014        43.76\n",
       "2       3DS             2015        27.78\n",
       "3       3DS             2016        15.14\n",
       "4        DS             2013         1.54\n",
       "5        PC             2013        12.38\n",
       "6        PC             2014        13.28\n",
       "7        PC             2015         8.52\n",
       "8        PC             2016         5.25\n",
       "9       PS3             2013       113.25\n",
       "10      PS3             2014        47.76\n",
       "11      PS3             2015        16.82\n",
       "12      PS3             2016         3.60\n",
       "13      PS4             2013        25.99\n",
       "14      PS4             2014       100.00\n",
       "15      PS4             2015       118.90\n",
       "16      PS4             2016        69.25\n",
       "17      PSP             2013         3.14\n",
       "18      PSP             2014         0.24\n",
       "19      PSP             2015         0.12\n",
       "20      PSV             2013        10.59\n",
       "21      PSV             2014        11.90\n",
       "22      PSV             2015         6.25\n",
       "23      PSV             2016         4.25\n",
       "24      Wii             2013         8.59\n",
       "25      Wii             2014         3.75\n",
       "26      Wii             2015         1.14\n",
       "27      Wii             2016         0.18\n",
       "28     WiiU             2013        21.65\n",
       "29     WiiU             2014        22.03\n",
       "30     WiiU             2015        16.35\n",
       "31     WiiU             2016         4.60\n",
       "32     X360             2013        88.58\n",
       "33     X360             2014        34.74\n",
       "34     X360             2015        11.96\n",
       "35     X360             2016         1.52\n",
       "36     XOne             2013        18.96\n",
       "37     XOne             2014        54.07\n",
       "38     XOne             2015        60.14\n",
       "39     XOne             2016        26.15"
      ]
     },
     "execution_count": 51,
     "metadata": {},
     "output_type": "execute_result"
    }
   ],
   "source": [
    "grouped  = new_data.groupby(['platform', 'year_of_release'])['total_sales'].sum().reset_index()\n",
    "grouped"
   ]
  },
  {
   "cell_type": "code",
   "execution_count": 52,
   "id": "5f164b07",
   "metadata": {},
   "outputs": [
    {
     "data": {
      "text/plain": [
       "0      PS4\n",
       "1      PS3\n",
       "2     XOne\n",
       "3      3DS\n",
       "4     X360\n",
       "5     WiiU\n",
       "6       PC\n",
       "7      PSV\n",
       "8      Wii\n",
       "9      PSP\n",
       "10      DS\n",
       "Name: platform, dtype: object"
      ]
     },
     "execution_count": 52,
     "metadata": {},
     "output_type": "execute_result"
    }
   ],
   "source": [
    "ordenado = grouped.groupby(['platform'])['total_sales'].sum().sort_values(ascending=False).reset_index()['platform']\n",
    "ordenado"
   ]
  },
  {
   "cell_type": "code",
   "execution_count": 53,
   "id": "c4c37c84",
   "metadata": {
    "scrolled": false
   },
   "outputs": [
    {
     "data": {
      "image/png": "[encoded data removed]",
      "text/plain": [
       "<Figure size 576x504 with 1 Axes>"
      ]
     },
     "metadata": {
      "needs_background": "light"
     },
     "output_type": "display_data"
    }
   ],
   "source": [
    "plt.figure(figsize=(8,7))\n",
    "sns.boxplot(x='platform', y='total_sales', data=grouped, order=ordenado)\n",
    "plt.title('Diagrama de caja para las ventas globales de todos los juegos por plataforma')\n",
    "plt.xlabel('Plataforma')\n",
    "plt.ylabel('Total Sales');"
   ]
  },
  {
   "cell_type": "code",
   "execution_count": 54,
   "id": "31c3b815",
   "metadata": {
    "scrolled": true
   },
   "outputs": [
    {
     "data": {
      "text/html": [
       "<div>\n",
       "<style scoped>\n",
       "    .dataframe tbody tr th:only-of-type {\n",
       "        vertical-align: middle;\n",
       "    }\n",
       "\n",
       "    .dataframe tbody tr th {\n",
       "        vertical-align: top;\n",
       "    }\n",
       "\n",
       "    .dataframe thead th {\n",
       "        text-align: right;\n",
       "    }\n",
       "</style>\n",
       "<table border=\"1\" class=\"dataframe\">\n",
       "  <thead>\n",
       "    <tr style=\"text-align: right;\">\n",
       "      <th></th>\n",
       "      <th>platform</th>\n",
       "      <th>year_of_release</th>\n",
       "      <th>total_sales</th>\n",
       "    </tr>\n",
       "  </thead>\n",
       "  <tbody>\n",
       "    <tr>\n",
       "      <th>0</th>\n",
       "      <td>3DS</td>\n",
       "      <td>2013</td>\n",
       "      <td>0.621648</td>\n",
       "    </tr>\n",
       "    <tr>\n",
       "      <th>1</th>\n",
       "      <td>3DS</td>\n",
       "      <td>2014</td>\n",
       "      <td>0.547000</td>\n",
       "    </tr>\n",
       "    <tr>\n",
       "      <th>2</th>\n",
       "      <td>3DS</td>\n",
       "      <td>2015</td>\n",
       "      <td>0.323023</td>\n",
       "    </tr>\n",
       "    <tr>\n",
       "      <th>3</th>\n",
       "      <td>3DS</td>\n",
       "      <td>2016</td>\n",
       "      <td>0.329130</td>\n",
       "    </tr>\n",
       "    <tr>\n",
       "      <th>4</th>\n",
       "      <td>DS</td>\n",
       "      <td>2013</td>\n",
       "      <td>0.192500</td>\n",
       "    </tr>\n",
       "    <tr>\n",
       "      <th>5</th>\n",
       "      <td>PC</td>\n",
       "      <td>2013</td>\n",
       "      <td>0.325789</td>\n",
       "    </tr>\n",
       "    <tr>\n",
       "      <th>6</th>\n",
       "      <td>PC</td>\n",
       "      <td>2014</td>\n",
       "      <td>0.282553</td>\n",
       "    </tr>\n",
       "    <tr>\n",
       "      <th>7</th>\n",
       "      <td>PC</td>\n",
       "      <td>2015</td>\n",
       "      <td>0.170400</td>\n",
       "    </tr>\n",
       "    <tr>\n",
       "      <th>8</th>\n",
       "      <td>PC</td>\n",
       "      <td>2016</td>\n",
       "      <td>0.097222</td>\n",
       "    </tr>\n",
       "    <tr>\n",
       "      <th>9</th>\n",
       "      <td>PS3</td>\n",
       "      <td>2013</td>\n",
       "      <td>0.898810</td>\n",
       "    </tr>\n",
       "    <tr>\n",
       "      <th>10</th>\n",
       "      <td>PS3</td>\n",
       "      <td>2014</td>\n",
       "      <td>0.442222</td>\n",
       "    </tr>\n",
       "    <tr>\n",
       "      <th>11</th>\n",
       "      <td>PS3</td>\n",
       "      <td>2015</td>\n",
       "      <td>0.230411</td>\n",
       "    </tr>\n",
       "    <tr>\n",
       "      <th>12</th>\n",
       "      <td>PS3</td>\n",
       "      <td>2016</td>\n",
       "      <td>0.094737</td>\n",
       "    </tr>\n",
       "    <tr>\n",
       "      <th>13</th>\n",
       "      <td>PS4</td>\n",
       "      <td>2013</td>\n",
       "      <td>1.624375</td>\n",
       "    </tr>\n",
       "    <tr>\n",
       "      <th>14</th>\n",
       "      <td>PS4</td>\n",
       "      <td>2014</td>\n",
       "      <td>1.333333</td>\n",
       "    </tr>\n",
       "    <tr>\n",
       "      <th>15</th>\n",
       "      <td>PS4</td>\n",
       "      <td>2015</td>\n",
       "      <td>0.867883</td>\n",
       "    </tr>\n",
       "    <tr>\n",
       "      <th>16</th>\n",
       "      <td>PS4</td>\n",
       "      <td>2016</td>\n",
       "      <td>0.422256</td>\n",
       "    </tr>\n",
       "    <tr>\n",
       "      <th>17</th>\n",
       "      <td>PSP</td>\n",
       "      <td>2013</td>\n",
       "      <td>0.058148</td>\n",
       "    </tr>\n",
       "    <tr>\n",
       "      <th>18</th>\n",
       "      <td>PSP</td>\n",
       "      <td>2014</td>\n",
       "      <td>0.024000</td>\n",
       "    </tr>\n",
       "    <tr>\n",
       "      <th>19</th>\n",
       "      <td>PSP</td>\n",
       "      <td>2015</td>\n",
       "      <td>0.040000</td>\n",
       "    </tr>\n",
       "    <tr>\n",
       "      <th>20</th>\n",
       "      <td>PSV</td>\n",
       "      <td>2013</td>\n",
       "      <td>0.168095</td>\n",
       "    </tr>\n",
       "    <tr>\n",
       "      <th>21</th>\n",
       "      <td>PSV</td>\n",
       "      <td>2014</td>\n",
       "      <td>0.119000</td>\n",
       "    </tr>\n",
       "    <tr>\n",
       "      <th>22</th>\n",
       "      <td>PSV</td>\n",
       "      <td>2015</td>\n",
       "      <td>0.056818</td>\n",
       "    </tr>\n",
       "    <tr>\n",
       "      <th>23</th>\n",
       "      <td>PSV</td>\n",
       "      <td>2016</td>\n",
       "      <td>0.050000</td>\n",
       "    </tr>\n",
       "    <tr>\n",
       "      <th>24</th>\n",
       "      <td>Wii</td>\n",
       "      <td>2013</td>\n",
       "      <td>0.715833</td>\n",
       "    </tr>\n",
       "    <tr>\n",
       "      <th>25</th>\n",
       "      <td>Wii</td>\n",
       "      <td>2014</td>\n",
       "      <td>0.625000</td>\n",
       "    </tr>\n",
       "    <tr>\n",
       "      <th>26</th>\n",
       "      <td>Wii</td>\n",
       "      <td>2015</td>\n",
       "      <td>0.285000</td>\n",
       "    </tr>\n",
       "    <tr>\n",
       "      <th>27</th>\n",
       "      <td>Wii</td>\n",
       "      <td>2016</td>\n",
       "      <td>0.180000</td>\n",
       "    </tr>\n",
       "    <tr>\n",
       "      <th>28</th>\n",
       "      <td>WiiU</td>\n",
       "      <td>2013</td>\n",
       "      <td>0.515476</td>\n",
       "    </tr>\n",
       "    <tr>\n",
       "      <th>29</th>\n",
       "      <td>WiiU</td>\n",
       "      <td>2014</td>\n",
       "      <td>0.710645</td>\n",
       "    </tr>\n",
       "    <tr>\n",
       "      <th>30</th>\n",
       "      <td>WiiU</td>\n",
       "      <td>2015</td>\n",
       "      <td>0.583929</td>\n",
       "    </tr>\n",
       "    <tr>\n",
       "      <th>31</th>\n",
       "      <td>WiiU</td>\n",
       "      <td>2016</td>\n",
       "      <td>0.328571</td>\n",
       "    </tr>\n",
       "    <tr>\n",
       "      <th>32</th>\n",
       "      <td>X360</td>\n",
       "      <td>2013</td>\n",
       "      <td>1.181067</td>\n",
       "    </tr>\n",
       "    <tr>\n",
       "      <th>33</th>\n",
       "      <td>X360</td>\n",
       "      <td>2014</td>\n",
       "      <td>0.551429</td>\n",
       "    </tr>\n",
       "    <tr>\n",
       "      <th>34</th>\n",
       "      <td>X360</td>\n",
       "      <td>2015</td>\n",
       "      <td>0.341714</td>\n",
       "    </tr>\n",
       "    <tr>\n",
       "      <th>35</th>\n",
       "      <td>X360</td>\n",
       "      <td>2016</td>\n",
       "      <td>0.116923</td>\n",
       "    </tr>\n",
       "    <tr>\n",
       "      <th>36</th>\n",
       "      <td>XOne</td>\n",
       "      <td>2013</td>\n",
       "      <td>0.997895</td>\n",
       "    </tr>\n",
       "    <tr>\n",
       "      <th>37</th>\n",
       "      <td>XOne</td>\n",
       "      <td>2014</td>\n",
       "      <td>0.886393</td>\n",
       "    </tr>\n",
       "    <tr>\n",
       "      <th>38</th>\n",
       "      <td>XOne</td>\n",
       "      <td>2015</td>\n",
       "      <td>0.751750</td>\n",
       "    </tr>\n",
       "    <tr>\n",
       "      <th>39</th>\n",
       "      <td>XOne</td>\n",
       "      <td>2016</td>\n",
       "      <td>0.300575</td>\n",
       "    </tr>\n",
       "  </tbody>\n",
       "</table>\n",
       "</div>"
      ],
      "text/plain": [
       "   platform  year_of_release  total_sales\n",
       "0       3DS             2013     0.621648\n",
       "1       3DS             2014     0.547000\n",
       "2       3DS             2015     0.323023\n",
       "3       3DS             2016     0.329130\n",
       "4        DS             2013     0.192500\n",
       "5        PC             2013     0.325789\n",
       "6        PC             2014     0.282553\n",
       "7        PC             2015     0.170400\n",
       "8        PC             2016     0.097222\n",
       "9       PS3             2013     0.898810\n",
       "10      PS3             2014     0.442222\n",
       "11      PS3             2015     0.230411\n",
       "12      PS3             2016     0.094737\n",
       "13      PS4             2013     1.624375\n",
       "14      PS4             2014     1.333333\n",
       "15      PS4             2015     0.867883\n",
       "16      PS4             2016     0.422256\n",
       "17      PSP             2013     0.058148\n",
       "18      PSP             2014     0.024000\n",
       "19      PSP             2015     0.040000\n",
       "20      PSV             2013     0.168095\n",
       "21      PSV             2014     0.119000\n",
       "22      PSV             2015     0.056818\n",
       "23      PSV             2016     0.050000\n",
       "24      Wii             2013     0.715833\n",
       "25      Wii             2014     0.625000\n",
       "26      Wii             2015     0.285000\n",
       "27      Wii             2016     0.180000\n",
       "28     WiiU             2013     0.515476\n",
       "29     WiiU             2014     0.710645\n",
       "30     WiiU             2015     0.583929\n",
       "31     WiiU             2016     0.328571\n",
       "32     X360             2013     1.181067\n",
       "33     X360             2014     0.551429\n",
       "34     X360             2015     0.341714\n",
       "35     X360             2016     0.116923\n",
       "36     XOne             2013     0.997895\n",
       "37     XOne             2014     0.886393\n",
       "38     XOne             2015     0.751750\n",
       "39     XOne             2016     0.300575"
      ]
     },
     "execution_count": 54,
     "metadata": {},
     "output_type": "execute_result"
    }
   ],
   "source": [
    "grouped_mean  = new_data.groupby(['platform', 'year_of_release'])['total_sales'].mean().reset_index()\n",
    "grouped_mean"
   ]
  },
  {
   "cell_type": "code",
   "execution_count": 55,
   "id": "c4f1257c",
   "metadata": {},
   "outputs": [
    {
     "data": {
      "text/plain": [
       "0      PS4\n",
       "1     XOne\n",
       "2     X360\n",
       "3     WiiU\n",
       "4      3DS\n",
       "5      Wii\n",
       "6      PS3\n",
       "7       PC\n",
       "8      PSV\n",
       "9       DS\n",
       "10     PSP\n",
       "Name: platform, dtype: object"
      ]
     },
     "execution_count": 55,
     "metadata": {},
     "output_type": "execute_result"
    }
   ],
   "source": [
    "ordenado_mean = grouped_mean.groupby(['platform'])['total_sales'].sum().sort_values(ascending=False).reset_index()['platform']\n",
    "ordenado_mean"
   ]
  },
  {
   "cell_type": "code",
   "execution_count": 56,
   "id": "73501cd2",
   "metadata": {},
   "outputs": [
    {
     "data": {
      "image/png": "[encoded data removed]",
      "text/plain": [
       "<Figure size 576x504 with 1 Axes>"
      ]
     },
     "metadata": {
      "needs_background": "light"
     },
     "output_type": "display_data"
    }
   ],
   "source": [
    "plt.figure(figsize=(8,7))\n",
    "sns.boxplot(x='platform', y='total_sales', data=grouped_mean, order=ordenado_mean)\n",
    "plt.title('Diagrama de caja para las ventas globales de todos los juegos por plataforma')\n",
    "plt.xlabel('Plataforma')\n",
    "plt.ylabel('Total Sales');"
   ]
  },
  {
   "cell_type": "markdown",
   "id": "8f1efc19",
   "metadata": {},
   "source": [
    "**Conclusión**"
   ]
  },
  {
   "cell_type": "markdown",
   "id": "5249b3fe",
   "metadata": {},
   "source": [
    "En relación al gráfico de caja podemos visualizar lo siguiente:\n",
    "\n",
    "La lista ordenada es una matriz de plataformas desde la más rentable hasta la menos rentable. Usamos esta lista ordenada para trazar un diagrama de caja para facilitar la comparación. Podemos ver que la plataforma PS4 tiene una media más alta durante el año que otras plataformas. También podemos observar que las diferencias en las ventas también son significativas.\n"
   ]
  },
  {
   "cell_type": "markdown",
   "id": "e76687d4",
   "metadata": {},
   "source": [
    "### Mira cómo las reseñas de usuarios y profesionales afectan las ventas de una plataforma popular (tu elección). Crea un gráfico de dispersión y calcula la correlación entre las reseñas y las ventas. Saca conclusiones."
   ]
  },
  {
   "cell_type": "code",
   "execution_count": 57,
   "id": "8fc89a28",
   "metadata": {},
   "outputs": [
    {
     "data": {
      "text/html": [
       "<div>\n",
       "<style scoped>\n",
       "    .dataframe tbody tr th:only-of-type {\n",
       "        vertical-align: middle;\n",
       "    }\n",
       "\n",
       "    .dataframe tbody tr th {\n",
       "        vertical-align: top;\n",
       "    }\n",
       "\n",
       "    .dataframe thead th {\n",
       "        text-align: right;\n",
       "    }\n",
       "</style>\n",
       "<table border=\"1\" class=\"dataframe\">\n",
       "  <thead>\n",
       "    <tr style=\"text-align: right;\">\n",
       "      <th></th>\n",
       "      <th>critic_score</th>\n",
       "      <th>user_score</th>\n",
       "      <th>total_sales</th>\n",
       "    </tr>\n",
       "  </thead>\n",
       "  <tbody>\n",
       "    <tr>\n",
       "      <th>critic_score</th>\n",
       "      <td>1.000000</td>\n",
       "      <td>0.557654</td>\n",
       "      <td>0.406568</td>\n",
       "    </tr>\n",
       "    <tr>\n",
       "      <th>user_score</th>\n",
       "      <td>0.557654</td>\n",
       "      <td>1.000000</td>\n",
       "      <td>-0.031957</td>\n",
       "    </tr>\n",
       "    <tr>\n",
       "      <th>total_sales</th>\n",
       "      <td>0.406568</td>\n",
       "      <td>-0.031957</td>\n",
       "      <td>1.000000</td>\n",
       "    </tr>\n",
       "  </tbody>\n",
       "</table>\n",
       "</div>"
      ],
      "text/plain": [
       "              critic_score  user_score  total_sales\n",
       "critic_score      1.000000    0.557654     0.406568\n",
       "user_score        0.557654    1.000000    -0.031957\n",
       "total_sales       0.406568   -0.031957     1.000000"
      ]
     },
     "execution_count": 57,
     "metadata": {},
     "output_type": "execute_result"
    }
   ],
   "source": [
    "#Haremos una tabla de correlación entre las reseñas y las ventas de PS4\n",
    "new_data[new_data.platform == 'PS4'].reset_index()[['critic_score', 'user_score', 'total_sales']].corr()"
   ]
  },
  {
   "cell_type": "code",
   "execution_count": 58,
   "id": "8152c44a",
   "metadata": {
    "scrolled": true
   },
   "outputs": [
    {
     "data": {
      "image/png": "[encoded data removed]",
      "text/plain": [
       "<Figure size 432x288 with 1 Axes>"
      ]
     },
     "metadata": {
      "needs_background": "light"
     },
     "output_type": "display_data"
    }
   ],
   "source": [
    "df.query('platform == \"PS4\"').plot(x='user_score', y='total_sales', kind='scatter');"
   ]
  },
  {
   "cell_type": "code",
   "execution_count": 59,
   "id": "c842a29a",
   "metadata": {
    "scrolled": true
   },
   "outputs": [
    {
     "data": {
      "image/png": "[encoded data removed]",
      "text/plain": [
       "<Figure size 432x288 with 1 Axes>"
      ]
     },
     "metadata": {
      "needs_background": "light"
     },
     "output_type": "display_data"
    }
   ],
   "source": [
    "df.query('platform == \"PS4\"').plot(x='critic_score', y='total_sales', kind='scatter');"
   ]
  },
  {
   "cell_type": "code",
   "execution_count": 60,
   "id": "a8ab593e",
   "metadata": {},
   "outputs": [
    {
     "data": {
      "text/html": [
       "<div>\n",
       "<style scoped>\n",
       "    .dataframe tbody tr th:only-of-type {\n",
       "        vertical-align: middle;\n",
       "    }\n",
       "\n",
       "    .dataframe tbody tr th {\n",
       "        vertical-align: top;\n",
       "    }\n",
       "\n",
       "    .dataframe thead th {\n",
       "        text-align: right;\n",
       "    }\n",
       "</style>\n",
       "<table border=\"1\" class=\"dataframe\">\n",
       "  <thead>\n",
       "    <tr style=\"text-align: right;\">\n",
       "      <th></th>\n",
       "      <th>critic_score</th>\n",
       "      <th>user_score</th>\n",
       "      <th>total_sales</th>\n",
       "    </tr>\n",
       "  </thead>\n",
       "  <tbody>\n",
       "    <tr>\n",
       "      <th>critic_score</th>\n",
       "      <td>1.000000</td>\n",
       "      <td>0.472462</td>\n",
       "      <td>0.416998</td>\n",
       "    </tr>\n",
       "    <tr>\n",
       "      <th>user_score</th>\n",
       "      <td>0.472462</td>\n",
       "      <td>1.000000</td>\n",
       "      <td>-0.068925</td>\n",
       "    </tr>\n",
       "    <tr>\n",
       "      <th>total_sales</th>\n",
       "      <td>0.416998</td>\n",
       "      <td>-0.068925</td>\n",
       "      <td>1.000000</td>\n",
       "    </tr>\n",
       "  </tbody>\n",
       "</table>\n",
       "</div>"
      ],
      "text/plain": [
       "              critic_score  user_score  total_sales\n",
       "critic_score      1.000000    0.472462     0.416998\n",
       "user_score        0.472462    1.000000    -0.068925\n",
       "total_sales       0.416998   -0.068925     1.000000"
      ]
     },
     "execution_count": 60,
     "metadata": {},
     "output_type": "execute_result"
    }
   ],
   "source": [
    "#Haremos una tabla de correlación para la plataforma XOne\n",
    "new_data[new_data.platform == 'XOne'].reset_index()[['critic_score', 'user_score', 'total_sales']].corr()"
   ]
  },
  {
   "cell_type": "code",
   "execution_count": 61,
   "id": "26ac244f",
   "metadata": {
    "scrolled": true
   },
   "outputs": [
    {
     "data": {
      "image/png": "[encoded data removed]",
      "text/plain": [
       "<Figure size 432x288 with 1 Axes>"
      ]
     },
     "metadata": {
      "needs_background": "light"
     },
     "output_type": "display_data"
    }
   ],
   "source": [
    "df.query('platform == \"XOne\"').plot(x='user_score', y='total_sales', kind='scatter');"
   ]
  },
  {
   "cell_type": "code",
   "execution_count": 62,
   "id": "d849927e",
   "metadata": {
    "scrolled": true
   },
   "outputs": [
    {
     "data": {
      "image/png": "[encoded data removed]",
      "text/plain": [
       "<Figure size 432x288 with 1 Axes>"
      ]
     },
     "metadata": {
      "needs_background": "light"
     },
     "output_type": "display_data"
    }
   ],
   "source": [
    "df.query('platform == \"XOne\"').plot(x='critic_score', y='total_sales', kind='scatter');"
   ]
  },
  {
   "cell_type": "code",
   "execution_count": 63,
   "id": "4674a2d3",
   "metadata": {},
   "outputs": [
    {
     "data": {
      "text/html": [
       "<div>\n",
       "<style scoped>\n",
       "    .dataframe tbody tr th:only-of-type {\n",
       "        vertical-align: middle;\n",
       "    }\n",
       "\n",
       "    .dataframe tbody tr th {\n",
       "        vertical-align: top;\n",
       "    }\n",
       "\n",
       "    .dataframe thead th {\n",
       "        text-align: right;\n",
       "    }\n",
       "</style>\n",
       "<table border=\"1\" class=\"dataframe\">\n",
       "  <thead>\n",
       "    <tr style=\"text-align: right;\">\n",
       "      <th></th>\n",
       "      <th>critic_score</th>\n",
       "      <th>user_score</th>\n",
       "      <th>total_sales</th>\n",
       "    </tr>\n",
       "  </thead>\n",
       "  <tbody>\n",
       "    <tr>\n",
       "      <th>critic_score</th>\n",
       "      <td>1.000000</td>\n",
       "      <td>0.520946</td>\n",
       "      <td>0.350345</td>\n",
       "    </tr>\n",
       "    <tr>\n",
       "      <th>user_score</th>\n",
       "      <td>0.520946</td>\n",
       "      <td>1.000000</td>\n",
       "      <td>-0.011742</td>\n",
       "    </tr>\n",
       "    <tr>\n",
       "      <th>total_sales</th>\n",
       "      <td>0.350345</td>\n",
       "      <td>-0.011742</td>\n",
       "      <td>1.000000</td>\n",
       "    </tr>\n",
       "  </tbody>\n",
       "</table>\n",
       "</div>"
      ],
      "text/plain": [
       "              critic_score  user_score  total_sales\n",
       "critic_score      1.000000    0.520946     0.350345\n",
       "user_score        0.520946    1.000000    -0.011742\n",
       "total_sales       0.350345   -0.011742     1.000000"
      ]
     },
     "execution_count": 63,
     "metadata": {},
     "output_type": "execute_result"
    }
   ],
   "source": [
    "#Haremos una tabla de correlación para la plataforma X360\n",
    "new_data[new_data.platform == 'X360'].reset_index()[['critic_score', 'user_score', 'total_sales']].corr()"
   ]
  },
  {
   "cell_type": "code",
   "execution_count": 64,
   "id": "a15dba0f",
   "metadata": {},
   "outputs": [
    {
     "data": {
      "image/png": "[encoded data removed]",
      "text/plain": [
       "<Figure size 432x288 with 1 Axes>"
      ]
     },
     "metadata": {
      "needs_background": "light"
     },
     "output_type": "display_data"
    }
   ],
   "source": [
    "df.query('platform == \"X360\"').plot(x='user_score', y='total_sales', kind='scatter');"
   ]
  },
  {
   "cell_type": "code",
   "execution_count": 65,
   "id": "45b9bf88",
   "metadata": {},
   "outputs": [
    {
     "data": {
      "image/png": "[encoded data removed]",
      "text/plain": [
       "<Figure size 432x288 with 1 Axes>"
      ]
     },
     "metadata": {
      "needs_background": "light"
     },
     "output_type": "display_data"
    }
   ],
   "source": [
    "df.query('platform == \"X360\"').plot(x='critic_score', y='total_sales', kind='scatter');"
   ]
  },
  {
   "cell_type": "markdown",
   "id": "bdfa7142",
   "metadata": {},
   "source": [
    "**Conclusión**\n"
   ]
  },
  {
   "cell_type": "markdown",
   "id": "4be7cf47",
   "metadata": {},
   "source": [
    "Al realizar gráficos de dispersión de 3 plataformas, se concluyó que la correlación de critic_score es mas fuerte que las de user_score, aunque sigue siendo una correlación débil."
   ]
  },
  {
   "cell_type": "code",
   "execution_count": 66,
   "id": "b3f857c4",
   "metadata": {},
   "outputs": [
    {
     "data": {
      "text/html": [
       "<div>\n",
       "<style scoped>\n",
       "    .dataframe tbody tr th:only-of-type {\n",
       "        vertical-align: middle;\n",
       "    }\n",
       "\n",
       "    .dataframe tbody tr th {\n",
       "        vertical-align: top;\n",
       "    }\n",
       "\n",
       "    .dataframe thead th {\n",
       "        text-align: right;\n",
       "    }\n",
       "</style>\n",
       "<table border=\"1\" class=\"dataframe\">\n",
       "  <thead>\n",
       "    <tr style=\"text-align: right;\">\n",
       "      <th></th>\n",
       "      <th>name</th>\n",
       "      <th>platform</th>\n",
       "      <th>year_of_release</th>\n",
       "      <th>genre</th>\n",
       "      <th>na_sales</th>\n",
       "      <th>eu_sales</th>\n",
       "      <th>jp_sales</th>\n",
       "      <th>other_sales</th>\n",
       "      <th>critic_score</th>\n",
       "      <th>user_score</th>\n",
       "      <th>rating</th>\n",
       "      <th>total_sales</th>\n",
       "    </tr>\n",
       "  </thead>\n",
       "  <tbody>\n",
       "    <tr>\n",
       "      <th>31</th>\n",
       "      <td>Call of Duty: Black Ops 3</td>\n",
       "      <td>PS4</td>\n",
       "      <td>2015</td>\n",
       "      <td>Shooter</td>\n",
       "      <td>6.03</td>\n",
       "      <td>5.86</td>\n",
       "      <td>0.36</td>\n",
       "      <td>2.38</td>\n",
       "      <td>NaN</td>\n",
       "      <td>NaN</td>\n",
       "      <td>Valor desconocido</td>\n",
       "      <td>14.63</td>\n",
       "    </tr>\n",
       "    <tr>\n",
       "      <th>42</th>\n",
       "      <td>Grand Theft Auto V</td>\n",
       "      <td>PS4</td>\n",
       "      <td>2014</td>\n",
       "      <td>Action</td>\n",
       "      <td>3.96</td>\n",
       "      <td>6.31</td>\n",
       "      <td>0.38</td>\n",
       "      <td>1.97</td>\n",
       "      <td>97.0</td>\n",
       "      <td>8.3</td>\n",
       "      <td>M</td>\n",
       "      <td>12.62</td>\n",
       "    </tr>\n",
       "    <tr>\n",
       "      <th>77</th>\n",
       "      <td>FIFA 16</td>\n",
       "      <td>PS4</td>\n",
       "      <td>2015</td>\n",
       "      <td>Sports</td>\n",
       "      <td>1.12</td>\n",
       "      <td>6.12</td>\n",
       "      <td>0.06</td>\n",
       "      <td>1.28</td>\n",
       "      <td>82.0</td>\n",
       "      <td>4.3</td>\n",
       "      <td>E</td>\n",
       "      <td>8.58</td>\n",
       "    </tr>\n",
       "    <tr>\n",
       "      <th>87</th>\n",
       "      <td>Star Wars Battlefront (2015)</td>\n",
       "      <td>PS4</td>\n",
       "      <td>2015</td>\n",
       "      <td>Shooter</td>\n",
       "      <td>2.99</td>\n",
       "      <td>3.49</td>\n",
       "      <td>0.22</td>\n",
       "      <td>1.28</td>\n",
       "      <td>NaN</td>\n",
       "      <td>NaN</td>\n",
       "      <td>Valor desconocido</td>\n",
       "      <td>7.98</td>\n",
       "    </tr>\n",
       "    <tr>\n",
       "      <th>92</th>\n",
       "      <td>Call of Duty: Advanced Warfare</td>\n",
       "      <td>PS4</td>\n",
       "      <td>2014</td>\n",
       "      <td>Shooter</td>\n",
       "      <td>2.81</td>\n",
       "      <td>3.48</td>\n",
       "      <td>0.14</td>\n",
       "      <td>1.23</td>\n",
       "      <td>83.0</td>\n",
       "      <td>5.7</td>\n",
       "      <td>M</td>\n",
       "      <td>7.66</td>\n",
       "    </tr>\n",
       "    <tr>\n",
       "      <th>...</th>\n",
       "      <td>...</td>\n",
       "      <td>...</td>\n",
       "      <td>...</td>\n",
       "      <td>...</td>\n",
       "      <td>...</td>\n",
       "      <td>...</td>\n",
       "      <td>...</td>\n",
       "      <td>...</td>\n",
       "      <td>...</td>\n",
       "      <td>...</td>\n",
       "      <td>...</td>\n",
       "      <td>...</td>\n",
       "    </tr>\n",
       "    <tr>\n",
       "      <th>16230</th>\n",
       "      <td>Root Letter</td>\n",
       "      <td>PS4</td>\n",
       "      <td>2016</td>\n",
       "      <td>Adventure</td>\n",
       "      <td>0.00</td>\n",
       "      <td>0.00</td>\n",
       "      <td>0.01</td>\n",
       "      <td>0.00</td>\n",
       "      <td>69.0</td>\n",
       "      <td>7.5</td>\n",
       "      <td>Valor desconocido</td>\n",
       "      <td>0.01</td>\n",
       "    </tr>\n",
       "    <tr>\n",
       "      <th>16233</th>\n",
       "      <td>Shin Hayarigami 2</td>\n",
       "      <td>PS4</td>\n",
       "      <td>2016</td>\n",
       "      <td>Adventure</td>\n",
       "      <td>0.00</td>\n",
       "      <td>0.00</td>\n",
       "      <td>0.01</td>\n",
       "      <td>0.00</td>\n",
       "      <td>NaN</td>\n",
       "      <td>NaN</td>\n",
       "      <td>Valor desconocido</td>\n",
       "      <td>0.01</td>\n",
       "    </tr>\n",
       "    <tr>\n",
       "      <th>16255</th>\n",
       "      <td>Dungeons 2</td>\n",
       "      <td>PS4</td>\n",
       "      <td>2016</td>\n",
       "      <td>Role-Playing</td>\n",
       "      <td>0.01</td>\n",
       "      <td>0.00</td>\n",
       "      <td>0.00</td>\n",
       "      <td>0.00</td>\n",
       "      <td>61.0</td>\n",
       "      <td>7.9</td>\n",
       "      <td>T</td>\n",
       "      <td>0.01</td>\n",
       "    </tr>\n",
       "    <tr>\n",
       "      <th>16259</th>\n",
       "      <td>Carmageddon: Max Damage</td>\n",
       "      <td>PS4</td>\n",
       "      <td>2016</td>\n",
       "      <td>Action</td>\n",
       "      <td>0.01</td>\n",
       "      <td>0.00</td>\n",
       "      <td>0.00</td>\n",
       "      <td>0.00</td>\n",
       "      <td>51.0</td>\n",
       "      <td>5.5</td>\n",
       "      <td>M</td>\n",
       "      <td>0.01</td>\n",
       "    </tr>\n",
       "    <tr>\n",
       "      <th>16314</th>\n",
       "      <td>Farming 2017 - The Simulation</td>\n",
       "      <td>PS4</td>\n",
       "      <td>2016</td>\n",
       "      <td>Simulation</td>\n",
       "      <td>0.00</td>\n",
       "      <td>0.01</td>\n",
       "      <td>0.00</td>\n",
       "      <td>0.00</td>\n",
       "      <td>NaN</td>\n",
       "      <td>NaN</td>\n",
       "      <td>Valor desconocido</td>\n",
       "      <td>0.01</td>\n",
       "    </tr>\n",
       "  </tbody>\n",
       "</table>\n",
       "<p>392 rows × 12 columns</p>\n",
       "</div>"
      ],
      "text/plain": [
       "                                 name platform  year_of_release         genre  \\\n",
       "31          Call of Duty: Black Ops 3      PS4             2015       Shooter   \n",
       "42                 Grand Theft Auto V      PS4             2014        Action   \n",
       "77                            FIFA 16      PS4             2015        Sports   \n",
       "87       Star Wars Battlefront (2015)      PS4             2015       Shooter   \n",
       "92     Call of Duty: Advanced Warfare      PS4             2014       Shooter   \n",
       "...                               ...      ...              ...           ...   \n",
       "16230                     Root Letter      PS4             2016     Adventure   \n",
       "16233               Shin Hayarigami 2      PS4             2016     Adventure   \n",
       "16255                      Dungeons 2      PS4             2016  Role-Playing   \n",
       "16259         Carmageddon: Max Damage      PS4             2016        Action   \n",
       "16314   Farming 2017 - The Simulation      PS4             2016    Simulation   \n",
       "\n",
       "       na_sales  eu_sales  jp_sales  other_sales  critic_score  user_score  \\\n",
       "31         6.03      5.86      0.36         2.38           NaN         NaN   \n",
       "42         3.96      6.31      0.38         1.97          97.0         8.3   \n",
       "77         1.12      6.12      0.06         1.28          82.0         4.3   \n",
       "87         2.99      3.49      0.22         1.28           NaN         NaN   \n",
       "92         2.81      3.48      0.14         1.23          83.0         5.7   \n",
       "...         ...       ...       ...          ...           ...         ...   \n",
       "16230      0.00      0.00      0.01         0.00          69.0         7.5   \n",
       "16233      0.00      0.00      0.01         0.00           NaN         NaN   \n",
       "16255      0.01      0.00      0.00         0.00          61.0         7.9   \n",
       "16259      0.01      0.00      0.00         0.00          51.0         5.5   \n",
       "16314      0.00      0.01      0.00         0.00           NaN         NaN   \n",
       "\n",
       "                  rating  total_sales  \n",
       "31     Valor desconocido        14.63  \n",
       "42                     M        12.62  \n",
       "77                     E         8.58  \n",
       "87     Valor desconocido         7.98  \n",
       "92                     M         7.66  \n",
       "...                  ...          ...  \n",
       "16230  Valor desconocido         0.01  \n",
       "16233  Valor desconocido         0.01  \n",
       "16255                  T         0.01  \n",
       "16259                  M         0.01  \n",
       "16314  Valor desconocido         0.01  \n",
       "\n",
       "[392 rows x 12 columns]"
      ]
     },
     "execution_count": 66,
     "metadata": {},
     "output_type": "execute_result"
    }
   ],
   "source": [
    "new_data.query('platform == \"PS4\"')"
   ]
  },
  {
   "cell_type": "markdown",
   "id": "2a12af0f",
   "metadata": {},
   "source": [
    "### Teniendo en cuenta tus conclusiones compara las ventas de los mismos juegos en otras plataformas."
   ]
  },
  {
   "cell_type": "code",
   "execution_count": 67,
   "id": "a3c0ec2e",
   "metadata": {},
   "outputs": [
    {
     "data": {
      "image/png": "[encoded data removed]",
      "text/plain": [
       "<Figure size 432x288 with 1 Axes>"
      ]
     },
     "metadata": {
      "needs_background": "light"
     },
     "output_type": "display_data"
    }
   ],
   "source": [
    "(new_data\n",
    "     .query('name == \"Grand Theft Auto V\"')\n",
    "     .pivot_table(index='platform', values='total_sales', aggfunc='sum').reset_index()\n",
    "     .plot(x='platform', y='total_sales', kind='barh')\n",
    ");"
   ]
  },
  {
   "cell_type": "code",
   "execution_count": 68,
   "id": "ff6e765a",
   "metadata": {},
   "outputs": [
    {
     "data": {
      "image/png": "[encoded data removed]",
      "text/plain": [
       "<Figure size 432x288 with 1 Axes>"
      ]
     },
     "metadata": {
      "needs_background": "light"
     },
     "output_type": "display_data"
    }
   ],
   "source": [
    "(new_data\n",
    "     .query('name == \"FIFA 16\"')\n",
    "     .pivot_table(index='platform', values='total_sales', aggfunc='sum').reset_index()\n",
    "     .plot(x='platform', y='total_sales', kind='barh')\n",
    ");"
   ]
  },
  {
   "cell_type": "code",
   "execution_count": 69,
   "id": "fd60a9f7",
   "metadata": {},
   "outputs": [
    {
     "data": {
      "image/png": "[encoded data removed]",
      "text/plain": [
       "<Figure size 432x288 with 1 Axes>"
      ]
     },
     "metadata": {
      "needs_background": "light"
     },
     "output_type": "display_data"
    }
   ],
   "source": [
    "(new_data\n",
    "     .query('name == \"Star Wars Battlefront (2015)\"')\n",
    "     .pivot_table(index='platform', values='total_sales', aggfunc='sum').reset_index()\n",
    "     .plot(x='platform', y='total_sales', kind='barh')\n",
    ");"
   ]
  },
  {
   "cell_type": "markdown",
   "id": "88b427f0",
   "metadata": {},
   "source": [
    "### Echa un vistazo a la distribución general de los juegos por género. ¿Qué se puede decir de los géneros más rentables? ¿Puedes generalizar acerca de los géneros con ventas altas y bajas?"
   ]
  },
  {
   "cell_type": "code",
   "execution_count": 70,
   "id": "8217e90d",
   "metadata": {},
   "outputs": [
    {
     "data": {
      "text/html": [
       "<div>\n",
       "<style scoped>\n",
       "    .dataframe tbody tr th:only-of-type {\n",
       "        vertical-align: middle;\n",
       "    }\n",
       "\n",
       "    .dataframe tbody tr th {\n",
       "        vertical-align: top;\n",
       "    }\n",
       "\n",
       "    .dataframe thead th {\n",
       "        text-align: right;\n",
       "    }\n",
       "</style>\n",
       "<table border=\"1\" class=\"dataframe\">\n",
       "  <thead>\n",
       "    <tr style=\"text-align: right;\">\n",
       "      <th></th>\n",
       "      <th>genre</th>\n",
       "      <th>total_sales</th>\n",
       "    </tr>\n",
       "  </thead>\n",
       "  <tbody>\n",
       "    <tr>\n",
       "      <th>0</th>\n",
       "      <td>Action</td>\n",
       "      <td>321.87</td>\n",
       "    </tr>\n",
       "    <tr>\n",
       "      <th>1</th>\n",
       "      <td>Shooter</td>\n",
       "      <td>232.98</td>\n",
       "    </tr>\n",
       "    <tr>\n",
       "      <th>2</th>\n",
       "      <td>Sports</td>\n",
       "      <td>150.65</td>\n",
       "    </tr>\n",
       "    <tr>\n",
       "      <th>3</th>\n",
       "      <td>Role-Playing</td>\n",
       "      <td>145.89</td>\n",
       "    </tr>\n",
       "    <tr>\n",
       "      <th>4</th>\n",
       "      <td>Misc</td>\n",
       "      <td>62.82</td>\n",
       "    </tr>\n",
       "    <tr>\n",
       "      <th>5</th>\n",
       "      <td>Platform</td>\n",
       "      <td>42.63</td>\n",
       "    </tr>\n",
       "    <tr>\n",
       "      <th>6</th>\n",
       "      <td>Racing</td>\n",
       "      <td>39.89</td>\n",
       "    </tr>\n",
       "    <tr>\n",
       "      <th>7</th>\n",
       "      <td>Fighting</td>\n",
       "      <td>35.31</td>\n",
       "    </tr>\n",
       "    <tr>\n",
       "      <th>8</th>\n",
       "      <td>Adventure</td>\n",
       "      <td>23.64</td>\n",
       "    </tr>\n",
       "    <tr>\n",
       "      <th>9</th>\n",
       "      <td>Simulation</td>\n",
       "      <td>21.76</td>\n",
       "    </tr>\n",
       "    <tr>\n",
       "      <th>10</th>\n",
       "      <td>Strategy</td>\n",
       "      <td>10.08</td>\n",
       "    </tr>\n",
       "    <tr>\n",
       "      <th>11</th>\n",
       "      <td>Puzzle</td>\n",
       "      <td>3.17</td>\n",
       "    </tr>\n",
       "  </tbody>\n",
       "</table>\n",
       "</div>"
      ],
      "text/plain": [
       "           genre  total_sales\n",
       "0         Action       321.87\n",
       "1        Shooter       232.98\n",
       "2         Sports       150.65\n",
       "3   Role-Playing       145.89\n",
       "4           Misc        62.82\n",
       "5       Platform        42.63\n",
       "6         Racing        39.89\n",
       "7       Fighting        35.31\n",
       "8      Adventure        23.64\n",
       "9     Simulation        21.76\n",
       "10      Strategy        10.08\n",
       "11        Puzzle         3.17"
      ]
     },
     "execution_count": 70,
     "metadata": {},
     "output_type": "execute_result"
    }
   ],
   "source": [
    "df_genre = new_data.pivot_table(index='genre', values='total_sales', aggfunc='sum').sort_values(by='total_sales', ascending=False).reset_index()\n",
    "df_genre"
   ]
  },
  {
   "cell_type": "code",
   "execution_count": 71,
   "id": "5575aff6",
   "metadata": {
    "scrolled": false
   },
   "outputs": [
    {
     "data": {
      "image/png": "[encoded data removed]",
      "text/plain": [
       "<Figure size 432x288 with 1 Axes>"
      ]
     },
     "metadata": {
      "needs_background": "light"
     },
     "output_type": "display_data"
    }
   ],
   "source": [
    "(df_genre.plot(x='genre', y='total_sales', kind='bar')\n",
    ");"
   ]
  },
  {
   "cell_type": "markdown",
   "id": "8cca4db5",
   "metadata": {},
   "source": [
    "En el gráfico de barras, podemos ver que los géneros más rentables son los géneros Action, Shooter y Sports. El género menos rentable es el género de Puzzle. Para generalizar sobre el género, tenemos que tomar las ventas totales promedio de todos los géneros."
   ]
  },
  {
   "cell_type": "code",
   "execution_count": 72,
   "id": "6ed11be5",
   "metadata": {
    "scrolled": false
   },
   "outputs": [
    {
     "data": {
      "text/html": [
       "<div>\n",
       "<style scoped>\n",
       "    .dataframe tbody tr th:only-of-type {\n",
       "        vertical-align: middle;\n",
       "    }\n",
       "\n",
       "    .dataframe tbody tr th {\n",
       "        vertical-align: top;\n",
       "    }\n",
       "\n",
       "    .dataframe thead th {\n",
       "        text-align: right;\n",
       "    }\n",
       "</style>\n",
       "<table border=\"1\" class=\"dataframe\">\n",
       "  <thead>\n",
       "    <tr style=\"text-align: right;\">\n",
       "      <th></th>\n",
       "      <th>genre</th>\n",
       "      <th>year_of_release</th>\n",
       "      <th>total_sales</th>\n",
       "    </tr>\n",
       "  </thead>\n",
       "  <tbody>\n",
       "    <tr>\n",
       "      <th>0</th>\n",
       "      <td>Action</td>\n",
       "      <td>2013</td>\n",
       "      <td>0.833401</td>\n",
       "    </tr>\n",
       "    <tr>\n",
       "      <th>1</th>\n",
       "      <td>Action</td>\n",
       "      <td>2014</td>\n",
       "      <td>0.517181</td>\n",
       "    </tr>\n",
       "    <tr>\n",
       "      <th>2</th>\n",
       "      <td>Action</td>\n",
       "      <td>2015</td>\n",
       "      <td>0.284664</td>\n",
       "    </tr>\n",
       "    <tr>\n",
       "      <th>3</th>\n",
       "      <td>Action</td>\n",
       "      <td>2016</td>\n",
       "      <td>0.169157</td>\n",
       "    </tr>\n",
       "    <tr>\n",
       "      <th>4</th>\n",
       "      <td>Adventure</td>\n",
       "      <td>2013</td>\n",
       "      <td>0.101500</td>\n",
       "    </tr>\n",
       "    <tr>\n",
       "      <th>5</th>\n",
       "      <td>Adventure</td>\n",
       "      <td>2014</td>\n",
       "      <td>0.074267</td>\n",
       "    </tr>\n",
       "    <tr>\n",
       "      <th>6</th>\n",
       "      <td>Adventure</td>\n",
       "      <td>2015</td>\n",
       "      <td>0.151111</td>\n",
       "    </tr>\n",
       "    <tr>\n",
       "      <th>7</th>\n",
       "      <td>Adventure</td>\n",
       "      <td>2016</td>\n",
       "      <td>0.068214</td>\n",
       "    </tr>\n",
       "    <tr>\n",
       "      <th>8</th>\n",
       "      <td>Fighting</td>\n",
       "      <td>2013</td>\n",
       "      <td>0.354500</td>\n",
       "    </tr>\n",
       "    <tr>\n",
       "      <th>9</th>\n",
       "      <td>Fighting</td>\n",
       "      <td>2014</td>\n",
       "      <td>0.689130</td>\n",
       "    </tr>\n",
       "    <tr>\n",
       "      <th>10</th>\n",
       "      <td>Fighting</td>\n",
       "      <td>2015</td>\n",
       "      <td>0.376190</td>\n",
       "    </tr>\n",
       "    <tr>\n",
       "      <th>11</th>\n",
       "      <td>Fighting</td>\n",
       "      <td>2016</td>\n",
       "      <td>0.279375</td>\n",
       "    </tr>\n",
       "    <tr>\n",
       "      <th>12</th>\n",
       "      <td>Misc</td>\n",
       "      <td>2013</td>\n",
       "      <td>0.601667</td>\n",
       "    </tr>\n",
       "    <tr>\n",
       "      <th>13</th>\n",
       "      <td>Misc</td>\n",
       "      <td>2014</td>\n",
       "      <td>0.556667</td>\n",
       "    </tr>\n",
       "    <tr>\n",
       "      <th>14</th>\n",
       "      <td>Misc</td>\n",
       "      <td>2015</td>\n",
       "      <td>0.296667</td>\n",
       "    </tr>\n",
       "    <tr>\n",
       "      <th>15</th>\n",
       "      <td>Misc</td>\n",
       "      <td>2016</td>\n",
       "      <td>0.081250</td>\n",
       "    </tr>\n",
       "    <tr>\n",
       "      <th>16</th>\n",
       "      <td>Platform</td>\n",
       "      <td>2013</td>\n",
       "      <td>0.681667</td>\n",
       "    </tr>\n",
       "    <tr>\n",
       "      <th>17</th>\n",
       "      <td>Platform</td>\n",
       "      <td>2014</td>\n",
       "      <td>0.881000</td>\n",
       "    </tr>\n",
       "    <tr>\n",
       "      <th>18</th>\n",
       "      <td>Platform</td>\n",
       "      <td>2015</td>\n",
       "      <td>0.465385</td>\n",
       "    </tr>\n",
       "    <tr>\n",
       "      <th>19</th>\n",
       "      <td>Platform</td>\n",
       "      <td>2016</td>\n",
       "      <td>0.215333</td>\n",
       "    </tr>\n",
       "    <tr>\n",
       "      <th>20</th>\n",
       "      <td>Puzzle</td>\n",
       "      <td>2013</td>\n",
       "      <td>0.320000</td>\n",
       "    </tr>\n",
       "    <tr>\n",
       "      <th>21</th>\n",
       "      <td>Puzzle</td>\n",
       "      <td>2014</td>\n",
       "      <td>0.212857</td>\n",
       "    </tr>\n",
       "    <tr>\n",
       "      <th>22</th>\n",
       "      <td>Puzzle</td>\n",
       "      <td>2015</td>\n",
       "      <td>0.118333</td>\n",
       "    </tr>\n",
       "    <tr>\n",
       "      <th>23</th>\n",
       "      <td>Puzzle</td>\n",
       "      <td>2016</td>\n",
       "      <td>0.010000</td>\n",
       "    </tr>\n",
       "    <tr>\n",
       "      <th>24</th>\n",
       "      <td>Racing</td>\n",
       "      <td>2013</td>\n",
       "      <td>0.773125</td>\n",
       "    </tr>\n",
       "    <tr>\n",
       "      <th>25</th>\n",
       "      <td>Racing</td>\n",
       "      <td>2014</td>\n",
       "      <td>0.617037</td>\n",
       "    </tr>\n",
       "    <tr>\n",
       "      <th>26</th>\n",
       "      <td>Racing</td>\n",
       "      <td>2015</td>\n",
       "      <td>0.448333</td>\n",
       "    </tr>\n",
       "    <tr>\n",
       "      <th>27</th>\n",
       "      <td>Racing</td>\n",
       "      <td>2016</td>\n",
       "      <td>0.116250</td>\n",
       "    </tr>\n",
       "    <tr>\n",
       "      <th>28</th>\n",
       "      <td>Role-Playing</td>\n",
       "      <td>2013</td>\n",
       "      <td>0.626056</td>\n",
       "    </tr>\n",
       "    <tr>\n",
       "      <th>29</th>\n",
       "      <td>Role-Playing</td>\n",
       "      <td>2014</td>\n",
       "      <td>0.512584</td>\n",
       "    </tr>\n",
       "    <tr>\n",
       "      <th>30</th>\n",
       "      <td>Role-Playing</td>\n",
       "      <td>2015</td>\n",
       "      <td>0.482564</td>\n",
       "    </tr>\n",
       "    <tr>\n",
       "      <th>31</th>\n",
       "      <td>Role-Playing</td>\n",
       "      <td>2016</td>\n",
       "      <td>0.336667</td>\n",
       "    </tr>\n",
       "    <tr>\n",
       "      <th>32</th>\n",
       "      <td>Shooter</td>\n",
       "      <td>2013</td>\n",
       "      <td>1.051525</td>\n",
       "    </tr>\n",
       "    <tr>\n",
       "      <th>33</th>\n",
       "      <td>Shooter</td>\n",
       "      <td>2014</td>\n",
       "      <td>1.387447</td>\n",
       "    </tr>\n",
       "    <tr>\n",
       "      <th>34</th>\n",
       "      <td>Shooter</td>\n",
       "      <td>2015</td>\n",
       "      <td>1.985588</td>\n",
       "    </tr>\n",
       "    <tr>\n",
       "      <th>35</th>\n",
       "      <td>Shooter</td>\n",
       "      <td>2016</td>\n",
       "      <td>0.813191</td>\n",
       "    </tr>\n",
       "    <tr>\n",
       "      <th>36</th>\n",
       "      <td>Simulation</td>\n",
       "      <td>2013</td>\n",
       "      <td>0.479444</td>\n",
       "    </tr>\n",
       "    <tr>\n",
       "      <th>37</th>\n",
       "      <td>Simulation</td>\n",
       "      <td>2014</td>\n",
       "      <td>0.507273</td>\n",
       "    </tr>\n",
       "    <tr>\n",
       "      <th>38</th>\n",
       "      <td>Simulation</td>\n",
       "      <td>2015</td>\n",
       "      <td>0.377333</td>\n",
       "    </tr>\n",
       "    <tr>\n",
       "      <th>39</th>\n",
       "      <td>Simulation</td>\n",
       "      <td>2016</td>\n",
       "      <td>0.105000</td>\n",
       "    </tr>\n",
       "    <tr>\n",
       "      <th>40</th>\n",
       "      <td>Sports</td>\n",
       "      <td>2013</td>\n",
       "      <td>0.776792</td>\n",
       "    </tr>\n",
       "    <tr>\n",
       "      <th>41</th>\n",
       "      <td>Sports</td>\n",
       "      <td>2014</td>\n",
       "      <td>0.836111</td>\n",
       "    </tr>\n",
       "    <tr>\n",
       "      <th>42</th>\n",
       "      <td>Sports</td>\n",
       "      <td>2015</td>\n",
       "      <td>0.692203</td>\n",
       "    </tr>\n",
       "    <tr>\n",
       "      <th>43</th>\n",
       "      <td>Sports</td>\n",
       "      <td>2016</td>\n",
       "      <td>0.489375</td>\n",
       "    </tr>\n",
       "    <tr>\n",
       "      <th>44</th>\n",
       "      <td>Strategy</td>\n",
       "      <td>2013</td>\n",
       "      <td>0.322105</td>\n",
       "    </tr>\n",
       "    <tr>\n",
       "      <th>45</th>\n",
       "      <td>Strategy</td>\n",
       "      <td>2014</td>\n",
       "      <td>0.122500</td>\n",
       "    </tr>\n",
       "    <tr>\n",
       "      <th>46</th>\n",
       "      <td>Strategy</td>\n",
       "      <td>2015</td>\n",
       "      <td>0.115625</td>\n",
       "    </tr>\n",
       "    <tr>\n",
       "      <th>47</th>\n",
       "      <td>Strategy</td>\n",
       "      <td>2016</td>\n",
       "      <td>0.086923</td>\n",
       "    </tr>\n",
       "  </tbody>\n",
       "</table>\n",
       "</div>"
      ],
      "text/plain": [
       "           genre  year_of_release  total_sales\n",
       "0         Action             2013     0.833401\n",
       "1         Action             2014     0.517181\n",
       "2         Action             2015     0.284664\n",
       "3         Action             2016     0.169157\n",
       "4      Adventure             2013     0.101500\n",
       "5      Adventure             2014     0.074267\n",
       "6      Adventure             2015     0.151111\n",
       "7      Adventure             2016     0.068214\n",
       "8       Fighting             2013     0.354500\n",
       "9       Fighting             2014     0.689130\n",
       "10      Fighting             2015     0.376190\n",
       "11      Fighting             2016     0.279375\n",
       "12          Misc             2013     0.601667\n",
       "13          Misc             2014     0.556667\n",
       "14          Misc             2015     0.296667\n",
       "15          Misc             2016     0.081250\n",
       "16      Platform             2013     0.681667\n",
       "17      Platform             2014     0.881000\n",
       "18      Platform             2015     0.465385\n",
       "19      Platform             2016     0.215333\n",
       "20        Puzzle             2013     0.320000\n",
       "21        Puzzle             2014     0.212857\n",
       "22        Puzzle             2015     0.118333\n",
       "23        Puzzle             2016     0.010000\n",
       "24        Racing             2013     0.773125\n",
       "25        Racing             2014     0.617037\n",
       "26        Racing             2015     0.448333\n",
       "27        Racing             2016     0.116250\n",
       "28  Role-Playing             2013     0.626056\n",
       "29  Role-Playing             2014     0.512584\n",
       "30  Role-Playing             2015     0.482564\n",
       "31  Role-Playing             2016     0.336667\n",
       "32       Shooter             2013     1.051525\n",
       "33       Shooter             2014     1.387447\n",
       "34       Shooter             2015     1.985588\n",
       "35       Shooter             2016     0.813191\n",
       "36    Simulation             2013     0.479444\n",
       "37    Simulation             2014     0.507273\n",
       "38    Simulation             2015     0.377333\n",
       "39    Simulation             2016     0.105000\n",
       "40        Sports             2013     0.776792\n",
       "41        Sports             2014     0.836111\n",
       "42        Sports             2015     0.692203\n",
       "43        Sports             2016     0.489375\n",
       "44      Strategy             2013     0.322105\n",
       "45      Strategy             2014     0.122500\n",
       "46      Strategy             2015     0.115625\n",
       "47      Strategy             2016     0.086923"
      ]
     },
     "execution_count": 72,
     "metadata": {},
     "output_type": "execute_result"
    }
   ],
   "source": [
    "grouped_genre  = new_data.groupby(['genre', 'year_of_release'])['total_sales'].mean().reset_index()\n",
    "grouped_genre"
   ]
  },
  {
   "cell_type": "code",
   "execution_count": 73,
   "id": "862dee32",
   "metadata": {},
   "outputs": [
    {
     "data": {
      "text/plain": [
       "0          Shooter\n",
       "1           Sports\n",
       "2         Platform\n",
       "3     Role-Playing\n",
       "4           Racing\n",
       "5           Action\n",
       "6         Fighting\n",
       "7             Misc\n",
       "8       Simulation\n",
       "9           Puzzle\n",
       "10        Strategy\n",
       "11       Adventure\n",
       "Name: genre, dtype: object"
      ]
     },
     "execution_count": 73,
     "metadata": {},
     "output_type": "execute_result"
    }
   ],
   "source": [
    "genre_order = grouped_genre.groupby(['genre'])['total_sales'].mean().sort_values(ascending=False).reset_index()['genre']\n",
    "genre_order"
   ]
  },
  {
   "cell_type": "code",
   "execution_count": 95,
   "id": "dc17b174",
   "metadata": {},
   "outputs": [
    {
     "data": {
      "image/png": "[encoded data removed]",
      "text/plain": [
       "<Figure size 864x504 with 1 Axes>"
      ]
     },
     "metadata": {
      "needs_background": "light"
     },
     "output_type": "display_data"
    }
   ],
   "source": [
    "plt.figure(figsize=(12,7))\n",
    "sns.boxplot(x='genre', y='total_sales', data=grouped_genre, order=genre_order)\n",
    "plt.title('Diagrama de caja para las ventas globales de todos los géneros por plataforma')\n",
    "plt.xlabel('Genero')\n",
    "plt.ylabel('Total Sales');"
   ]
  },
  {
   "cell_type": "markdown",
   "id": "6979bef2",
   "metadata": {},
   "source": [
    "**Conclusión**"
   ]
  },
  {
   "cell_type": "markdown",
   "id": "d83f0002",
   "metadata": {},
   "source": [
    "Si observamos el diagrama de caja de las ventas totales promedio en todos los géneros, podemos concluir que los géneros Strategy y Adventure siguen siendo los géneros menos rentables. Además, los géneros Shooter y Sports son los géneros más rentables."
   ]
  },
  {
   "cell_type": "markdown",
   "id": "34c813b8",
   "metadata": {},
   "source": [
    "## Paso 4. Crea un perfil de usuario para cada región"
   ]
  },
  {
   "cell_type": "markdown",
   "id": "9baa8944",
   "metadata": {},
   "source": [
    "### Las cinco plataformas principales. Describe las variaciones en sus cuotas de mercado de una región a otra."
   ]
  },
  {
   "cell_type": "markdown",
   "id": "3985feec",
   "metadata": {},
   "source": [
    "**Las cinco plataformas principales en la región na**"
   ]
  },
  {
   "cell_type": "code",
   "execution_count": 96,
   "id": "4c336606",
   "metadata": {},
   "outputs": [
    {
     "data": {
      "image/png": "[encoded data removed]",
      "text/plain": [
       "<Figure size 576x576 with 1 Axes>"
      ]
     },
     "metadata": {},
     "output_type": "display_data"
    }
   ],
   "source": [
    "new_data_region = new_data.groupby(['platform'])['na_sales'].sum().reset_index().sort_values(by='na_sales', ascending = False)\n",
    "top_5_platforms = new_data_region.head()\n",
    "(top_5_platforms.set_index('platform')\n",
    "                .plot(y='na_sales', kind='pie', \n",
    "                      title = 'Gráfico circular que muestra el tamaño relativo de las cinco plataformas populares en región na', \n",
    "                      figsize=(8, 8), autopct='%1.1f%%', shadow=True)\n",
    ");"
   ]
  },
  {
   "cell_type": "markdown",
   "id": "7cf93922",
   "metadata": {},
   "source": [
    "La plataforma con mayor cuota de mercado en la región NA es PS4 con un 28.2 %, mientras que 3DS tiene la menor cuota de mercado con un 9.9 %."
   ]
  },
  {
   "cell_type": "markdown",
   "id": "f893a06d",
   "metadata": {},
   "source": [
    "**Las cinco plataformas principales en la región eu**"
   ]
  },
  {
   "cell_type": "code",
   "execution_count": 76,
   "id": "10029833",
   "metadata": {},
   "outputs": [
    {
     "data": {
      "image/png": "[encoded data removed]",
      "text/plain": [
       "<Figure size 576x576 with 1 Axes>"
      ]
     },
     "metadata": {},
     "output_type": "display_data"
    }
   ],
   "source": [
    "new_data_region = new_data.groupby(['platform'])['eu_sales'].sum().reset_index().sort_values(by='eu_sales', ascending = False)\n",
    "top_5_platforms = new_data_region.head()\n",
    "(top_5_platforms.set_index('platform')\n",
    "                .plot(y='eu_sales', kind='pie', \n",
    "                      title = 'Gráfico circular que muestra el tamaño relativo de las cinco plataformas populares en región eu', \n",
    "                      figsize=(8, 8), autopct='%1.1f%%', shadow=True)\n",
    ");\n"
   ]
  },
  {
   "cell_type": "markdown",
   "id": "74ab70ca",
   "metadata": {},
   "source": [
    "La plataforma con mayor cuota de mercado en la región eu es PS4 con un 42.2 %, mientras que 3DS tiene la menor cuota de mercado con un 9.3 %."
   ]
  },
  {
   "cell_type": "markdown",
   "id": "8922692f",
   "metadata": {},
   "source": [
    "**Las cinco plataformas principales en la región jp**"
   ]
  },
  {
   "cell_type": "code",
   "execution_count": 77,
   "id": "cd3e403f",
   "metadata": {},
   "outputs": [
    {
     "data": {
      "image/png": "[encoded data removed]",
      "text/plain": [
       "<Figure size 576x576 with 1 Axes>"
      ]
     },
     "metadata": {},
     "output_type": "display_data"
    }
   ],
   "source": [
    "new_data_region = new_data.groupby(['platform'])['jp_sales'].sum().reset_index().sort_values(by='jp_sales', ascending = False)\n",
    "top_5_platforms = new_data_region.head()\n",
    "(top_5_platforms.set_index('platform')\n",
    "                .plot(y='jp_sales', kind='pie', \n",
    "                      title = 'Gráfico circular que muestra el tamaño relativo de las cinco plataformas populares en región jp', \n",
    "                      figsize=(8, 8), autopct='%1.1f%%', shadow=True)\n",
    ");"
   ]
  },
  {
   "cell_type": "markdown",
   "id": "37559672",
   "metadata": {},
   "source": [
    "La plataforma con mayor cuota de mercado en la región jp es 3DS con un 49.6 %, mientras que WiiU tiene la menor cuota de mercado con un 8 %."
   ]
  },
  {
   "cell_type": "markdown",
   "id": "555db463",
   "metadata": {},
   "source": [
    "**Conclusión**"
   ]
  },
  {
   "cell_type": "markdown",
   "id": "7f372583",
   "metadata": {},
   "source": [
    "Observamos varias variaciones en las cuotas de mercado en las cinco plataformas principales de una región a otra. En la región NA, PS4 tiene la mayor cuota de mercado. En la región de la UE, también PS4 tiene la mayor cuota de mercado. En la región de JP, el 3DS es el predominador total. "
   ]
  },
  {
   "cell_type": "markdown",
   "id": "952a68fe",
   "metadata": {},
   "source": [
    "### Los cinco géneros principales. Explica la diferencia."
   ]
  },
  {
   "cell_type": "markdown",
   "id": "e0f9ba9f",
   "metadata": {},
   "source": [
    "**Region NA**"
   ]
  },
  {
   "cell_type": "code",
   "execution_count": 78,
   "id": "07398be4",
   "metadata": {},
   "outputs": [
    {
     "data": {
      "text/html": [
       "<div>\n",
       "<style scoped>\n",
       "    .dataframe tbody tr th:only-of-type {\n",
       "        vertical-align: middle;\n",
       "    }\n",
       "\n",
       "    .dataframe tbody tr th {\n",
       "        vertical-align: top;\n",
       "    }\n",
       "\n",
       "    .dataframe thead th {\n",
       "        text-align: right;\n",
       "    }\n",
       "</style>\n",
       "<table border=\"1\" class=\"dataframe\">\n",
       "  <thead>\n",
       "    <tr style=\"text-align: right;\">\n",
       "      <th></th>\n",
       "      <th>genre</th>\n",
       "      <th>na_sales</th>\n",
       "    </tr>\n",
       "  </thead>\n",
       "  <tbody>\n",
       "    <tr>\n",
       "      <th>0</th>\n",
       "      <td>Action</td>\n",
       "      <td>126.05</td>\n",
       "    </tr>\n",
       "    <tr>\n",
       "      <th>1</th>\n",
       "      <td>Shooter</td>\n",
       "      <td>109.74</td>\n",
       "    </tr>\n",
       "    <tr>\n",
       "      <th>2</th>\n",
       "      <td>Sports</td>\n",
       "      <td>65.27</td>\n",
       "    </tr>\n",
       "    <tr>\n",
       "      <th>3</th>\n",
       "      <td>Role-Playing</td>\n",
       "      <td>46.40</td>\n",
       "    </tr>\n",
       "    <tr>\n",
       "      <th>4</th>\n",
       "      <td>Misc</td>\n",
       "      <td>27.49</td>\n",
       "    </tr>\n",
       "  </tbody>\n",
       "</table>\n",
       "</div>"
      ],
      "text/plain": [
       "          genre  na_sales\n",
       "0        Action    126.05\n",
       "1       Shooter    109.74\n",
       "2        Sports     65.27\n",
       "3  Role-Playing     46.40\n",
       "4          Misc     27.49"
      ]
     },
     "execution_count": 78,
     "metadata": {},
     "output_type": "execute_result"
    }
   ],
   "source": [
    "new_data_genre = new_data.groupby(['genre'])['na_sales'].sum().reset_index().sort_values(by='na_sales', ascending = False)\n",
    "top_5_genre_na = new_data_genre.head()\n",
    "top_5_genre_na.reset_index(drop=True)"
   ]
  },
  {
   "cell_type": "markdown",
   "id": "f87af158",
   "metadata": {},
   "source": [
    "**Region EU**"
   ]
  },
  {
   "cell_type": "code",
   "execution_count": 79,
   "id": "cd473dcb",
   "metadata": {},
   "outputs": [
    {
     "data": {
      "text/html": [
       "<div>\n",
       "<style scoped>\n",
       "    .dataframe tbody tr th:only-of-type {\n",
       "        vertical-align: middle;\n",
       "    }\n",
       "\n",
       "    .dataframe tbody tr th {\n",
       "        vertical-align: top;\n",
       "    }\n",
       "\n",
       "    .dataframe thead th {\n",
       "        text-align: right;\n",
       "    }\n",
       "</style>\n",
       "<table border=\"1\" class=\"dataframe\">\n",
       "  <thead>\n",
       "    <tr style=\"text-align: right;\">\n",
       "      <th></th>\n",
       "      <th>genre</th>\n",
       "      <th>eu_sales</th>\n",
       "    </tr>\n",
       "  </thead>\n",
       "  <tbody>\n",
       "    <tr>\n",
       "      <th>0</th>\n",
       "      <td>Action</td>\n",
       "      <td>118.13</td>\n",
       "    </tr>\n",
       "    <tr>\n",
       "      <th>1</th>\n",
       "      <td>Shooter</td>\n",
       "      <td>87.86</td>\n",
       "    </tr>\n",
       "    <tr>\n",
       "      <th>2</th>\n",
       "      <td>Sports</td>\n",
       "      <td>60.52</td>\n",
       "    </tr>\n",
       "    <tr>\n",
       "      <th>3</th>\n",
       "      <td>Role-Playing</td>\n",
       "      <td>36.97</td>\n",
       "    </tr>\n",
       "    <tr>\n",
       "      <th>4</th>\n",
       "      <td>Racing</td>\n",
       "      <td>20.19</td>\n",
       "    </tr>\n",
       "  </tbody>\n",
       "</table>\n",
       "</div>"
      ],
      "text/plain": [
       "          genre  eu_sales\n",
       "0        Action    118.13\n",
       "1       Shooter     87.86\n",
       "2        Sports     60.52\n",
       "3  Role-Playing     36.97\n",
       "4        Racing     20.19"
      ]
     },
     "execution_count": 79,
     "metadata": {},
     "output_type": "execute_result"
    }
   ],
   "source": [
    "new_data_genre = new_data.groupby(['genre'])['eu_sales'].sum().reset_index().sort_values(by='eu_sales', ascending = False)\n",
    "top_5_genre_eu = new_data_genre.head()\n",
    "top_5_genre_eu.reset_index(drop=True)"
   ]
  },
  {
   "cell_type": "markdown",
   "id": "acea3dc7",
   "metadata": {},
   "source": [
    "**Region JP**"
   ]
  },
  {
   "cell_type": "code",
   "execution_count": 80,
   "id": "ade3ea09",
   "metadata": {},
   "outputs": [
    {
     "data": {
      "text/html": [
       "<div>\n",
       "<style scoped>\n",
       "    .dataframe tbody tr th:only-of-type {\n",
       "        vertical-align: middle;\n",
       "    }\n",
       "\n",
       "    .dataframe tbody tr th {\n",
       "        vertical-align: top;\n",
       "    }\n",
       "\n",
       "    .dataframe thead th {\n",
       "        text-align: right;\n",
       "    }\n",
       "</style>\n",
       "<table border=\"1\" class=\"dataframe\">\n",
       "  <thead>\n",
       "    <tr style=\"text-align: right;\">\n",
       "      <th></th>\n",
       "      <th>genre</th>\n",
       "      <th>jp_sales</th>\n",
       "    </tr>\n",
       "  </thead>\n",
       "  <tbody>\n",
       "    <tr>\n",
       "      <th>0</th>\n",
       "      <td>Role-Playing</td>\n",
       "      <td>51.04</td>\n",
       "    </tr>\n",
       "    <tr>\n",
       "      <th>1</th>\n",
       "      <td>Action</td>\n",
       "      <td>40.49</td>\n",
       "    </tr>\n",
       "    <tr>\n",
       "      <th>2</th>\n",
       "      <td>Misc</td>\n",
       "      <td>9.20</td>\n",
       "    </tr>\n",
       "    <tr>\n",
       "      <th>3</th>\n",
       "      <td>Fighting</td>\n",
       "      <td>7.65</td>\n",
       "    </tr>\n",
       "    <tr>\n",
       "      <th>4</th>\n",
       "      <td>Shooter</td>\n",
       "      <td>6.61</td>\n",
       "    </tr>\n",
       "  </tbody>\n",
       "</table>\n",
       "</div>"
      ],
      "text/plain": [
       "          genre  jp_sales\n",
       "0  Role-Playing     51.04\n",
       "1        Action     40.49\n",
       "2          Misc      9.20\n",
       "3      Fighting      7.65\n",
       "4       Shooter      6.61"
      ]
     },
     "execution_count": 80,
     "metadata": {},
     "output_type": "execute_result"
    }
   ],
   "source": [
    "new_data_genre = new_data.groupby(['genre'])['jp_sales'].sum().reset_index().sort_values(by='jp_sales', ascending = False)\n",
    "top_5_genre_jp = new_data_genre.head()\n",
    "top_5_genre_jp.reset_index(drop=True)"
   ]
  },
  {
   "cell_type": "markdown",
   "id": "e1599f9a",
   "metadata": {},
   "source": [
    "**Conclusión**"
   ]
  },
  {
   "cell_type": "markdown",
   "id": "2198c943",
   "metadata": {},
   "source": [
    "La región NA y la región UE son bastante similares. La principal diferencia entre esas dos regiones es la presencia del género Misc en la región NA  frente a Racing en el mercado de la UE. La región JP es diferente de las otras regiones porque tiene el género Role-Playing que es el que mas vende, y el género Shooter es el que menos vende."
   ]
  },
  {
   "cell_type": "markdown",
   "id": "1e9667b9",
   "metadata": {},
   "source": [
    "### Si las clasificaciones de ESRB afectan a las ventas en regiones individuales."
   ]
  },
  {
   "cell_type": "markdown",
   "id": "25a9859a",
   "metadata": {},
   "source": [
    "**Region NA**"
   ]
  },
  {
   "cell_type": "code",
   "execution_count": 97,
   "id": "8113a35d",
   "metadata": {},
   "outputs": [
    {
     "data": {
      "text/html": [
       "<div>\n",
       "<style scoped>\n",
       "    .dataframe tbody tr th:only-of-type {\n",
       "        vertical-align: middle;\n",
       "    }\n",
       "\n",
       "    .dataframe tbody tr th {\n",
       "        vertical-align: top;\n",
       "    }\n",
       "\n",
       "    .dataframe thead th {\n",
       "        text-align: right;\n",
       "    }\n",
       "</style>\n",
       "<table border=\"1\" class=\"dataframe\">\n",
       "  <thead>\n",
       "    <tr style=\"text-align: right;\">\n",
       "      <th></th>\n",
       "      <th>rating</th>\n",
       "      <th>na_sales</th>\n",
       "    </tr>\n",
       "  </thead>\n",
       "  <tbody>\n",
       "    <tr>\n",
       "      <th>0</th>\n",
       "      <td>M</td>\n",
       "      <td>165.21</td>\n",
       "    </tr>\n",
       "    <tr>\n",
       "      <th>1</th>\n",
       "      <td>Valor desconocido</td>\n",
       "      <td>89.42</td>\n",
       "    </tr>\n",
       "    <tr>\n",
       "      <th>2</th>\n",
       "      <td>E</td>\n",
       "      <td>79.05</td>\n",
       "    </tr>\n",
       "    <tr>\n",
       "      <th>3</th>\n",
       "      <td>E10+</td>\n",
       "      <td>54.24</td>\n",
       "    </tr>\n",
       "    <tr>\n",
       "      <th>4</th>\n",
       "      <td>T</td>\n",
       "      <td>49.79</td>\n",
       "    </tr>\n",
       "  </tbody>\n",
       "</table>\n",
       "</div>"
      ],
      "text/plain": [
       "              rating  na_sales\n",
       "0                  M    165.21\n",
       "1  Valor desconocido     89.42\n",
       "2                  E     79.05\n",
       "3               E10+     54.24\n",
       "4                  T     49.79"
      ]
     },
     "execution_count": 97,
     "metadata": {},
     "output_type": "execute_result"
    }
   ],
   "source": [
    "new_data_ratings_na = new_data.groupby(['rating'])['na_sales'].sum().reset_index().sort_values(by='na_sales', ascending = False)\n",
    "new_data_ratings_na = new_data_ratings_na.reset_index(drop=True)\n",
    "new_data_ratings_na"
   ]
  },
  {
   "cell_type": "markdown",
   "id": "68f6865c",
   "metadata": {},
   "source": [
    "**Region EU**"
   ]
  },
  {
   "cell_type": "code",
   "execution_count": 98,
   "id": "e6e61630",
   "metadata": {},
   "outputs": [
    {
     "data": {
      "text/html": [
       "<div>\n",
       "<style scoped>\n",
       "    .dataframe tbody tr th:only-of-type {\n",
       "        vertical-align: middle;\n",
       "    }\n",
       "\n",
       "    .dataframe tbody tr th {\n",
       "        vertical-align: top;\n",
       "    }\n",
       "\n",
       "    .dataframe thead th {\n",
       "        text-align: right;\n",
       "    }\n",
       "</style>\n",
       "<table border=\"1\" class=\"dataframe\">\n",
       "  <thead>\n",
       "    <tr style=\"text-align: right;\">\n",
       "      <th></th>\n",
       "      <th>rating</th>\n",
       "      <th>eu_sales</th>\n",
       "    </tr>\n",
       "  </thead>\n",
       "  <tbody>\n",
       "    <tr>\n",
       "      <th>0</th>\n",
       "      <td>M</td>\n",
       "      <td>145.32</td>\n",
       "    </tr>\n",
       "    <tr>\n",
       "      <th>1</th>\n",
       "      <td>E</td>\n",
       "      <td>83.36</td>\n",
       "    </tr>\n",
       "    <tr>\n",
       "      <th>2</th>\n",
       "      <td>Valor desconocido</td>\n",
       "      <td>78.91</td>\n",
       "    </tr>\n",
       "    <tr>\n",
       "      <th>3</th>\n",
       "      <td>E10+</td>\n",
       "      <td>42.69</td>\n",
       "    </tr>\n",
       "    <tr>\n",
       "      <th>4</th>\n",
       "      <td>T</td>\n",
       "      <td>41.95</td>\n",
       "    </tr>\n",
       "  </tbody>\n",
       "</table>\n",
       "</div>"
      ],
      "text/plain": [
       "              rating  eu_sales\n",
       "0                  M    145.32\n",
       "1                  E     83.36\n",
       "2  Valor desconocido     78.91\n",
       "3               E10+     42.69\n",
       "4                  T     41.95"
      ]
     },
     "execution_count": 98,
     "metadata": {},
     "output_type": "execute_result"
    }
   ],
   "source": [
    "new_data_ratings_eu = new_data.groupby(['rating'])['eu_sales'].sum().reset_index().sort_values(by='eu_sales', ascending = False)\n",
    "new_data_ratings_eu = new_data_ratings_eu.reset_index(drop=True)\n",
    "new_data_ratings_eu"
   ]
  },
  {
   "cell_type": "markdown",
   "id": "94e17fd5",
   "metadata": {},
   "source": [
    "**Region JP**"
   ]
  },
  {
   "cell_type": "code",
   "execution_count": 99,
   "id": "af72d348",
   "metadata": {},
   "outputs": [
    {
     "data": {
      "text/html": [
       "<div>\n",
       "<style scoped>\n",
       "    .dataframe tbody tr th:only-of-type {\n",
       "        vertical-align: middle;\n",
       "    }\n",
       "\n",
       "    .dataframe tbody tr th {\n",
       "        vertical-align: top;\n",
       "    }\n",
       "\n",
       "    .dataframe thead th {\n",
       "        text-align: right;\n",
       "    }\n",
       "</style>\n",
       "<table border=\"1\" class=\"dataframe\">\n",
       "  <thead>\n",
       "    <tr style=\"text-align: right;\">\n",
       "      <th></th>\n",
       "      <th>rating</th>\n",
       "      <th>jp_sales</th>\n",
       "    </tr>\n",
       "  </thead>\n",
       "  <tbody>\n",
       "    <tr>\n",
       "      <th>0</th>\n",
       "      <td>Valor desconocido</td>\n",
       "      <td>85.05</td>\n",
       "    </tr>\n",
       "    <tr>\n",
       "      <th>1</th>\n",
       "      <td>T</td>\n",
       "      <td>20.59</td>\n",
       "    </tr>\n",
       "    <tr>\n",
       "      <th>2</th>\n",
       "      <td>E</td>\n",
       "      <td>15.14</td>\n",
       "    </tr>\n",
       "    <tr>\n",
       "      <th>3</th>\n",
       "      <td>M</td>\n",
       "      <td>14.11</td>\n",
       "    </tr>\n",
       "    <tr>\n",
       "      <th>4</th>\n",
       "      <td>E10+</td>\n",
       "      <td>5.89</td>\n",
       "    </tr>\n",
       "  </tbody>\n",
       "</table>\n",
       "</div>"
      ],
      "text/plain": [
       "              rating  jp_sales\n",
       "0  Valor desconocido     85.05\n",
       "1                  T     20.59\n",
       "2                  E     15.14\n",
       "3                  M     14.11\n",
       "4               E10+      5.89"
      ]
     },
     "execution_count": 99,
     "metadata": {},
     "output_type": "execute_result"
    }
   ],
   "source": [
    "new_data_ratings_jp = new_data.groupby(['rating'])['jp_sales'].sum().reset_index().sort_values(by='jp_sales', ascending = False)\n",
    "new_data_ratings_jp = new_data_ratings_jp.reset_index(drop=True)\n",
    "new_data_ratings_jp"
   ]
  },
  {
   "cell_type": "markdown",
   "id": "c4631f6a",
   "metadata": {},
   "source": [
    "**Conclusión**"
   ]
  },
  {
   "cell_type": "markdown",
   "id": "6649a5df",
   "metadata": {},
   "source": [
    "Mirando el resultado, la calificación ESRB afecta las ventas en regiones individuales. En cada una de las tres regiones, las calificaciones E, T, M y E10+ obtuvieron las ventas más altas. "
   ]
  },
  {
   "cell_type": "markdown",
   "id": "f7363647",
   "metadata": {},
   "source": [
    "**Conclusión**"
   ]
  },
  {
   "cell_type": "markdown",
   "id": "72799982",
   "metadata": {},
   "source": [
    "Observamos varias variaciones en las cuotas de mercado en las cinco plataformas principales de una región a otra. En la región NA, PS4 tiene la mayor cuota de mercado. En la región de la UE, PS4 tiene la mayor cuota de mercado. En la región de Japón, la 3DS tiene la mayor cuota de mercado. La región NA y la región UE son bastante similares. La principal diferencia entre esas dos regiones es la presencia del género Misc en el mercado de NA frente a Racing en el mercado de la UE. La región JP es diferente de las otras regiones en los generos. Al observar las calificaciones de las regiones, descubrimos que la calificación ESRB afecta las ventas en regiones individuales. En las Regiones NA y EU, las calificaciones que más vendieron fueron M, E, E10+ y por último T. La región JP, la calificación mas vendida es valor desconocido, después serían T, E, M y E10+."
   ]
  },
  {
   "cell_type": "markdown",
   "id": "10ecac65",
   "metadata": {},
   "source": [
    "## Paso 5. Prueba las siguientes hipótesis:"
   ]
  },
  {
   "cell_type": "markdown",
   "id": "acd4ceb1",
   "metadata": {},
   "source": [
    "### Las calificaciones promedio de los usuarios para las plataformas Xbox One y PC son las mismas."
   ]
  },
  {
   "cell_type": "markdown",
   "id": "fd855ca1",
   "metadata": {},
   "source": [
    "- Hipotesis Nula: Las calificaciones promedio de los usuarios de Xbox One son las mismas que las calificaciones promedio de los usuarios de las plataformas de PC\n",
    "\n",
    "- Hipotesis alternativa: Las calificaciones promedio de los usuarios de Xbox One son diferentes que las calificaciones promedio de los usuarios de las plataformas de PC"
   ]
  },
  {
   "cell_type": "code",
   "execution_count": 84,
   "id": "9edd9424",
   "metadata": {},
   "outputs": [],
   "source": [
    "from scipy.stats import levene"
   ]
  },
  {
   "cell_type": "code",
   "execution_count": 109,
   "id": "332a6488",
   "metadata": {},
   "outputs": [
    {
     "name": "stdout",
     "output_type": "stream",
     "text": [
      "La valoración media de los usuarios de Xbox1 es 6.521 and La valoración media de los usuarios de PC es 6.270\n"
     ]
    }
   ],
   "source": [
    "#Calificaciones promedio de xbox one y PC\n",
    "xbox1_avg = new_data[new_data.platform == 'XOne']['user_score'].mean()\n",
    "pc_avg = new_data[new_data.platform == 'PC']['user_score'].mean()\n",
    "print('La valoración media de los usuarios de Xbox1 es {:.3f}'.format(xbox1_avg) + ' and ' + \\\n",
    "      'La valoración media de los usuarios de PC es {:.3f}'.format(pc_avg))"
   ]
  },
  {
   "cell_type": "code",
   "execution_count": 103,
   "id": "ef31ba19",
   "metadata": {},
   "outputs": [
    {
     "data": {
      "text/plain": [
       "[1.9069968429360695, 2.3492243750768527]"
      ]
     },
     "execution_count": 103,
     "metadata": {},
     "output_type": "execute_result"
    }
   ],
   "source": [
    "[np.var(x, ddof=1) for x in [xbox_one, pc]]"
   ]
  },
  {
   "cell_type": "code",
   "execution_count": 108,
   "id": "1cb97787",
   "metadata": {},
   "outputs": [
    {
     "name": "stdout",
     "output_type": "stream",
     "text": [
      "p-value:  0.1475959401343032\n",
      "No rechazamos la hipótesis nula\n"
     ]
    }
   ],
   "source": [
    "xbox_one = new_data[new_data.platform == 'XOne']['user_score']\n",
    "pc = new_data[new_data.platform == 'PC']['user_score']\n",
    "\n",
    "# Establecer significación estadística crítica\n",
    "alpha = 0.05\n",
    "\n",
    "# probar la hipótesis de que las medias de las dos poblaciones independientes son las mismas\n",
    "results = st.ttest_ind(xbox_one, pc, equal_var = False, nan_policy='omit')\n",
    "print('p-value: ', results.pvalue)\n",
    "\n",
    "# comparar el valor p con el nivel de significancia\n",
    "if results.pvalue < alpha:\n",
    "    print('Rechazamos la hipótesis nula')\n",
    "else:\n",
    "    print('No rechazamos la hipótesis nula')"
   ]
  },
  {
   "cell_type": "markdown",
   "id": "71fac01d",
   "metadata": {},
   "source": [
    "**Conclusión**"
   ]
  },
  {
   "cell_type": "markdown",
   "id": "80c35828",
   "metadata": {},
   "source": [
    "Formulamos la hipótesis nula al afirmar que no hay diferencia entre las calificaciones promedio de los usuarios de las plataformas Xbox One y PC. Utilizamos un nivel de significación de 0,05. Dado que el valor p es mayor que = 0,05, no podemos rechazar la hipótesis nula. La evidencia sugiere que no existe una diferencia estadísticamente significativa entre las calificaciones promedio de los usuarios de las plataformas Xbox One y PC, es decir, las calificaciones promedio de los usuarios de Xbox One y las calificaciones promedio de los usuarios de las plataformas PC son las mismas."
   ]
  },
  {
   "cell_type": "markdown",
   "id": "2ec2b5be",
   "metadata": {},
   "source": [
    "### Las calificaciones promedio de los usuarios para los géneros de Acción y Deportes son diferentes."
   ]
  },
  {
   "cell_type": "markdown",
   "id": "6fc385e9",
   "metadata": {},
   "source": [
    "- Hipotesis Nula: Las calificaciones promedio de los usuarios para los géneros de Acción y Deportes son iguales.\n",
    "\n",
    "- Hipotesis Alternativa: Las calificaciones promedio de los usuarios para los géneros de Acción y Deportes son diferentes."
   ]
  },
  {
   "cell_type": "code",
   "execution_count": 113,
   "id": "1df4f091",
   "metadata": {},
   "outputs": [
    {
     "name": "stdout",
     "output_type": "stream",
     "text": [
      "La valoración media de los usuarios de género action es 6.838 and La valoración media de los usuarios de género sports es 5.238\n"
     ]
    }
   ],
   "source": [
    "#Calificaciones promedio de usuarios de los géneros Acción y Deportes\n",
    "action_avg = new_data[new_data.genre == 'Action']['user_score'].mean()\n",
    "sports_avg = new_data[new_data.genre == 'Sports']['user_score'].mean()\n",
    "print('La valoración media de los usuarios de género action es {:.3f}'.format(action_avg) + ' and ' + \\\n",
    "      'La valoración media de los usuarios de género sports es {:.3f}'.format(sports_avg))"
   ]
  },
  {
   "cell_type": "code",
   "execution_count": 119,
   "id": "e8ef473b",
   "metadata": {},
   "outputs": [
    {
     "data": {
      "text/plain": [
       "[1.7693609042482705, 3.180612814465409]"
      ]
     },
     "execution_count": 119,
     "metadata": {},
     "output_type": "execute_result"
    }
   ],
   "source": [
    "[np.var(x, ddof=1) for x in [action, sports]]"
   ]
  },
  {
   "cell_type": "code",
   "execution_count": 118,
   "id": "9c3b98c9",
   "metadata": {
    "scrolled": true
   },
   "outputs": [
    {
     "name": "stdout",
     "output_type": "stream",
     "text": [
      "p-value:  1.4460039700703482e-20\n",
      "Rechazamos la hipótesis nula\n"
     ]
    }
   ],
   "source": [
    "action = new_data[new_data.genre == 'Action']['user_score']\n",
    "sports = new_data[new_data.genre == 'Sports']['user_score']\n",
    "\n",
    "# Establecer significación estadística crítica\n",
    "alpha = 0.05\n",
    "\n",
    "# probar la hipótesis de que las medias de las dos poblaciones independientes son diferentes\n",
    "results = st.ttest_ind(action, sports, equal_var = False, nan_policy='omit')\n",
    "print('p-value: ', results.pvalue)\n",
    "\n",
    "# comparar el valor p con el nivel de significancia\n",
    "if results.pvalue < alpha:\n",
    "    print('Rechazamos la hipótesis nula')\n",
    "else:\n",
    "    print('No rechazamos la hipótesis nula')"
   ]
  },
  {
   "cell_type": "markdown",
   "id": "6c50c0f5",
   "metadata": {},
   "source": [
    "**Conclusión**"
   ]
  },
  {
   "cell_type": "markdown",
   "id": "c14e203b",
   "metadata": {},
   "source": [
    "Formulamos la hipótesis nula al afirmar que las calificaciones promedio de los usuarios para los géneros de Acción y Deportes son las mismas. Utilizamos un nivel de significación de 0,05. Dado que el valor p es menor que = 0.05, Rechazamos la hipótesis nula. Nuestro análisis sugiere que existe una diferencia estadísticamente significativa entre las calificaciones promedio de los usuarios para los géneros de Acción y Deportes. es decir, las calificaciones promedio de los usuarios para los géneros de Acción y Deportes son diferentes."
   ]
  },
  {
   "cell_type": "markdown",
   "id": "a8bf2255",
   "metadata": {},
   "source": [
    "## Paso 6. Escribe una conclusión general"
   ]
  },
  {
   "cell_type": "markdown",
   "id": "9d5aef2a",
   "metadata": {},
   "source": [
    "Al observar la información general, observamos que 6 columnas tienen valores nulos. También observamos que algunas columnas tenían el tipo de datos incorrecto, por lo que debemos convertir los datos al tipo correcto. Convertimos Year_of_Release de float a int, User_Score de cadena a int. Luego preprocesamos los datos descartando las filas con valores faltantes en la columna de nombre y género, ya que los valores faltantes son menos del 1%. En la columna rating, cambiamos los datos NaN por Valor desconocido. En las columnas user_score y critic_score las dejamos como venían, ya que aplicando la media o la mediana a los datos ausentes, podría afectar la calificación del juego. En la columna years_of_release, eliminamos los datos nulos ya que eran el 1,6% de los datos. La abreviatura tbd se manejó como 'NaN' en el conjunto de datos.\n",
    "\n",
    "Al analizar nuestros datos, investigamos cuántos juegos se lanzaron en diferentes años y observamos que se lanzaron más juegos entre los años 2001 y 2016. La mayoría de los juegos se lanzaron entre los años 2005 y 2011. El año con la mayor cantidad de juegos lanzados fue 2008 Determinamos a partir del análisis que el período de 2000 a 2016 fue significativo y que el año entre 2007 y 2010 tuvo la mayor importancia en los datos. Al analizar la variación de ventas entre las plataformas, podemos ver que PS2, DS, PS3, Wii y X360 fueron las cinco plataformas principales en términos de ventas totales. Las plataformas con menos ventas fueron SCD, WS, 3DO, TG16, PCFX y GG. También determinamos que la PC tuvo la venta más alta en 2011. La PC es la plataforma con la vida útil más larga entre las demás plataformas vendidas durante unos 30 años. Por lo general, se necesitan alrededor de 6 años para que aparezcan nuevas plataformas y las antiguas desaparezcan.\n",
    "\n",
    "Elegimos el periodo entre 2013 y 2016. Determinamos que las plataformas más rentables eran PS4, XOne, PS3, 3DS y X360 según las ventas totales en el periodo entre 2013 y 2016.  PSV, Wii, PSP y DS son las peores plataformas en términos de ventas totales con valores muy por debajo de la media de los datos. Observamos cómo las reseñas de usuarios y profesionales no afectan las ventas de una plataforma popular durante el período entre 2013 y 2016. \n",
    "\n",
    "Analizamos los generos de los juegos, lo que reflejó que los juegos mas rentables según el promedio de ventas, son los Shooter y Sports. Caso contrario, los juegos menos rentables son los de Strategy y Adventure.\n",
    "\n",
    "Examinamos los datos más a fondo y observamos varias variaciones en las cuotas de mercado en las cinco plataformas principales de una región a otra. En la región NA, PS4 tiene la mayor cuota de mercado. En la región de la UE, PS4 tiene la mayor cuota de mercado. En la región de Japón, la 3DS tiene la mayor cuota de mercado. La región NA y la región UE son bastante similares. La principal diferencia entre esas dos regiones es la presencia del género Misc en el mercado de NA frente a Racing en el mercado de la UE. La región JP es diferente de las otras regiones. Al observar las calificaciones de las regiones, descubrimos que la calificación ESRB afecta las ventas en regiones individuales. En cada una de las tres regiones, las calificaciones E, T, M y E10+ obtuvieron las ventas más altas. \n",
    "\n",
    "Formulamos la hipótesis nula al afirmar que no hay diferencia entre las calificaciones promedio de los usuarios de las plataformas Xbox One y PC. Utilizamos un nivel de significación de 0,05. Dado que el valor p es mayor que = 0,05, no podemos rechazar la hipótesis nula. La evidencia sugiere que no existe una diferencia estadísticamente significativa entre las calificaciones promedio de los usuarios de las plataformas Xbox One y PC, es decir, las calificaciones promedio de los usuarios de Xbox One y las calificaciones promedio de los usuarios de las plataformas PC son las mismas.\n",
    "\n",
    "Formulamos la hipótesis nula al afirmar que las calificaciones promedio de los usuarios para los géneros de Acción y Deportes son las mismas. Utilizamos un nivel de significación de 0,05. Dado que el valor p es menor que = 0.05, Rechazamos la hipótesis nula. Nuestro análisis sugiere que existe una diferencia estadísticamente significativa entre las calificaciones promedio de los usuarios para los géneros de Acción y Deportes. es decir, las calificaciones promedio de los usuarios para los géneros de Acción y Deportes son diferentes.\n",
    "\n"
   ]
  }
 ],
 "metadata": {
  "kernelspec": {
   "display_name": "Python 3 (ipykernel)",
   "language": "python",
   "name": "python3"
  },
  "language_info": {
   "codemirror_mode": {
    "name": "ipython",
    "version": 3
   },
   "file_extension": ".py",
   "mimetype": "text/x-python",
   "name": "python",
   "nbconvert_exporter": "python",
   "pygments_lexer": "ipython3",
   "version": "3.9.13"
  },
  "toc": {
   "base_numbering": 1,
   "nav_menu": {},
   "number_sections": true,
   "sideBar": true,
   "skip_h1_title": true,
   "title_cell": "Table of Contents",
   "title_sidebar": "Contents",
   "toc_cell": false,
   "toc_position": {},
   "toc_section_display": true,
   "toc_window_display": false
  }
 },
 "nbformat": 4,
 "nbformat_minor": 5
}
